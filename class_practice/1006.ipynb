{
 "cells": [
  {
   "cell_type": "code",
   "execution_count": null,
   "id": "6a71a586",
   "metadata": {},
   "outputs": [],
   "source": [
    "import pasdas as pd\n",
    "d=pd.read_csv('diabtes.csv')\n",
    "\n",
    "// 50세 이상인 사람들만 뽑아서 series데이터 타입으로 나타내고 히스토그램 그리기\n",
    "// gluose.BMI만 나타내기\n",
    "// outcome이 1인 사람들"
   ]
  }
 ],
 "metadata": {
  "kernelspec": {
   "display_name": "Python 3 (ipykernel)",
   "language": "python",
   "name": "python3"
  },
  "language_info": {
   "codemirror_mode": {
    "name": "ipython",
    "version": 3
   },
   "file_extension": ".py",
   "mimetype": "text/x-python",
   "name": "python",
   "nbconvert_exporter": "python",
   "pygments_lexer": "ipython3",
   "version": "3.9.6"
  }
 },
 "nbformat": 4,
 "nbformat_minor": 5
}
