{
 "cells": [
  {
   "cell_type": "code",
   "execution_count": 3,
   "id": "4fef35b5",
   "metadata": {},
   "outputs": [
    {
     "ename": "TypeError",
     "evalue": "_linspace_dispatcher() got an unexpected keyword argument 'linestyle'",
     "output_type": "error",
     "traceback": [
      "\u001b[0;31m---------------------------------------------------------------------------\u001b[0m",
      "\u001b[0;31mTypeError\u001b[0m                                 Traceback (most recent call last)",
      "Cell \u001b[0;32mIn [3], line 18\u001b[0m\n\u001b[1;32m      6\u001b[0m \u001b[38;5;66;03m# plt.subplot(2,3,3) #전체 자료형 : 행 2, 열3, 사각형 3번째\u001b[39;00m\n\u001b[1;32m      7\u001b[0m \u001b[38;5;66;03m# a = np.array([1,2,3,4]) # 데이터 설정\u001b[39;00m\n\u001b[1;32m      8\u001b[0m \u001b[38;5;66;03m# b = np.array([1,2,3,4])\u001b[39;00m\n\u001b[0;32m   (...)\u001b[0m\n\u001b[1;32m     13\u001b[0m \u001b[38;5;66;03m# b = np.array([1,2,3,4])\u001b[39;00m\n\u001b[1;32m     14\u001b[0m \u001b[38;5;66;03m# plt.plot(a, b) # 그림 그리기\u001b[39;00m\n\u001b[1;32m     17\u001b[0m plt\u001b[38;5;241m.\u001b[39msubplot(\u001b[38;5;241m1\u001b[39m, \u001b[38;5;241m3\u001b[39m, \u001b[38;5;241m1\u001b[39m)\n\u001b[0;32m---> 18\u001b[0m singr \u001b[38;5;241m=\u001b[39m np\u001b[38;5;241m.\u001b[39mlinspace(\u001b[38;5;241m-\u001b[39m\u001b[38;5;241m10\u001b[39m, \u001b[38;5;241m10\u001b[39m, \u001b[38;5;241m1000\u001b[39m, linestyle\u001b[38;5;241m=\u001b[39m\u001b[38;5;124m\"\u001b[39m\u001b[38;5;124m:\u001b[39m\u001b[38;5;124m\"\u001b[39m, color \u001b[38;5;241m=\u001b[39m \u001b[38;5;124m\"\u001b[39m\u001b[38;5;124mred\u001b[39m\u001b[38;5;124m\"\u001b[39m)\n\u001b[1;32m     19\u001b[0m plt\u001b[38;5;241m.\u001b[39mplot(singr, cosgr, sin_plus_cosgr)\n\u001b[1;32m     22\u001b[0m plt\u001b[38;5;241m.\u001b[39msubplot(\u001b[38;5;241m1\u001b[39m, \u001b[38;5;241m3\u001b[39m, \u001b[38;5;241m2\u001b[39m)\n",
      "File \u001b[0;32m<__array_function__ internals>:179\u001b[0m, in \u001b[0;36mlinspace\u001b[0;34m(*args, **kwargs)\u001b[0m\n",
      "\u001b[0;31mTypeError\u001b[0m: _linspace_dispatcher() got an unexpected keyword argument 'linestyle'"
     ]
    },
    {
     "data": {
      "image/png": "[encoded data removed]",
      "text/plain": [
       "<Figure size 640x480 with 1 Axes>"
      ]
     },
     "metadata": {},
     "output_type": "display_data"
    }
   ],
   "source": [
    "import numpy as np\n",
    "import matplotlib.pyplot as plt\n",
    "\n",
    "\n",
    "\n",
    "# plt.subplot(2,3,3) #전체 자료형 : 행 2, 열3, 사각형 3번째\n",
    "# a = np.array([1,2,3,4]) # 데이터 설정\n",
    "# b = np.array([1,2,3,4])\n",
    "# plt.plot(a, b) # 그림 그리기\n",
    "\n",
    "# plt.subplot(2,3,4) #전체 자료형: 2, 열3, 사각형 4번째\n",
    "# a = np.array([1,2,3,4]) # 데이터 설정\n",
    "# b = np.array([1,2,3,4])\n",
    "# plt.plot(a, b) # 그림 그리기\n",
    "\n",
    "\n",
    "plt.subplot(1, 3, 1)\n",
    "singr = np.linspace(-10, 10, 1000, linestyle=\":\", color = \"red\")\n",
    "plt.plot(singr, cosgr, sin_plus_cosgr)\n",
    "\n",
    "\n",
    "plt.subplot(1, 3, 2)\n",
    "cosgr = np.linspace(-10, 10, 1000, linestyle=\"-.\", color = \"blue\")\n",
    "plt.plot(singr, cosgr, sin_plus_cosgr)\n",
    "\n",
    "plt.subplot(1, 3, 3)\n",
    "sin_plus_cosgr = np.linspace(-10, 10, 1000, linestyle=\"-\", color = \"black\")\n",
    "plt.plot(singr, cosgr, sin_plus_cosgr)\n",
    "\n",
    "plt.show()"
   ]
  },
  {
   "cell_type": "code",
   "execution_count": null,
   "id": "314497ae",
   "metadata": {},
   "outputs": [],
   "source": []
  }
 ],
 "metadata": {
  "kernelspec": {
   "display_name": "Python 3 (ipykernel)",
   "language": "python",
   "name": "python3"
  },
  "language_info": {
   "codemirror_mode": {
    "name": "ipython",
    "version": 3
   },
   "file_extension": ".py",
   "mimetype": "text/x-python",
   "name": "python",
   "nbconvert_exporter": "python",
   "pygments_lexer": "ipython3",
   "version": "3.9.6"
  }
 },
 "nbformat": 4,
 "nbformat_minor": 5
}
