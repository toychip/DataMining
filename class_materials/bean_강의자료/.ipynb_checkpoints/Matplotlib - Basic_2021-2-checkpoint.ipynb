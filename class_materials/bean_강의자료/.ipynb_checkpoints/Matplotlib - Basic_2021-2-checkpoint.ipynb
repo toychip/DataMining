{
 "cells": [
  {
   "cell_type": "markdown",
   "metadata": {},
   "source": [
    "\n",
    "아래 강의 노트는 [Python Data Science Handbook](http://shop.oreilly.com/product/0636920034919.do) 4장을 기반으로 번역 및 편집하여 페이지 구성함  \n",
    "<img src= \"https://images-na.ssl-images-amazon.com/images/I/91RQTLQpYVL.jpg\"  width=20%>\n",
    "\n",
    "<font color =\"blue\"> **무단 배포를 금지 합니다.** </font>\n",
    "***\n",
    "\n",
    "\n",
    "*This notebook contains an excerpt from the [Python Data Science Handbook](http://shop.oreilly.com/product/0636920034919.do) by Jake VanderPlas; the content is available [on GitHub](https://github.com/jakevdp/PythonDataScienceHandbook).*\n",
    "\n",
    "*The text is released under the [CC-BY-NC-ND license](https://creativecommons.org/licenses/by-nc-nd/3.0/us/legalcode), and code is released under the [MIT license](https://opensource.org/licenses/MIT). If you find this content useful, please consider supporting the work by [buying the book](http://shop.oreilly.com/product/0636920034919.do)!*"
   ]
  },
  {
   "cell_type": "markdown",
   "metadata": {},
   "source": [
    "# 일반적인 matplotlib 사용법"
   ]
  },
  {
   "cell_type": "markdown",
   "metadata": {},
   "source": [
    "- **[matpotlib](http://shop.oreilly.com/product/0636920034919.do)** 를 참고하여 더 많은 예를 참고 바랍니다.\n",
    "\n",
    "- https://wikidocs.net/book/5011 이곳도 참고\n",
    "- https://matplotlib.org 이곳도 참고"
   ]
  },
  {
   "cell_type": "markdown",
   "metadata": {},
   "source": [
    "# Matplotlib 임포트 하기\n",
    "\n",
    "NumPy 약어로 ``np`` 사용 <br>\n",
    "Pandas 약어로 ``pd`` 사용"
   ]
  },
  {
   "cell_type": "code",
   "execution_count": 1,
   "metadata": {
    "pycharm": {
     "name": "#%%\n"
    }
   },
   "outputs": [],
   "source": [
    "import matplotlib as mpl\n",
    "import matplotlib.pyplot as plt  #x축에 대한 y축 그림 그리기\n"
   ]
  },
  {
   "cell_type": "markdown",
   "metadata": {},
   "source": [
    "전반적으로 ``plt`` 으로 많이 사용"
   ]
  },
  {
   "cell_type": "markdown",
   "metadata": {},
   "source": [
    "## 스타일 설정하기\n",
    "\n",
    " ``plt.style`` 사용해 그림에 적합한 스타일 선택 <br>\n",
    " \n",
    "``classic`` 을 사용 할 수 있고 다른 스타일을 원할 경우 [여기](https://matplotlib.org/3.1.1/gallery/style_sheets/style_sheets_reference.html) 참고 "
   ]
  },
  {
   "cell_type": "code",
   "execution_count": null,
   "metadata": {
    "pycharm": {
     "name": "#%%\n"
    }
   },
   "outputs": [],
   "source": [
    "plt.style.use('classic')  #그냥 그래프 꾸민 스타일 뭐 사용할건지"
   ]
  },
  {
   "cell_type": "markdown",
   "metadata": {},
   "source": [
    "스타일에 대한 자세항 사항은 327페이지에 조금더 자세히 배울 예정"
   ]
  },
  {
   "cell_type": "markdown",
   "metadata": {},
   "source": [
    "## ``show()`` 또는 No ``show()``? 플롯 표현의 방법"
   ]
  },
  {
   "cell_type": "markdown",
   "metadata": {},
   "source": [
    "Matplotlib는  a script, IPython 터미널, 또는 IPython notebook사용가능."
   ]
  },
  {
   "cell_type": "markdown",
   "metadata": {},
   "source": [
    "#### 스크립트에서 matplot을 이용하여 그림 그리기\n",
    "\n",
    "* script에서 Matplotlib를 사용한다면 ``plt.show()``를 이용하여 그림 그리기 가능.  ex) 파이참\n",
    "* ``plt.show()`` 는 이벤트 루프를 시작해 현재 활성화된 모든 그림 객체를 찾아서 그림을 표시\n",
    "* 하나 이상의 대화창 열기 가능.\n",
    "\n",
    "예를 들어  *myplot.py* 다음과 같이 구성될 경우:\n",
    "\n",
    "```python\n",
    "# ------- file: myplot.py ------\n",
    "import matplotlib.pyplot as plt\n",
    "import numpy as np\n",
    "\n",
    "x = np.linspace(0, 10, 100)\n",
    "\n",
    "plt.plot(x, np.sin(x))\n",
    "plt.plot(x, np.cos(x))\n",
    "\n",
    "plt.show()\n",
    "```\n",
    "\n",
    "커맨드 창에 다음과 같이 실행\n",
    "\n",
    "```\n",
    "$ python myplot.py\n",
    "```\n",
    "\n",
    "\n",
    "* ``plt.show()``파이썬 세션당 한번만 사용 가능\n",
    "* 스크립트의 맨 마지막에 사용\n",
    "* 여러번의 ``show()`` 할 경우, 백엔드 종속적인 동작을 일으킬 수 있으므로 피해야 함"
   ]
  },
  {
   "cell_type": "markdown",
   "metadata": {},
   "source": [
    "#### IPython shell에서 플로팅 하기\n",
    "\n",
    "IPython은 Matplotlib 모드 지정 하면  Matplotlib 사용 가능.\n",
    "``ipython`` 시작후 ``%matplotlib`` 모드 활성화\n",
    "\n",
    "```ipython\n",
    "In [1]: %matplotlib\n",
    "Using matplotlib backend: TkAgg\n",
    "\n",
    "In [2]: import matplotlib.pyplot as plt\n",
    "```\n",
    "\n",
    "``plt`` 그림창을 열고 선의 속성을 수정하는 등의 변경사항은 자동적으로 그려지지 않음 \n",
    " \n",
    "``plt.draw()``를 이용해 업데이트 가능.\n",
    "\n",
    "Matplotlib mode 에서는  ``plt.show()`` 사용하지 않아도 괜찮음."
   ]
  },
  {
   "cell_type": "code",
   "execution_count": null,
   "metadata": {
    "pycharm": {
     "name": "#%%\n"
    }
   },
   "outputs": [],
   "source": [
    "#%matplotlib"
   ]
  },
  {
   "cell_type": "code",
   "execution_count": null,
   "metadata": {
    "pycharm": {
     "name": "#%%\n"
    }
   },
   "outputs": [],
   "source": [
    "import matplotlib.pyplot as plt  # 이거는 IPython 'shell'에서 말하는거네!!!!! 주피터가 아니고!!!!"
   ]
  },
  {
   "cell_type": "markdown",
   "metadata": {},
   "source": [
    "#### IPython notebook 에서 플로팅하기\n",
    "\n",
    " IPython notebook은 IPython shell과 유사하게 ``%matplotlib`` 동작.\n",
    "\n",
    "- ``% matplotlib notebook`` 노트북 내의 대화형 플롯을 삽입\n",
    "- ``% matplotlib inline`` 노트북의 플롯의 정적 이미지 삽입\n",
    "\n",
    "이 책에서는 ``%matplotlib inline``옵션을 사용할 예정"
   ]
  },
  {
   "cell_type": "code",
   "execution_count": null,
   "metadata": {
    "pycharm": {
     "name": "#%%\n"
    }
   },
   "outputs": [],
   "source": [
    "%matplotlib inline"
   ]
  },
  {
   "cell_type": "markdown",
   "metadata": {},
   "source": [
    "이 명령어를 실행하면 플롯을 생성하는 노트북 내의 셀이 결과 그래픽의 PNG 이미지 삽입"
   ]
  },
  {
   "cell_type": "code",
   "execution_count": null,
   "metadata": {
    "pycharm": {
     "name": "#%%\n"
    }
   },
   "outputs": [],
   "source": [
    "import numpy as np\n",
    "#값이 100인 이유: 간격이 너무 좁으면 그림을 그렸을 때 부드럽게 연결되지 않음\n",
    "x = np.linspace(0, 10,100)  #0부터 10 사이를 100개의 간격으로 나눠라!!\n",
    "print(x.shape)\n",
    "fig = plt.figure()\n",
    "plt.plot(x, np.sin(x), '-')\n",
    "plt.plot(x, np.cos(x), '--');"
   ]
  },
  {
   "cell_type": "markdown",
   "metadata": {},
   "source": [
    "## 그림을 파일로 저장하기\n",
    "\n",
    "``savefig()`` 사용하여 그림 저장 가능"
   ]
  },
  {
   "cell_type": "code",
   "execution_count": null,
   "metadata": {
    "pycharm": {
     "name": "#%%\n"
    }
   },
   "outputs": [],
   "source": [
    "fig.savefig('my_figure.png')  #이런 이름으로 다음 그림을 저장하겠다"
   ]
  },
  {
   "cell_type": "markdown",
   "metadata": {},
   "source": [
    "현재 작업하고 있는 디렉토리에 ``my_figure.png`` 저장"
   ]
  },
  {
   "cell_type": "code",
   "execution_count": null,
   "metadata": {
    "pycharm": {
     "name": "#%%\n"
    }
   },
   "outputs": [],
   "source": [
    "!ls -lh my_figure.png"
   ]
  },
  {
   "cell_type": "markdown",
   "metadata": {},
   "source": [
    "IPython ``Image`` 객체를 이용하여 파일의 내용 표시"
   ]
  },
  {
   "cell_type": "code",
   "execution_count": null,
   "metadata": {
    "pycharm": {
     "name": "#%%\n"
    }
   },
   "outputs": [],
   "source": [
    "from IPython.display import Image\n",
    "Image('my_figure.png')  #해당 그림을 불러오겠다"
   ]
  },
  {
   "cell_type": "markdown",
   "metadata": {},
   "source": [
    " ``savefig()``에서 형식 지정 가능\n",
    " 패키지를 어느 백엔드에 설치 했는지에 따라 여러 가지 파일 형식 가능"
   ]
  },
  {
   "cell_type": "code",
   "execution_count": null,
   "metadata": {
    "pycharm": {
     "name": "#%%\n"
    }
   },
   "outputs": [],
   "source": [
    "fig.canvas.get_supported_filetypes()"
   ]
  },
  {
   "cell_type": "markdown",
   "metadata": {},
   "source": [
    "그림 저장시에는 ``plt.show()``와 같은 명령어 사용할 필요 없음."
   ]
  },
  {
   "cell_type": "markdown",
   "metadata": {},
   "source": [
    "#  인터페이스 두개\n",
    "\n",
    " * MATLAB-style 스타일의 상태 기반 인터페이스\n",
    " * 객체지향 인터페이스 "
   ]
  },
  {
   "cell_type": "markdown",
   "metadata": {},
   "source": [
    "#### MATLAB스타일 인터페이스\n",
    "\n",
    "Matplotlib은 MATLAB 사용자의 파이썬 대안으로 제작\n",
    "The MATLAB 스타일 도구는 matplotlib.pyplot (``plt``) 인터페이스에 포함.\n",
    "MATLAB 스타일"
   ]
  },
  {
   "cell_type": "code",
   "execution_count": null,
   "metadata": {
    "pycharm": {
     "name": "#%%\n"
    }
   },
   "outputs": [],
   "source": [
    "plt.figure()  # create a plot figure\n",
    "\n",
    "# create the first of two panels and set current axis\n",
    "plt.subplot(2, 1, 1) # (rows, columns, panel number)\n",
    "#2행 1열, 첫 번째 칸(1행)에 그리겠다\n",
    "plt.plot(x, np.sin(x))\n",
    "\n",
    "# create the second panel and set current axis\n",
    "plt.subplot(2, 1, 2)\n",
    "#2행 1열, 두 번째 칸(2행)에 그리겠다\n",
    "plt.plot(x, np.cos(x));\n",
    "\n",
    "#이거는 하나씩 반복하면 하나의 그림만 그려짐, 위의 칸을 그리면 아래는 백지임"
   ]
  },
  {
   "cell_type": "markdown",
   "metadata": {},
   "source": [
    "\n",
    "``plt.gcf()`` (get current figure : 현재 그림을 읽음) 와 ``plt.gca()`` (get current axes: 현재 축을 읽음) 사용하여 참조 가능\n",
    "\n"
   ]
  },
  {
   "cell_type": "markdown",
   "metadata": {},
   "source": [
    "#### 객체 지향 인터페이스\n",
    "\n",
    "객체지향 인터페이스에서 플로팅 함수는 \"활성화\" 그림이나 축의 개념에 의존하지 않는 명시적인  ``Figure`` 와 ``Axes`` 객체.\n"
   ]
  },
  {
   "cell_type": "code",
   "execution_count": null,
   "metadata": {
    "pycharm": {
     "name": "#%%\n"
    }
   },
   "outputs": [],
   "source": [
    "# First create a grid of plots\n",
    "# ax will be an array of two Axes objects\n",
    "fig, ax = plt.subplots(2)\n",
    "#첫 번째는 fig 객체, 두 번째는 축 객체\n",
    "\n",
    "# Call plot() method on the appropriate object\n",
    "ax[0].plot(x, np.sin(x))\n",
    "ax[1].plot(x, np.cos(x));\n",
    "\n",
    "#이거는 하나씩 반복해도 다른 틀이 나옴, 위의 칸을 그리면 아래는 빈 그래프\n",
    "#fig, ax = plt.subplots(2)를 해줘야 함, 한 번 show()를 실행하면 도화지(fig)는 사라짐 <-- 이거 맞는 이유일까????"
   ]
  },
  {
   "cell_type": "markdown",
   "metadata": {},
   "source": [
    "플롯이 복잡해 질수록 객체 지향 방식 사용\n",
    "둘의 차이는  ``plt.plot()`` 와 ``ax.plot()``바꿔쓰는 사소한 차이가 있음."
   ]
  },
  {
   "cell_type": "markdown",
   "metadata": {},
   "source": [
    "# 간단한 산점도"
   ]
  },
  {
   "cell_type": "code",
   "execution_count": null,
   "metadata": {
    "pycharm": {
     "name": "#%%\n"
    }
   },
   "outputs": [],
   "source": [
    "%matplotlib inline\n",
    "import matplotlib.pyplot as plt\n",
    "plt.style.use('seaborn-whitegrid')  #스타일 설정\n",
    "import numpy as np"
   ]
  },
  {
   "cell_type": "markdown",
   "metadata": {},
   "source": [
    "##  ``plt.plot`` 사용한 산점도\n",
    "\n",
    " ``plt.plot``/``ax.plot``와 유사하게 산점도 생성 가능.\n"
   ]
  },
  {
   "cell_type": "code",
   "execution_count": null,
   "metadata": {
    "pycharm": {
     "name": "#%%\n"
    }
   },
   "outputs": [],
   "source": [
    "x = np.linspace(0, 10, 30)\n",
    "y = np.sin(x)\n",
    "\n",
    "plt.plot(x, y, '--d', color='black');\n",
    "#'o': 큰 점으로만 찍힘, 'd': 다이아몬드로만 찍힘\n",
    "#'d-': 다이아몬드로 점이 찍히고 실선으로 연결"
   ]
  },
  {
   "cell_type": "markdown",
   "metadata": {},
   "source": [
    "세번째 인수는 ``'-'``, ``'--'``플로팅에 사용될 기호 유형"
   ]
  },
  {
   "cell_type": "code",
   "execution_count": null,
   "metadata": {
    "pycharm": {
     "name": "#%%\n"
    }
   },
   "outputs": [],
   "source": [
    "rng = np.random.RandomState(10)  #시드값\n",
    "for marker in ['o', '.', ',', 'x', '+', 'v', '^', '<', '>', 's', 'd']:\n",
    "    plt.plot(rng.rand(5), rng.rand(5), marker,  #x, y, 마커 모양\n",
    "             label=\"marker='{0}'\".format(marker))  #마커 범례 이름\n",
    "plt.legend(numpoints=1)  #범례에 대한 것(범례를 출력)\n",
    "plt.xlim(0, 1.8);  #0부터 1가지 8구간으로 나눔\n",
    "\n",
    "#여기는 rng라는 시드값을 설정한 random 모듈을 사용해서 rand를 사용!\n",
    "#아니면 일일히 np.random.randn()을 해줘야 함!"
   ]
  },
  {
   "cell_type": "markdown",
   "metadata": {},
   "source": [
    "문자코드와 선과 색상코드를 함께 사용해 점들을 연결해 사용"
   ]
  },
  {
   "cell_type": "code",
   "execution_count": null,
   "metadata": {
    "pycharm": {
     "name": "#%%\n"
    }
   },
   "outputs": [],
   "source": [
    "plt.plot(x, y, 'dr');  #빨간색 다이아몬드\n",
    "plt.plot(x, y, '-b');  #파란색 실선"
   ]
  },
  {
   "cell_type": "markdown",
   "metadata": {},
   "source": [
    " ``plt.plot`` 키워드는 다양한 선과 표시 속성 지정:"
   ]
  },
  {
   "cell_type": "code",
   "execution_count": null,
   "metadata": {
    "pycharm": {
     "name": "#%%\n"
    }
   },
   "outputs": [],
   "source": [
    "plt.plot(x, y, 'p-', color='gray',  #펜타곤 실선으로 연결, 회색\n",
    "         markersize=15, linewidth=4,  #점 크기 15, 선 굵기 4\n",
    "         markerfacecolor='white',  #점 흰색\n",
    "         markeredgecolor='gray',  #점 테두리 회색\n",
    "         markeredgewidth=2)  #점 테두리 굵기 2\n",
    "plt.ylim(-1.2, 1.2);"
   ]
  },
  {
   "cell_type": "markdown",
   "metadata": {},
   "source": [
    "##  ``plt.scatter``를 활용한 산점도\n",
    "\n",
    "``plt.plot`` 와 유사하게 ``plt.scatter``를 활용한 산점도 가능:"
   ]
  },
  {
   "cell_type": "code",
   "execution_count": null,
   "metadata": {
    "pycharm": {
     "name": "#%%\n"
    }
   },
   "outputs": [],
   "source": [
    "plt.scatter(x, y, marker='o');  #그냥 점만 찍어줌(선을 긋지 않음)"
   ]
  },
  {
   "cell_type": "markdown",
   "metadata": {},
   "source": [
    " ``plt.scatter`` 와 ``plt.plot``의 차이는 ``plt.scatter``의 경우 각 점의 속성 (크기, 표면 색상, 테두리, 색상)등을 개별적으로 제어하거나 데이터에 매핑 할 수 있는 산점도 생성 가능\n",
    "\n",
    "아래 예는 산점도에서``alpha`` 를 이용하여 투명도 조절가능:"
   ]
  },
  {
   "cell_type": "code",
   "execution_count": null,
   "metadata": {
    "pycharm": {
     "name": "#%%\n"
    }
   },
   "outputs": [],
   "source": [
    "rng = np.random.RandomState(0)  #시드값 == 0\n",
    "x = rng.randn(100)  #x는 랜덤으로 100개 설정  #-과 1 사이의 숫자가 만들어짐!!!!!!\n",
    "y = rng.randn(100)  #y도 랜덩으로\n",
    "colors = rng.rand(100)  #색도 랜덤으로   #0과 1 사이의 숫자가 만들어짐!!!!\n",
    "sizes = 1000 * rng.rand(100)  #크기도 랜덤으로\n",
    "\n",
    "plt.scatter(x, y, c=colors, s=sizes, alpha=0.3,  #알파 = 불투명도 조절\n",
    "            cmap='magma')  #color map == 스타일이라고 생각하셈\n",
    "plt.colorbar();  # show color scale  #색이 의미하는 척도 표시(오른쪽 그래프)\n",
    "\n",
    "#rand: 0과 1 사이, randn: -1과 1 사이"
   ]
  },
  {
   "cell_type": "markdown",
   "metadata": {},
   "source": [
    "색상 인수는 색상 척도에 자동으로 매핑되는  ``colorbar()``를 이용하여 픽셀단위로 보여줌.\n",
    "점의 색상과 크기를 사용해 정보 전달 가능.\n",
    "\n",
    "예를 들어 Scikit-Learn에서 붓꽃 데이터를 이용하여 데이터의 표본은 세가지 유형의 꽃중 하나로 꽃잎과 꽃받침의 크기를 세밀하게 측정하 값을 가지고 있음:"
   ]
  },
  {
   "cell_type": "code",
   "execution_count": null,
   "metadata": {
    "pycharm": {
     "name": "#%%\n"
    }
   },
   "outputs": [],
   "source": [
    "from sklearn.datasets import load_iris\n",
    "iris = load_iris()\n",
    "features = iris.data.T  #전치행렬!! 0행은 전부 길이, 1행은 전부 너비, 등등등\n",
    "\n",
    "plt.scatter(features[0], features[1], alpha=0.2,  #길이, 너비, 투명도\n",
    "            s=100*features[3], c=iris.target, cmap='viridis')  #점의 크기는 꽃잎의 폭에 비례함!\n",
    "#색은 target을 통해 같은 종이면 같은 색으로 그려짐!!\n",
    "plt.xlabel(iris.feature_names[0])\n",
    "plt.ylabel(iris.feature_names[1]);"
   ]
  },
  {
   "cell_type": "markdown",
   "metadata": {},
   "source": [
    "산점도로 네가지 차원을 동시 탐색\n",
    "* 각 점의 (x,y) 위치는 꽃 받침의 길이와 폭\n",
    "* 점의 크기 : 꽃잎의 폭\n",
    "* 색상 : 꽃의 종"
   ]
  },
  {
   "cell_type": "markdown",
   "metadata": {},
   "source": [
    "## ``plot`` vs  ``scatter``: 효율성 측면 유의점\n",
    "\n",
    "데이터의 수가 많을 경우 ``plt.plot`` 이 ``plt.scatter``보다 효율적임\n",
    "\n",
    "``plt.scatter``는 각 점에 대한 다양한 크기와 색상을 나타내는 능력이 있어 각 점을 개별적으로 구성하는 추가 작업을 해야 함\n",
    "\n",
    "``plt.plot``점이 기본적으로 항상 서로 복제 되므로 점의 모양을 결정하는 작업이 전체 데이터 집합에 대해 한번만 수행"
   ]
  },
  {
   "cell_type": "markdown",
   "metadata": {},
   "source": [
    "## 플롯 수정하기: 선 색상과 스타일"
   ]
  },
  {
   "cell_type": "markdown",
   "metadata": {},
   "source": [
    "선의 색상과 스타일을 변경하기 위해 ``plt.plot()`` 함수에 추가 인수 받기로 가능\n",
    "<br>색깔 조정 ``color`` keyword 사용"
   ]
  },
  {
   "cell_type": "code",
   "execution_count": null,
   "metadata": {
    "pycharm": {
     "name": "#%%\n"
    }
   },
   "outputs": [],
   "source": [
    "x = np.linspace(0, 10, 1000)\n",
    "plt.plot(x, np.sin(x - 0), color='black')        # 색상 이름으로 지정\n",
    "plt.plot(x, np.sin(x - 1), color='g')       #초록색 # 짧은 색상 코드로 지정 (rgbcmyk)\n",
    "plt.plot(x, np.sin(x - 2), color='0.75')  #회색      # 0 과 1 사이의 회색조로 이용\n",
    "plt.plot(x, np.sin(x - 3), color='#FFDD44')  #노란색   # Hex code (RRGGBB from 00 to FF)\n",
    "plt.plot(x, np.sin(x - 4), color=(1.0,0.2,0.3))  #핑크색  # 0 과 1 사이의 RGB 튜플값\n",
    "plt.plot(x, np.sin(x - 5), color='chartreuse'); #연두색 # HTML 색상 이름 지원"
   ]
  },
  {
   "cell_type": "markdown",
   "metadata": {},
   "source": [
    "<img src =\"https://matplotlib.org/2.0.2/_images/named_colors.png\">\n",
    "\n",
    "\n",
    "색상에 관한 자세한 정보는 를 <a href=https://matplotlib.org/examples/color/named_colors.html>  [여기]참고 </a><br>\n",
    "``linestyle`` 키워드를 이용하여 라인 스타일 변경:"
   ]
  },
  {
   "cell_type": "code",
   "execution_count": null,
   "metadata": {
    "pycharm": {
     "name": "#%%\n"
    }
   },
   "outputs": [],
   "source": [
    "#여기서 선 색 정한건 처음밖에 없는데 색은 왜 계속 바뀌지????  스타일에 따라 계속 바뀌는듯\n",
    "plt.plot(x, x + 0, linestyle='solid', color='black')\n",
    "plt.plot(x, x + 1, linestyle='dashed')\n",
    "plt.plot(x, x + 2, linestyle='dashdot')\n",
    "plt.plot(x, x + 3, linestyle='dotted');\n",
    "\n",
    "# For short, you can use the following codes:\n",
    "plt.plot(x, x + 4, linestyle='-')  # solid\n",
    "plt.plot(x, x + 5, linestyle='--') # dashed\n",
    "plt.plot(x, x + 6, linestyle='-.') # dashdot\n",
    "plt.plot(x, x + 7, linestyle=':');  # dotted  #좀 더 촘촘한 점선"
   ]
  },
  {
   "cell_type": "markdown",
   "metadata": {},
   "source": [
    " ``linestyle``과 ``color`` 를 ``plt.plot()``함수에서 함께 사용:"
   ]
  },
  {
   "cell_type": "code",
   "execution_count": null,
   "metadata": {
    "pycharm": {
     "name": "#%%\n"
    }
   },
   "outputs": [],
   "source": [
    "plt.plot(x, x + 0, '-g')  # solid green\n",
    "plt.plot(x, x + 1, '--c') # dashed cyan\n",
    "plt.plot(x, x + 2, '-.k') # dashdot black\n",
    "plt.plot(x, x + 3, ':r');  # dotted red"
   ]
  },
  {
   "cell_type": "markdown",
   "metadata": {},
   "source": [
    "## Plot 조정하기 : 축 경계\n",
    "\n",
    "Matplotlib은 기본적으로 축 경계를 적절하게 선택\n",
    "``plt.xlim()`` and ``plt.ylim()`` methods:"
   ]
  },
  {
   "cell_type": "code",
   "execution_count": null,
   "metadata": {
    "pycharm": {
     "name": "#%%\n"
    }
   },
   "outputs": [],
   "source": [
    "plt.plot(x, np.sin(x))\n",
    "\n",
    "plt.xlim(-1, 11)  #x축 범위\n",
    "plt.ylim(-1.5, 1.5);  #y축 범위"
   ]
  },
  {
   "cell_type": "markdown",
   "metadata": {},
   "source": [
    "축의 범위를 거꾸로 표현할 경우 첫번째 값에 더 큰 숫자를 넣고 두번째 값에 더 작은 숫자를 넣을 경우 축을 거꾸로 표현 가능"
   ]
  },
  {
   "cell_type": "code",
   "execution_count": null,
   "metadata": {
    "pycharm": {
     "name": "#%%\n"
    }
   },
   "outputs": [],
   "source": [
    "plt.plot(x, np.sin(x))\n",
    "\n",
    "plt.xlim(10, 0)  #축의 방행이 반대로 바뀜!!!!\n",
    "plt.ylim(1.2, -1.2);"
   ]
  },
  {
   "cell_type": "markdown",
   "metadata": {},
   "source": [
    " ``plt.axis()`` 는``[xmin, xmax, ymin, ymax]`` 와 같이 네개의 값을 넣어 동시에 축 변경 가능"
   ]
  },
  {
   "cell_type": "code",
   "execution_count": null,
   "metadata": {
    "pycharm": {
     "name": "#%%\n"
    }
   },
   "outputs": [],
   "source": [
    "plt.plot(x, np.sin(x))\n",
    "plt.axis([-1, 11, -1.5, 1.5]);  #x, x, y, y로 표현"
   ]
  },
  {
   "cell_type": "markdown",
   "metadata": {},
   "source": [
    "축에 자동으로 맞게 하기 위해 다음과 같이 사용 가능 ``plt.axis('tight')``"
   ]
  },
  {
   "cell_type": "code",
   "execution_count": null,
   "metadata": {
    "pycharm": {
     "name": "#%%\n"
    }
   },
   "outputs": [],
   "source": [
    "plt.plot(x, np.sin(x))\n",
    "plt.axis('tight');  #내가 그린 그림에 딱 맞게 범위를 지정"
   ]
  },
  {
   "cell_type": "markdown",
   "metadata": {},
   "source": [
    " ``x`` 와 ``y`` 축의 비율을 맞추기 위해서 다음과 같이 사용 가능 ``plt.axis('equal');``:"
   ]
  },
  {
   "cell_type": "code",
   "execution_count": null,
   "metadata": {
    "pycharm": {
     "name": "#%%\n"
    }
   },
   "outputs": [],
   "source": [
    "plt.plot(x, np.sin(x))\n",
    "plt.axis('equal');  #x와 y의 비율을 맞춤"
   ]
  },
  {
   "cell_type": "markdown",
   "metadata": {},
   "source": [
    "## 그림에 라벨링\n",
    "\n",
    "제목과 축 레이블은 가장 간단한 레이블"
   ]
  },
  {
   "cell_type": "code",
   "execution_count": null,
   "metadata": {
    "pycharm": {
     "name": "#%%\n"
    }
   },
   "outputs": [],
   "source": [
    "plt.plot(x, np.sin(x))\n",
    "plt.title(\"A Sine Curve\")  #제목\n",
    "plt.xlabel(\"x\")  #x축 이름\n",
    "plt.ylabel(\"sin(x)\");  #y축 이름"
   ]
  },
  {
   "cell_type": "markdown",
   "metadata": {},
   "source": [
    "축안에 여러 선을 표시하는 경우 각 선의 유형에 레이블을 붙이는 범례를 생성\n",
    "``plt.legend()`` 메소드 이용.\n"
   ]
  },
  {
   "cell_type": "code",
   "execution_count": null,
   "metadata": {
    "pycharm": {
     "name": "#%%\n"
    }
   },
   "outputs": [],
   "source": [
    "plt.plot(x, np.sin(x), '-g', label='sin(x)')\n",
    "plt.plot(x, np.cos(x), ':b', label='cos(x)')\n",
    "plt.axis('equal')\n",
    "\n",
    "plt.legend();  #범례 이름을 적어줌"
   ]
  },
  {
   "cell_type": "markdown",
   "metadata": {},
   "source": [
    " ``plt.legend()`` 함수가 라인 스타일과 색상을 기록하고 이를 정확한 레이블과 매칭"
   ]
  },
  {
   "cell_type": "markdown",
   "metadata": {},
   "source": [
    "### Matplotlib은 두가지 방식의 API를 제공하고 있다.\n",
    "\n",
    " - Pyplot API : Matlab과 같이 커맨드 방식. matplotlib.pyplot 모듈에 함수로 정의되어 있음.\n",
    "\n",
    " - 객체지향 API : matplotlib이 구현된 객체지향라이브러리를 직접 활용하는 방식. #다양하게 사용하기 위해서는 이거를 사용하는게 더 좋음(스타일을 더 상세하게 정할 수 있음)\n",
    "    \n",
    " <a href=\"https://matplotlib.org/matplotblog/posts/pyplot-vs-object-oriented-interface/\">Pyplot vs Object Oriented Interface 참고</a>\n",
    " \n",
    " <a href=\"https://wikidocs.net/14604\">한국어 참고</a>\n",
    " \n",
    "```python\n",
    "# Pyplot API(커맨드 방식)를 이용하는 방식\n",
    "import matplotlib.pyplot as plt\n",
    "import numpy as np\n",
    "\n",
    "x = np.linspace(0,1,50)\n",
    "y1 = np.cos(4*np.pi*x)\n",
    "y2 = np.cos(4*np.pi*x)*np.exp(-2*x)\n",
    "\n",
    "plt.plot(x,y1,'r-*',lw=1)\n",
    "plt.plot(x,y2,'b--',lw=1)   \n",
    "\n",
    "\n",
    "\n",
    "# 객체지향 API를 이용하는 방식\n",
    "import matplotlib.pyplot as plt\n",
    "import numpy as np\n",
    "\n",
    "x = np.linspace(0,1,50)\n",
    "y1 = np.cos(4*np.pi*x)\n",
    "y2 = np.cos(4*np.pi*x)*np.exp(-2*x)\n",
    "\n",
    "fig = plt.figure()   # 직접 Figure 객체를 생성\n",
    "ax = fig.subplots()   # 직접 axes를 생성\n",
    "ax.plot(x,y1,'r-*',lw=1)    # 생성된 axes에 대한 plot() 멤버 직접 호출\n",
    "ax.plot(x,y2,'b--',lw=1) \n",
    "```\n"
   ]
  },
  {
   "cell_type": "markdown",
   "metadata": {},
   "source": [
    "## Aside: Matplotlib Gotchas\n",
    "\n",
    "대부분의 ``plt`` 함수는 ( ``plt.plot()`` → ``ax.plot()``, ``plt.legend()`` → ``ax.legend()``, etc.) 처럼 바로 ``ax``메소드로 변경 가능 하지만 모두 그런것은 아님 #plt.은 보통 matplot 기반, ax.은 보통 객체 기반\n",
    "\n",
    "매트랩 스타일 함수와 객체지향 메스드 사이에서 전환 시 다음과 같이 변경 해야 함:\n",
    "\n",
    "- ``plt.xlabel()``  → ``ax.set_xlabel()``\n",
    "- ``plt.ylabel()`` → ``ax.set_ylabel()``\n",
    "- ``plt.xlim()``  → ``ax.set_xlim()``\n",
    "- ``plt.ylim()`` → ``ax.set_ylim()``\n",
    "- ``plt.title()`` → ``ax.set_title()``\n",
    "\n",
    "플로팅을 위한 객체지향 인터페이스에서는 이 함수들을 개별적으로 호출 하는 대신``ax.set()`` 메서드를 사용하여 한꺼번에 속성을 지정"
   ]
  },
  {
   "cell_type": "code",
   "execution_count": null,
   "metadata": {
    "pycharm": {
     "name": "#%%\n"
    }
   },
   "outputs": [],
   "source": [
    "ax = plt.axes()\n",
    "ax.plot(x, np.sin(x))\n",
    "ax.set(xlim=(0, 10), ylim=(-2, 2),\n",
    "       xlabel='x', ylabel='sin(x)',\n",
    "       title='A Simple Plot');  \n",
    "#객체지향 방식으로 쓰면 set()안에 모든 스타일을 집어넣어 묶을 수 있음!!"
   ]
  },
  {
   "cell_type": "markdown",
   "metadata": {},
   "source": [
    "# 다중 서브 플롯"
   ]
  },
  {
   "cell_type": "markdown",
   "metadata": {},
   "source": [
    "때로는 서로 다른 데이터 뷰를 나란히 비교하는 것이 유용 할 경우가 있음\n",
    "\n",
    "Matplotlib 에서는  *subplots* 개념을 이용하여 하나의 그림내에 공존 할 수 있는 더 작은 축의 그림을 그릴 수 있음"
   ]
  },
  {
   "cell_type": "code",
   "execution_count": null,
   "metadata": {
    "pycharm": {
     "name": "#%%\n"
    }
   },
   "outputs": [],
   "source": [
    "%matplotlib inline\n",
    "import matplotlib.pyplot as plt\n",
    "plt.style.use('seaborn-white')\n",
    "import numpy as np"
   ]
  },
  {
   "cell_type": "markdown",
   "metadata": {},
   "source": [
    "## ``plt.axes``: 직접 만든 서브 플롯\n",
    "\n",
    "가장 기본 적인 방법은 ``plt.axes`` 함수 사용.\n",
    "\n",
    "전체 그림을 채우는 표준 축 객체를 생성.\n",
    "\n",
    "``plt.axes`` 는 선택 적으로 네 개의 숫자 목록을 인수로 취할 수 있음 .\n",
    "\n",
    "숫자는 좌표계의 ``[left, bottom, width, height]`` 를 나타내는 것으로 그림 왼족 하단의 0 부터 오른쪽 상단의 1까지의 범위를 나타냄.\n",
    "\n",
    "예를 들어 *x* 와 *y*의 위치를 0.65 설정( 그림 너비의 65% 와 높이의 65%에서 시작)\n",
    "\n",
    "*x* 와 *y* 의 범위를 0.2로 설정 (축의 크기는 그림 너비와 높이의 각 20%가 됨):"
   ]
  },
  {
   "cell_type": "code",
   "execution_count": null,
   "metadata": {
    "pycharm": {
     "name": "#%%\n"
    }
   },
   "outputs": [],
   "source": [
    "ax1 = plt.axes()  # standard axes\n",
    "ax2 = plt.axes([0.65, 0.65, 0.2, 0.2])  #왼쪽 시작지점, 아래 시작지점, x축 차지할 크기, y축 차지할 크기\n",
    "#왼쪽공백, 오른쪽공백, 너비, 높이"
   ]
  },
  {
   "cell_type": "markdown",
   "metadata": {},
   "source": [
    "객체 지향에 인터페이스 에서는 ``fig.add_axes()``로 사용\n",
    "두개의 세로로 배치된 축 만들기 예:"
   ]
  },
  {
   "cell_type": "code",
   "execution_count": null,
   "metadata": {
    "pycharm": {
     "name": "#%%\n"
    }
   },
   "outputs": [],
   "source": [
    "import matplotlib.pyplot as plt\n",
    "import numpy as np\n",
    "fig = plt.figure()\n",
    "ax1 = fig.add_axes([0.1, 0.5, 0.8, 0.4],  #y축 높이는 height로 조절\n",
    "                   xticklabels=[], ylim=(-1.2, 1.2))\n",
    "ax2 = fig.add_axes([0.1, 0.1, 0.8, 0.4],\n",
    "                   ylim=(-1.2, 1.2))\n",
    "\n",
    "x = np.linspace(0, 10)\n",
    "ax1.plot(np.sin(x))\n",
    "#ax2.plot(np.cos(x));\n",
    "\n",
    "#이 네모 전체 그래프의 모양 전체를 보는 것!!!!\n",
    "#ax1: 왼쪽 10%부터 시작, 아래쪽 그래프 하나가 더 필요하니 50%부터 시작, \n",
    "#x축 80% 차지 = 오른쪽도 똑같이 10% 공백, y축 40% = 위쪽으로 10% 공백\n",
    "#  ==== 위의 공백은 없이 딱 붙이는듯!! ax1의 height를 줄이면 밑의 글이 더 나오네\n",
    "#ax2: 왼쪽 10%부터 시작, 아래쪽에 붙는 그림이니까 아래 공백 10%\n",
    "#x축 80% 차지 = 오른쪽도 똑같이 10% 공백, y축 40% = 위의 그래프와 딱 붙음"
   ]
  },
  {
   "cell_type": "markdown",
   "metadata": {},
   "source": [
    "## ``plt.subplot``: 간단한 서브 플롯의 그리드\n",
    "\n",
    " ``plt.subplot()``그리드 안에 하나의 서브 플롯 생성\n",
    " 세개의 정수 인수를 취함 왼쪽 상단에서 오른쪽 하단으로 이어지는 행과 열의 갯수 플롯의 인덱스 의미:"
   ]
  },
  {
   "cell_type": "code",
   "execution_count": null,
   "metadata": {
    "pycharm": {
     "name": "#%%\n"
    }
   },
   "outputs": [],
   "source": [
    "for i in range(1, 7):\n",
    "    #그림을 그리고싶다면 위치 지정(바로 밑 문장)부터 한 후 그리기\n",
    "    plt.subplot(2, 3, i)  #2행 3열, 행부터 채우겠다(순서)\n",
    "    plt.text(0.5, 0.5, str((2, 3, i)),\n",
    "             fontsize=18, ha='center')"
   ]
  },
  {
   "cell_type": "markdown",
   "metadata": {},
   "source": [
    "* ``plt.subplots_adjust``는 플롯들 사이의 간격을 조정하는데 사용.\n",
    "객체 지향 명렁어의 경우  ``fig.add_subplot()``사용:<br>\n",
    "* 그림의 높이와 너비를 따라 서브 플롯의 크기 단위로 간격을 지정하기 위해 ``plt.subplots_adjust``의``hspace`` 와 ``wspace`` 사용"
   ]
  },
  {
   "cell_type": "code",
   "execution_count": null,
   "metadata": {
    "pycharm": {
     "name": "#%%\n"
    }
   },
   "outputs": [],
   "source": [
    "fig = plt.figure()\n",
    "fig.subplots_adjust(hspace=0.4, wspace=0.4)  #행간공백, 열간공백\n",
    "for i in range(1, 7):\n",
    "    ax = fig.add_subplot(2, 3, i)\n",
    "    ax.text(0.5, 0.5, str((2, 3, i)),\n",
    "           fontsize=18, ha='center')"
   ]
  },
  {
   "cell_type": "markdown",
   "metadata": {},
   "source": [
    "## ``plt.GridSpec``: 복잡한 배치\n",
    "\n",
    "서브 플롯의 규칙적으로 배치하는 그리드를 넘어 여러 행과 열로 확장 할 경우 ``plt.GridSpec()``사용 <br>\n",
    "``plt.GridSpec()``자체가 객체 플롯을 만들지는 않고,``plt.subplot()`` 명령어가 인식하는 편리한 인터페이스"
   ]
  },
  {
   "cell_type": "code",
   "execution_count": null,
   "metadata": {
    "pycharm": {
     "name": "#%%\n"
    }
   },
   "outputs": [],
   "source": [
    "grid = plt.GridSpec(2, 3, wspace=0.2, hspace=0.3)  #2행 3열인 그림 슬라이싱!!"
   ]
  },
  {
   "cell_type": "markdown",
   "metadata": {},
   "source": [
    "이를 토대로 익숙한 파이썬 슬라이싱 구문을 사용해 각 서브 플롯의 위치와 범위를 지정 가능"
   ]
  },
  {
   "cell_type": "code",
   "execution_count": null,
   "metadata": {
    "pycharm": {
     "name": "#%%\n"
    }
   },
   "outputs": [],
   "source": [
    "plt.subplot(grid[0, 0])\n",
    "plt.subplot(grid[0, 1:])  #1열과 2열을 합치겠다\n",
    "plt.subplot(grid[1, :2])  #0열과 1열을 합치겠다\n",
    "plt.subplot(grid[1, 2]);"
   ]
  },
  {
   "cell_type": "markdown",
   "metadata": {},
   "source": [
    "이러한 유형의 유연한 그리드 정렬은 광범위한 용도로 사용 가능 :"
   ]
  },
  {
   "cell_type": "markdown",
   "metadata": {},
   "source": [
    "# 히스토그램, 구간화, 밀도"
   ]
  },
  {
   "cell_type": "markdown",
   "metadata": {},
   "source": [
    "데이터세트를 이해하는 가장 좋은 방법은 간단한 히스토 그램을 그려 보는 것이다."
   ]
  },
  {
   "cell_type": "code",
   "execution_count": null,
   "metadata": {
    "pycharm": {
     "name": "#%%\n"
    }
   },
   "outputs": [],
   "source": [
    "%matplotlib inline\n",
    "import numpy as np\n",
    "import matplotlib.pyplot as plt\n",
    "plt.style.use('seaborn-white')\n",
    "\n",
    "data = np.random.randn(1000)  #random nomalization, 평균 0 표준편차 1\n",
    "#위의 예제들은 rng로 np.random.RandomState()를 했기 때문에 rng.randn()을 그냥 쓰는 것. 그게 아니면 여기처럼 random 모듈을 써야 함"
   ]
  },
  {
   "cell_type": "code",
   "execution_count": null,
   "metadata": {
    "pycharm": {
     "name": "#%%\n"
    }
   },
   "outputs": [],
   "source": [
    "plt.hist(data);  #만들어진 데이터를 히스토그램으로 그려줌"
   ]
  },
  {
   "cell_type": "markdown",
   "metadata": {},
   "source": [
    "``hist()`` 함수는 계산과 표현 모두 조정할 수 있는 많은 옵션 값을 제공한다.\n",
    " 아래 그림은 위 히스토 그램을 좀더 맞춤 변경 한 예이다."
   ]
  },
  {
   "cell_type": "code",
   "execution_count": null,
   "metadata": {
    "pycharm": {
     "name": "#%%\n"
    }
   },
   "outputs": [],
   "source": [
    "plt.hist(data, bins=30, alpha=0.5,  #x축을 30개로(30개 구간으로 나누겠다)\n",
    "         histtype='stepfilled', color='steelblue',edgecolor='blue');  \n",
    "#계단형(위처럼 각각의 세로선이 없어), 색, 테두리색"
   ]
  },
  {
   "cell_type": "markdown",
   "metadata": {},
   "source": [
    " ``plt.hist``독스트링에 그밖에 사용 할 수 있는 맞춤 설정 옵션에 관한 정보가 더 많이 있다.\n",
    " \n",
    "다양한 분포에 대한 히스토그램을 비교 할때는 ``histtype='stepfilled'`` 와 몇몇 투명도``alpha`` 를 결합 하는 것이 때로는 유용하다."
   ]
  },
  {
   "cell_type": "code",
   "execution_count": null,
   "metadata": {
    "pycharm": {
     "name": "#%%\n"
    }
   },
   "outputs": [],
   "source": [
    "x1 = np.random.normal(0, 0.8, 1000)  #평균, 표준편차, 1000개\n",
    "x2 = np.random.normal(-2, 1, 1000)  #평균, 표준편차, 1000개\n",
    "x3 = np.random.normal(3, 2, 1000)  #평균, 표준편차, 1000개\n",
    "\n",
    "#히스토그램의 조건을 미리 딕셔너리로 만들어 둠!! 이거를 넣으면 조건이 형성된다!!\n",
    "kwargs = dict(histtype='stepfilled', alpha=0.3,  bins=40)\n",
    "#bin 크기(x축 구간 개수)를 줄이면 그래프ㅏ 겹치는 구간이 많아짐\n",
    "print(kwargs)\n",
    "\n",
    "plt.hist(x1, **kwargs)  #타입 = 계단, 투명도 = 0.3, 칸 = 40으로 설정됨!!!!\n",
    "plt.hist(x2, **kwargs)\n",
    "plt.hist(x3, **kwargs);"
   ]
  },
  {
   "cell_type": "markdown",
   "metadata": {},
   "source": [
    "만약 히스토그램을 계산만 하고 표시할 생각이 없다면  ``np.histogram()`` 함수 사용이 가능하다."
   ]
  },
  {
   "cell_type": "code",
   "execution_count": null,
   "metadata": {
    "pycharm": {
     "name": "#%%\n"
    }
   },
   "outputs": [],
   "source": [
    "counts, bin_edges = np.histogram(data, bins=5)\n",
    "#5개의 구간에 대한 각각의 개수(1구간 몇 개, 2구간 몇 개 ...)\n",
    "print(counts)"
   ]
  },
  {
   "cell_type": "code",
   "execution_count": null,
   "metadata": {},
   "outputs": [],
   "source": [
    "#이거는 다시 하나하나 따져보자!!!!!!\n",
    "#1. 얘가 객체지향 방식이라는거? 2. orientation은 뭐? 3. invert_yaxis는 뭐?\n",
    "\n",
    "#객체지향이 아니라면(matlap방식이라면)\n",
    "#축 하나 설정 후 그림 그리고, 축 하나 설정 후 그림그리고.. 해야하는 번거로움\n",
    "# Create some normally distributed data\n",
    "mean = [0, 0]\n",
    "cov = [[1, 1], [1, 2]]  #평균과 표준편차 만들기\n",
    "x, y = np.random.multivariate_normal(mean, cov, 3000).T  #3000개\n",
    "\n",
    "# Set up the axes with gridspec\n",
    "fig = plt.figure(figsize=(6, 6))\n",
    "grid = plt.GridSpec(4, 4, hspace=0.2, wspace=0.2)  #4x4 그래프로 그리겠다(4행 4열)\n",
    "main_ax = fig.add_subplot(grid[:-1, 1:])  #3행 3열의 크기\n",
    "y_hist = fig.add_subplot(grid[:-1, 0], xticklabels=[], sharey=main_ax)\n",
    "#3행 1열의 크기\n",
    "x_hist = fig.add_subplot(grid[-1, 1:], yticklabels=[], sharex=main_ax)\n",
    "#1행 3열의 크기\n",
    "\n",
    "# scatter points on the main axes\n",
    "main_ax.plot(x, y, 'ok', markersize=3, alpha=0.2) \n",
    "#투명도(알파)덕분에 진하면 많구나~를 알 수 있지만 알파가 없으면 몰라..\n",
    "\n",
    "# histogram on the attached axes\n",
    "x_hist.hist(x, 40, histtype='stepfilled',  #각각에 히스토그램을 그림\n",
    "            orientation='vertical', color='gray')  #히스토그램을 세로로 그림\n",
    "x_hist.invert_yaxis()  \n",
    "\n",
    "y_hist.hist(y, 40, histtype='stepfilled',\n",
    "            orientation='horizontal', color='gray')\n",
    "y_hist.invert_xaxis()"
   ]
  },
  {
   "cell_type": "markdown",
   "metadata": {},
   "source": [
    "## 2차원 히스토그램과 구간화\n",
    "\n",
    "숫자 선을 구간으로 나누어 1차원 히스토그램을 만드는 것처럼 점을 2차원 구간에 나누어 2차원에서도 히스토 그램을 만들 수 있다."
   ]
  },
  {
   "cell_type": "code",
   "execution_count": null,
   "metadata": {
    "pycharm": {
     "name": "#%%\n"
    }
   },
   "outputs": [],
   "source": [
    "import numpy as np\n",
    "mean = [0, 0]\n",
    "cov = [[1, 1], [1, 2]]\n",
    "x, y = np.random.multivariate_normal(mean, cov, 10000).T\n"
   ]
  },
  {
   "cell_type": "markdown",
   "metadata": {},
   "source": [
    "### ``plt.hist2d``:  차원 히스토그램\n",
    "\n",
    "Matplotlib의 ``plt.hist2d`` 함수를 이용:"
   ]
  },
  {
   "cell_type": "code",
   "execution_count": null,
   "metadata": {
    "pycharm": {
     "name": "#%%\n"
    }
   },
   "outputs": [],
   "source": [
    "plt.hist2d(x, y, bins=30, cmap='Blues')  #많으면 파란색, 2차원 히스토그램, 스타일 = Blues\n",
    "cb = plt.colorbar()\n",
    "cb.set_label('counts in bin')  #색 범례의 이름 정하기"
   ]
  },
  {
   "cell_type": "markdown",
   "metadata": {},
   "source": [
    " ``plt.hist``와 마찬가지로 ``plt.hist2d``는 구간을 세밀하게 조정하는 다양한 추가 옵션을 가지고 있으며, 그 옵션은 함수 독스트링에 잘 설명되어 있다. ``plt.hist``가 ``np.histogram`` 에 대응하는 것처럼 ``plt.hist2d``는 다음과 같이 사용할 수 있는 ``np.histogram2d``에 대응한다."
   ]
  },
  {
   "cell_type": "code",
   "execution_count": null,
   "metadata": {
    "pycharm": {
     "name": "#%%\n"
    }
   },
   "outputs": [],
   "source": [
    "counts, xedges, yedges = np.histogram2d(x, y, bins=30)"
   ]
  },
  {
   "cell_type": "markdown",
   "metadata": {},
   "source": [
    "### ``plt.hexbin``: 육각형 구간화\n",
    "2차원 히스토그램은 축에 사각형 모자이크를 만든다. 이러한 모자이크에 사용할 만한 자연스러운 모양으로 정육각형도 있다."
   ]
  },
  {
   "cell_type": "code",
   "execution_count": null,
   "metadata": {
    "pycharm": {
     "name": "#%%\n"
    }
   },
   "outputs": [],
   "source": [
    "plt.hexbin(x, y, gridsize=30, cmap='Blues')  #육각형 모자이크 모양\n",
    "cb = plt.colorbar(label='count in bin')"
   ]
  },
  {
   "cell_type": "markdown",
   "metadata": {},
   "source": [
    "``plt.hexbin``은 여러 가지옵션을 제공\n",
    "각점에 대한 가중치를 지정하고 각 구간의 결과를 Numpy 집계( 가중치 평균, 가중치 표준편차 등)로 변경하는 옵션이 있다."
   ]
  },
  {
   "cell_type": "code",
   "execution_count": null,
   "metadata": {
    "pycharm": {
     "name": "#%%\n"
    }
   },
   "outputs": [],
   "source": [
    "import matplotlib\n",
    "import numpy as np\n",
    "import matplotlib.pyplot as plt\n",
    "\n",
    "np.random.seed(19680801)\n",
    "\n",
    "# example data\n",
    "mu = 100  # mean of distribution\n",
    "sigma = 15  # standard deviation of distribution\n",
    "x = mu + sigma * np.random.randn(437)\n",
    "\n",
    "num_bins = 50\n",
    "\n",
    "fig, ax = plt.subplots()\n",
    "\n",
    "# the histogram of the data\n",
    "#여기 무슨 말인지 잘 이해가 안가....\n",
    "n, bins, patches = ax.hist(x, num_bins, density=True)  #데이터, 간격(bins), density는 모르겠다 밀도 위의 예제 보니까 2번째가 bin이더라\n",
    "#그래서 여기서 리턴되는 3개의 값이 뭔데..????\n",
    "\n",
    "# add a 'best fit' line\n",
    "y = ((1 / (np.sqrt(2 * np.pi) * sigma)) *\n",
    "     np.exp(-0.5 * (1 / sigma * (bins - mu))**2))  #이건 그래프를 그리기 위해 y값을 구한 것\n",
    "#bins가 왜 x값이지?? 난 모르겠음\n",
    "ax.plot(bins, y, '--')  #bins는 뭐야??????????????? x값의 정체가 뭐냐....\n",
    "ax.set_xlabel('Smarts')\n",
    "ax.set_ylabel('Probability density')\n",
    "ax.set_title(r'Histogram of IQ: $\\mu=100$, $\\sigma=15$')\n",
    "\n",
    "# Tweak spacing to prevent clipping of ylabel\n",
    "fig.tight_layout()  #이런거는 안배운건데... 몰라요 몰라~~ tight layout인거 보니 레이아웃을 딱 맞추라는 말인듯\n",
    "plt.show()\n"
   ]
  }
 ],
 "metadata": {
  "anaconda-cloud": {},
  "kernelspec": {
   "display_name": "Python 3 (ipykernel)",
   "language": "python",
   "name": "python3"
  },
  "language_info": {
   "codemirror_mode": {
    "name": "ipython",
    "version": 3
   },
   "file_extension": ".py",
   "mimetype": "text/x-python",
   "name": "python",
   "nbconvert_exporter": "python",
   "pygments_lexer": "ipython3",
   "version": "3.9.5"
  },
  "varInspector": {
   "cols": {
    "lenName": 16,
    "lenType": 16,
    "lenVar": 40
   },
   "kernels_config": {
    "python": {
     "delete_cmd_postfix": "",
     "delete_cmd_prefix": "del ",
     "library": "var_list.py",
     "varRefreshCmd": "print(var_dic_list())"
    },
    "r": {
     "delete_cmd_postfix": ") ",
     "delete_cmd_prefix": "rm(",
     "library": "var_list.r",
     "varRefreshCmd": "cat(var_dic_list()) "
    }
   },
   "types_to_exclude": [
    "module",
    "function",
    "builtin_function_or_method",
    "instance",
    "_Feature"
   ],
   "window_display": false
  }
 },
 "nbformat": 4,
 "nbformat_minor": 1
}
