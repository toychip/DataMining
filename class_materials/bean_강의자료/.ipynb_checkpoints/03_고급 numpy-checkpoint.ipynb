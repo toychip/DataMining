{
 "cells": [
  {
   "cell_type": "markdown",
   "metadata": {},
   "source": [
    "아래 강의 노트는 [Python for data Analysis 책](https://github.com/wesm/pydata-book)4장을 기반으로 번역 및 편집하여 페이지 구성함  \n",
    "<img src =\"https://image.yes24.com/goods/73268296/800x0\" width=5%>\n",
    "\n",
    " **무단 배포를 금지 합니다.** \n",
    "\n",
    "***"
   ]
  },
  {
   "cell_type": "markdown",
   "metadata": {},
   "source": [
    "# 고급 배열 조작기법\n",
    "## 배열 재형성\n",
    "```reshape``` 를 이용해 새로운 모양을 나태는 튜플을 넘기기"
   ]
  },
  {
   "cell_type": "code",
   "execution_count": 2,
   "metadata": {
    "scrolled": true
   },
   "outputs": [
    {
     "name": "stdout",
     "output_type": "stream",
     "text": [
      "[0 1 2 3 4 5 6 7]\n",
      "[[0 1]\n",
      " [2 3]\n",
      " [4 5]\n",
      " [6 7]]\n"
     ]
    }
   ],
   "source": [
    "import numpy as np\n",
    "arr = np.arange(8)\n",
    "print(arr)\n",
    "arr= arr.reshape((4, 2))  #이미 만들어진 배열을 n행 m열로 재배치, 크기가 안맞으면 오류\n",
    "#행부터 채움!!!!\n",
    "print(arr)"
   ]
  },
  {
   "cell_type": "markdown",
   "metadata": {},
   "source": [
    "![img](./a-3.png)"
   ]
  },
  {
   "cell_type": "markdown",
   "metadata": {},
   "source": [
    "다차원 배열 또한 재형성 가능"
   ]
  },
  {
   "cell_type": "code",
   "execution_count": 3,
   "metadata": {},
   "outputs": [
    {
     "data": {
      "text/plain": [
       "array([[0, 1, 2, 3],\n",
       "       [4, 5, 6, 7]])"
      ]
     },
     "execution_count": 3,
     "metadata": {},
     "output_type": "execute_result"
    }
   ],
   "source": [
    "arr.reshape((4, 2)).reshape((2, 4))  #4행 2열로 만든 배열을 다시 2행 4열로 재배치"
   ]
  },
  {
   "cell_type": "markdown",
   "metadata": {},
   "source": [
    "reshpae에 넘기는 값중 하나가 -1 가능    \n",
    "원본 데이터를 참조하여 적절한 값으로 추론"
   ]
  },
  {
   "cell_type": "code",
   "execution_count": 7,
   "metadata": {},
   "outputs": [
    {
     "data": {
      "text/plain": [
       "array([[[ 0],\n",
       "        [ 1],\n",
       "        [ 2],\n",
       "        [ 3],\n",
       "        [ 4]],\n",
       "\n",
       "       [[ 5],\n",
       "        [ 6],\n",
       "        [ 7],\n",
       "        [ 8],\n",
       "        [ 9]],\n",
       "\n",
       "       [[10],\n",
       "        [11],\n",
       "        [12],\n",
       "        [13],\n",
       "        [14]]])"
      ]
     },
     "execution_count": 7,
     "metadata": {},
     "output_type": "execute_result"
    }
   ],
   "source": [
    "arr = np.arange(15)#0~14\n",
    "arr=arr.reshape((3, 5, -1)) # 3 x 5 x1  #3면, 5행으로 하는데 열 크기는 자동으로 해줘!\n",
    "arr"
   ]
  },
  {
   "cell_type": "code",
   "execution_count": 10,
   "metadata": {},
   "outputs": [
    {
     "data": {
      "text/plain": [
       "array([[ 0,  1,  2,  3,  4],\n",
       "       [ 5,  6,  7,  8,  9],\n",
       "       [10, 11, 12, 13, 14]])"
      ]
     },
     "execution_count": 10,
     "metadata": {},
     "output_type": "execute_result"
    }
   ],
   "source": [
    "arr.reshape((3, -1))  #열은 몇 개일지 모르겠는데, 행은 3행으로 해줘! 이것도 역시 크기 안맞으면 오류"
   ]
  },
  {
   "cell_type": "markdown",
   "metadata": {},
   "source": [
    "다차원 배열을 낮은 차원으로 **평탄화(flattening raveling)** 가능 "
   ]
  },
  {
   "cell_type": "code",
   "execution_count": 11,
   "metadata": {},
   "outputs": [
    {
     "data": {
      "text/plain": [
       "array([[ 0,  1,  2],\n",
       "       [ 3,  4,  5],\n",
       "       [ 6,  7,  8],\n",
       "       [ 9, 10, 11],\n",
       "       [12, 13, 14]])"
      ]
     },
     "execution_count": 11,
     "metadata": {},
     "output_type": "execute_result"
    }
   ],
   "source": [
    "arr = np.arange(15).reshape((5, 3))\n",
    "arr"
   ]
  },
  {
   "cell_type": "code",
   "execution_count": 12,
   "metadata": {},
   "outputs": [
    {
     "data": {
      "text/plain": [
       "array([ 0,  1,  2,  3,  4,  5,  6,  7,  8,  9, 10, 11, 12, 13, 14])"
      ]
     },
     "execution_count": 12,
     "metadata": {},
     "output_type": "execute_result"
    }
   ],
   "source": [
    "arr = arr.ravel()  #1행->2행->... 으로 매트릭스로 된 데이터를 배열로 만들어줌\n",
    "arr"
   ]
  },
  {
   "cell_type": "code",
   "execution_count": 13,
   "metadata": {},
   "outputs": [
    {
     "data": {
      "text/plain": [
       "array([ 0,  1,  2,  3,  4,  5,  6,  7,  8,  9, 10, 11, 12, 13, 14])"
      ]
     },
     "execution_count": 13,
     "metadata": {},
     "output_type": "execute_result"
    }
   ],
   "source": [
    "arr = np.arange(15).reshape((5, 3))\n",
    "arr.flatten()  #얘도 1행->2행->... 으로 매트릭스로 된 데이터를 배열로 만들어줌"
   ]
  },
  {
   "cell_type": "markdown",
   "metadata": {},
   "source": [
    "##  배열 이어 붙이고 나누기"
   ]
  },
  {
   "cell_type": "code",
   "execution_count": 18,
   "metadata": {},
   "outputs": [],
   "source": [
    "arr1 = np.array([[1, 2, 3], [4, 5, 6]]) # 2X3\n",
    "arr2 = np.array([[7, 8, 9], [10, 11, 12]])  #2x3"
   ]
  },
  {
   "cell_type": "code",
   "execution_count": 19,
   "metadata": {},
   "outputs": [
    {
     "data": {
      "text/plain": [
       "array([[ 1,  2,  3],\n",
       "       [ 4,  5,  6],\n",
       "       [ 7,  8,  9],\n",
       "       [10, 11, 12]])"
      ]
     },
     "execution_count": 19,
     "metadata": {},
     "output_type": "execute_result"
    }
   ],
   "source": [
    "np.concatenate([arr1, arr2], axis=0) # 4 x 3  #행 기준, 행 밑으로 붙인다"
   ]
  },
  {
   "cell_type": "code",
   "execution_count": 10,
   "metadata": {},
   "outputs": [
    {
     "data": {
      "text/plain": [
       "array([[ 1,  2,  3,  7,  8,  9],\n",
       "       [ 4,  5,  6, 10, 11, 12]])"
      ]
     },
     "execution_count": 10,
     "metadata": {},
     "output_type": "execute_result"
    }
   ],
   "source": [
    "np.concatenate([arr1, arr2], axis=1) # 2 x 6  # 열 기준, 열 옆에 붙인다"
   ]
  },
  {
   "cell_type": "code",
   "execution_count": 20,
   "metadata": {},
   "outputs": [
    {
     "data": {
      "text/plain": [
       "array([[ 1,  2,  3],\n",
       "       [ 4,  5,  6],\n",
       "       [ 7,  8,  9],\n",
       "       [10, 11, 12]])"
      ]
     },
     "execution_count": 20,
     "metadata": {},
     "output_type": "execute_result"
    }
   ],
   "source": [
    "np.vstack((arr1, arr2)) #np.concatenate([arr1, arr2], axis=0)  #virtical, 행 밑으로 붙임"
   ]
  },
  {
   "cell_type": "code",
   "execution_count": 12,
   "metadata": {},
   "outputs": [
    {
     "data": {
      "text/plain": [
       "array([[ 1,  2,  3,  7,  8,  9],\n",
       "       [ 4,  5,  6, 10, 11, 12]])"
      ]
     },
     "execution_count": 12,
     "metadata": {},
     "output_type": "execute_result"
    }
   ],
   "source": [
    "np.hstack((arr1, arr2)) #np.concatenate([arr1, arr2], axis=1)  #horizental, 열 옆으로 붙임"
   ]
  },
  {
   "cell_type": "markdown",
   "metadata": {},
   "source": [
    "```split``` 매서드를 사용하면 하나의 배열을 축을 따라 여러개의 배열로 나눌 수 있음\n",
    "여기에서 [2,3]은 split되는 인덱스를 의미 "
   ]
  },
  {
   "cell_type": "code",
   "execution_count": 7,
   "metadata": {},
   "outputs": [
    {
     "name": "stdout",
     "output_type": "stream",
     "text": [
      "[[ 0.63308237  1.36378509]\n",
      " [ 1.02632551  0.63923585]\n",
      " [-1.61219882 -0.08371577]\n",
      " [ 0.15691    -0.5173916 ]\n",
      " [-0.86603419 -0.61176292]]\n"
     ]
    }
   ],
   "source": [
    "arr = np.random.randn(5, 2)\n",
    "print(arr)\n",
    "first, second, third = np.split(arr, [3, 4])  #뭐 어떻게 나눴다는지 이해 못 함\n",
    "#1번 인덱스, 3번 인덱스 앞에서 자르겠다\n",
    "#(1,2) => 1개, 1개, 3개\n",
    "#(1,3) => 1개, 2개, 2개\n",
    "#(3,4) => 3개, 1개, 1개"
   ]
  },
  {
   "cell_type": "code",
   "execution_count": 8,
   "metadata": {},
   "outputs": [
    {
     "data": {
      "text/plain": [
       "array([[ 0.63308237,  1.36378509],\n",
       "       [ 1.02632551,  0.63923585],\n",
       "       [-1.61219882, -0.08371577]])"
      ]
     },
     "execution_count": 8,
     "metadata": {},
     "output_type": "execute_result"
    }
   ],
   "source": [
    "first"
   ]
  },
  {
   "cell_type": "code",
   "execution_count": 9,
   "metadata": {},
   "outputs": [
    {
     "data": {
      "text/plain": [
       "array([[ 0.15691  , -0.5173916]])"
      ]
     },
     "execution_count": 9,
     "metadata": {},
     "output_type": "execute_result"
    }
   ],
   "source": [
    "second"
   ]
  },
  {
   "cell_type": "code",
   "execution_count": 10,
   "metadata": {},
   "outputs": [
    {
     "data": {
      "text/plain": [
       "array([[-0.86603419, -0.61176292]])"
      ]
     },
     "execution_count": 10,
     "metadata": {},
     "output_type": "execute_result"
    }
   ],
   "source": [
    "third"
   ]
  },
  {
   "cell_type": "markdown",
   "metadata": {},
   "source": [
    "![](/Users/Jaehee/Documents/pydata-book/img/tablea-1.png)"
   ]
  },
  {
   "cell_type": "markdown",
   "metadata": {},
   "source": [
    "## 반복 엘리먼트"
   ]
  },
  {
   "cell_type": "markdown",
   "metadata": {},
   "source": [
    "큰 배열을 만들기 위해 배열을 복사하거나 복제하는 함수로 ```repeat```와 ```tile```이 있다.    \n",
    "```repeat```는 한 배열의 각 원소를 원하는 만큼 복제해서 큰 배열을 생성"
   ]
  },
  {
   "cell_type": "code",
   "execution_count": 17,
   "metadata": {},
   "outputs": [
    {
     "name": "stdout",
     "output_type": "stream",
     "text": [
      "[0 1 2]\n"
     ]
    },
    {
     "data": {
      "text/plain": [
       "array([0, 0, 0, 1, 1, 1, 2, 2, 2])"
      ]
     },
     "execution_count": 17,
     "metadata": {},
     "output_type": "execute_result"
    }
   ],
   "source": [
    "arr = np.arange(3)  # 0 1 2 \n",
    "print(arr)\n",
    "arr.repeat(3) # 000 111 222 # 각 요소를 3번씩 반복(바로 뒤에 이어서 반복)"
   ]
  },
  {
   "cell_type": "code",
   "execution_count": 34,
   "metadata": {},
   "outputs": [
    {
     "name": "stdout",
     "output_type": "stream",
     "text": [
      "[[ 1.34742277 -0.28169566]\n",
      " [-0.13547874 -0.42194492]]\n",
      "[[ 1.34742277 -0.28169566]\n",
      " [ 1.34742277 -0.28169566]\n",
      " [-0.13547874 -0.42194492]\n",
      " [-0.13547874 -0.42194492]]\n"
     ]
    },
    {
     "data": {
      "text/plain": [
       "array([[ 1.34742277,  1.34742277, -0.28169566, -0.28169566],\n",
       "       [ 1.34742277,  1.34742277, -0.28169566, -0.28169566],\n",
       "       [-0.13547874, -0.13547874, -0.42194492, -0.42194492],\n",
       "       [-0.13547874, -0.13547874, -0.42194492, -0.42194492]])"
      ]
     },
     "execution_count": 34,
     "metadata": {},
     "output_type": "execute_result"
    }
   ],
   "source": [
    "arr = np.random.randn(2, 2)\n",
    "print(arr)\n",
    "arr = arr.repeat(2, axis=0)  # 행 기준으로 2번 반복 = 행 밑에 붙임(행이 추가됨)\n",
    "print(arr)\n",
    "arr.repeat(2, axis=1)  # 열기 준으로 2번 반복 = 열 옆에 붙임(열이 추가됨)\n"
   ]
  },
  {
   "cell_type": "markdown",
   "metadata": {},
   "source": [
    "```tile```은  축을 따라 배열을 복사해서 쌓는 함수 <br>타일을 이어 붙이듯이 같은 내용의 배열을 이어 붙이기"
   ]
  },
  {
   "cell_type": "code",
   "execution_count": 40,
   "metadata": {},
   "outputs": [
    {
     "name": "stdout",
     "output_type": "stream",
     "text": [
      "[[0.74679133 0.23051854]\n",
      " [1.39551385 0.68242024]]\n"
     ]
    },
    {
     "data": {
      "text/plain": [
       "array([[0.74679133, 0.23051854, 0.74679133, 0.23051854],\n",
       "       [1.39551385, 0.68242024, 1.39551385, 0.68242024],\n",
       "       [0.74679133, 0.23051854, 0.74679133, 0.23051854],\n",
       "       [1.39551385, 0.68242024, 1.39551385, 0.68242024]])"
      ]
     },
     "execution_count": 40,
     "metadata": {},
     "output_type": "execute_result"
    }
   ],
   "source": [
    "import numpy as np\n",
    "arr = np.random.randn(2, 2)\n",
    "print(arr)\n",
    "np.tile(arr, (2, 2))  #행 2번, 열 2번 추가"
   ]
  },
  {
   "cell_type": "code",
   "execution_count": 42,
   "metadata": {},
   "outputs": [
    {
     "data": {
      "text/plain": [
       "array([[0.74679133, 0.23051854, 0.74679133, 0.23051854, 0.74679133,\n",
       "        0.23051854],\n",
       "       [1.39551385, 0.68242024, 1.39551385, 0.68242024, 1.39551385,\n",
       "        0.68242024],\n",
       "       [0.74679133, 0.23051854, 0.74679133, 0.23051854, 0.74679133,\n",
       "        0.23051854],\n",
       "       [1.39551385, 0.68242024, 1.39551385, 0.68242024, 1.39551385,\n",
       "        0.68242024]])"
      ]
     },
     "execution_count": 42,
     "metadata": {},
     "output_type": "execute_result"
    }
   ],
   "source": [
    "np.tile(arr,(2, 3))"
   ]
  },
  {
   "cell_type": "markdown",
   "metadata": {},
   "source": [
    "## 브로드캐스팅 <br>\n",
    "\n",
    "다른 모양의 배열 간의 산술연산을 어떻게 수행 하는 지 설명   \n",
    "**브로드 캐스팅 규칙:**   \n",
    "이어지는 각 차원에 대해 축의 길이가 일치 하거나 둘중 하나가 길이가 1이라면 두 배열을 브로드캐스팅 호환이다.   \n",
    "브로드캐트닝은 누락된 혹은 길이가 1인 차원에 대해 수행   \n",
    "![](./a-4.png)"
   ]
  },
  {
   "cell_type": "code",
   "execution_count": 14,
   "metadata": {},
   "outputs": [
    {
     "name": "stdout",
     "output_type": "stream",
     "text": [
      "[[ -8.  22.   6.]\n",
      " [  1.  10.  -3.]\n",
      " [  6.   3. -16.]\n",
      " [ -2.  12.   0.]]\n",
      "arr2\n",
      "\n",
      " [-24.  11.  -3.]\n"
     ]
    },
    {
     "data": {
      "text/plain": [
       "array([[-32.,  33.,   3.],\n",
       "       [-23.,  21.,  -6.],\n",
       "       [-18.,  14., -19.],\n",
       "       [-26.,  23.,  -3.]])"
      ]
     },
     "execution_count": 14,
     "metadata": {},
     "output_type": "execute_result"
    }
   ],
   "source": [
    "arr1 = np.around(np.random.randn(4, 3)*10)  #평균0, 표준편차 10(*10을 했으니까)\n",
    "print(arr1)\n",
    "#브로드캐스팅 = 자동으로 차원, 행, 열이 같은 값으로 크기를 맞춰줌\n",
    "arr2 =np.around(np.random.randn(3,)*10) #'3열'이라는 것이 동일하기 때문에 브로드캐스팅 가능\n",
    "print(\"arr2\\n\\n\",arr2)\n",
    "arr1 + arr2  #arr2가 자동으로 확장하여 4행 3열이 됨!"
   ]
  },
  {
   "cell_type": "markdown",
   "metadata": {},
   "source": [
    "아래 예제는 4x3행렬을 만들고 각 행에 대한 평균값을 뺀다고 가정 "
   ]
  },
  {
   "cell_type": "code",
   "execution_count": 15,
   "metadata": {},
   "outputs": [
    {
     "name": "stdout",
     "output_type": "stream",
     "text": [
      "[[ -0.  -7.   3.]\n",
      " [ -9.  -8.  11.]\n",
      " [ 12.  13. -13.]\n",
      " [  2.   4.   6.]]\n",
      "[-1.33333333 -2.          4.          4.        ]\n",
      "(4,)\n",
      "[[-1.33333333]\n",
      " [-2.        ]\n",
      " [ 4.        ]\n",
      " [ 4.        ]]\n"
     ]
    }
   ],
   "source": [
    "arr1 = np.around(np.random.randn(4, 3)*10)\n",
    "print(arr1)\n",
    "row_mean = arr1.mean(1)  #행에 대한 평균 = 1차원이라 행으로 만들어짐\n",
    "print(row_mean)\n",
    "print(row_mean.shape)\n",
    "print(row_mean.reshape(4, 1))  #브로드캐스팅을 위해 4행 1열로 만들어줌"
   ]
  },
  {
   "cell_type": "markdown",
   "metadata": {},
   "source": [
    "![](./a-5.png)    \n",
    "아래는 3차원 배열의 0번축에 대해 2차원 배열의 값을 더하는 과정\n",
    "![](./a-6.png)  "
   ]
  },
  {
   "cell_type": "markdown",
   "metadata": {},
   "source": [
    "다차원의 배열에서 브로드캐스팅은 규칙을 잘 따라야 계산 <br><br>\n",
    "아래는 차원이 맞지 않을 경우에 대한 에러"
   ]
  },
  {
   "cell_type": "code",
   "execution_count": 16,
   "metadata": {},
   "outputs": [
    {
     "data": {
      "text/plain": [
       "array([[  1.33333333,  -5.66666667,   4.33333333],\n",
       "       [ -7.        ,  -6.        ,  13.        ],\n",
       "       [  8.        ,   9.        , -17.        ],\n",
       "       [ -2.        ,   0.        ,   2.        ]])"
      ]
     },
     "execution_count": 16,
     "metadata": {},
     "output_type": "execute_result"
    }
   ],
   "source": [
    "dim_main_sub = arr1 - row_mean.reshape(4,1) #아래는 차원이 맞은 브로드캐스팅\n",
    "dim_main_sub\n",
    "#아래의 예제는 행도, 열도 크기가 다르기 대문에 실행이 안됨\n",
    "#dim_main_sub = arr1 - row_mean #아래는 차원이 맞지 않을 경우에 대한 에러 = 오류남"
   ]
  },
  {
   "cell_type": "markdown",
   "metadata": {},
   "source": [
    "<img src=\"http://www.astroml.org/_images/fig_broadcast_visual_1.png\">"
   ]
  },
  {
   "cell_type": "code",
   "execution_count": 17,
   "metadata": {},
   "outputs": [
    {
     "data": {
      "text/plain": [
       "array([0, 2, 4])"
      ]
     },
     "execution_count": 17,
     "metadata": {},
     "output_type": "execute_result"
    }
   ],
   "source": [
    "np.arange(3)+np.arange(3)"
   ]
  },
  {
   "cell_type": "code",
   "execution_count": null,
   "metadata": {},
   "outputs": [],
   "source": []
  }
 ],
 "metadata": {
  "kernelspec": {
   "display_name": "Python 3 (ipykernel)",
   "language": "python",
   "name": "python3"
  },
  "language_info": {
   "codemirror_mode": {
    "name": "ipython",
    "version": 3
   },
   "file_extension": ".py",
   "mimetype": "text/x-python",
   "name": "python",
   "nbconvert_exporter": "python",
   "pygments_lexer": "ipython3",
   "version": "3.9.5"
  }
 },
 "nbformat": 4,
 "nbformat_minor": 4
}
