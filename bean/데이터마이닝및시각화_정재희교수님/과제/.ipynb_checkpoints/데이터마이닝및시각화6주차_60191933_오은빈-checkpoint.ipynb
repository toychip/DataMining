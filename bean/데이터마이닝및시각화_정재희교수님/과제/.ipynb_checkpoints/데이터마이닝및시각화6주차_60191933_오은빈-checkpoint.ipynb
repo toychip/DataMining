{
 "cells": [
  {
   "cell_type": "code",
   "execution_count": 1,
   "id": "36f7c935",
   "metadata": {},
   "outputs": [],
   "source": [
    "#데이터마이닝및시각화 6주차 과제\n",
    "#정보통신공학과 60191933 오은빈\n",
    "from sklearn.datasets import load_iris\n",
    "import matplotlib.pyplot as plt\n",
    "import pandas as pd\n",
    "import numpy as np\n",
    "\n",
    "iris = load_iris()"
   ]
  },
  {
   "cell_type": "code",
   "execution_count": 5,
   "id": "0e74912a",
   "metadata": {},
   "outputs": [
    {
     "data": {
      "text/html": [
       "<div>\n",
       "<style scoped>\n",
       "    .dataframe tbody tr th:only-of-type {\n",
       "        vertical-align: middle;\n",
       "    }\n",
       "\n",
       "    .dataframe tbody tr th {\n",
       "        vertical-align: top;\n",
       "    }\n",
       "\n",
       "    .dataframe thead th {\n",
       "        text-align: right;\n",
       "    }\n",
       "</style>\n",
       "<table border=\"1\" class=\"dataframe\">\n",
       "  <thead>\n",
       "    <tr style=\"text-align: right;\">\n",
       "      <th></th>\n",
       "      <th>sepal length (cm)</th>\n",
       "      <th>sepal width (cm)</th>\n",
       "      <th>petal length (cm)</th>\n",
       "      <th>petal width (cm)</th>\n",
       "      <th>target</th>\n",
       "      <th>targetName</th>\n",
       "    </tr>\n",
       "  </thead>\n",
       "  <tbody>\n",
       "    <tr>\n",
       "      <th>0</th>\n",
       "      <td>5.1</td>\n",
       "      <td>3.5</td>\n",
       "      <td>1.4</td>\n",
       "      <td>0.2</td>\n",
       "      <td>0.0</td>\n",
       "      <td>setosa</td>\n",
       "    </tr>\n",
       "    <tr>\n",
       "      <th>1</th>\n",
       "      <td>4.9</td>\n",
       "      <td>3.0</td>\n",
       "      <td>1.4</td>\n",
       "      <td>0.2</td>\n",
       "      <td>0.0</td>\n",
       "      <td>setosa</td>\n",
       "    </tr>\n",
       "    <tr>\n",
       "      <th>2</th>\n",
       "      <td>4.7</td>\n",
       "      <td>3.2</td>\n",
       "      <td>1.3</td>\n",
       "      <td>0.2</td>\n",
       "      <td>0.0</td>\n",
       "      <td>setosa</td>\n",
       "    </tr>\n",
       "    <tr>\n",
       "      <th>3</th>\n",
       "      <td>4.6</td>\n",
       "      <td>3.1</td>\n",
       "      <td>1.5</td>\n",
       "      <td>0.2</td>\n",
       "      <td>0.0</td>\n",
       "      <td>setosa</td>\n",
       "    </tr>\n",
       "    <tr>\n",
       "      <th>4</th>\n",
       "      <td>5.0</td>\n",
       "      <td>3.6</td>\n",
       "      <td>1.4</td>\n",
       "      <td>0.2</td>\n",
       "      <td>0.0</td>\n",
       "      <td>setosa</td>\n",
       "    </tr>\n",
       "  </tbody>\n",
       "</table>\n",
       "</div>"
      ],
      "text/plain": [
       "   sepal length (cm)  sepal width (cm)  petal length (cm)  petal width (cm)  \\\n",
       "0                5.1               3.5                1.4               0.2   \n",
       "1                4.9               3.0                1.4               0.2   \n",
       "2                4.7               3.2                1.3               0.2   \n",
       "3                4.6               3.1                1.5               0.2   \n",
       "4                5.0               3.6                1.4               0.2   \n",
       "\n",
       "   target targetName  \n",
       "0     0.0     setosa  \n",
       "1     0.0     setosa  \n",
       "2     0.0     setosa  \n",
       "3     0.0     setosa  \n",
       "4     0.0     setosa  "
      ]
     },
     "execution_count": 5,
     "metadata": {},
     "output_type": "execute_result"
    }
   ],
   "source": [
    "#1번\n",
    "x, y = iris.data, iris.target  #iris 데이터와 부류를 각각 x, y에 저장\n",
    "\n",
    "df = pd.DataFrame(x, columns = iris.feature_names)  #데이터(x)로 데이터프레임 생성\n",
    "#target, targetName 열을 추가\n",
    "df[\"target\"], df[\"targetName\"] = y.astype('float32'), np.where(y == 0, iris.target_names[0],\n",
    "                                                              np.where(y == 1, iris.target_names[1], iris.target_names[2]))\n",
    "\n",
    "df.head()  #상위 5개의 정보만 출력"
   ]
  },
  {
   "cell_type": "code",
   "execution_count": 11,
   "id": "595781cf",
   "metadata": {},
   "outputs": [
    {
     "data": {
      "image/png": "[encoded data removed]",
      "text/plain": [
       "<Figure size 432x288 with 1 Axes>"
      ]
     },
     "metadata": {
      "needs_background": "light"
     },
     "output_type": "display_data"
    }
   ],
   "source": [
    "#2번-1: 꽃잎에 따른 분류\n",
    "setosa = df[df[\"targetName\"] == iris.target_names[0]]  #setosa의 데이터를 저장\n",
    "versicolor = df[df[\"targetName\"] == iris.target_names[1]]  #versicolor의 데이터를 저장\n",
    "virginica = df[df[\"targetName\"] == iris.target_names[2]]  #virginica의 데이터를 저장\n",
    "\n",
    "plt.plot(setosa.iloc[:,[0]], setosa.iloc[:,[1]], 'ro', label = \"setosa\")  #setosa의 데이터를 점찍음\n",
    "plt.plot(versicolor.iloc[:,[0]], versicolor.iloc[:,[1]], 'bx', label = \"versicolor\")  #versicolor의 데이터를 점찍음\n",
    "plt.plot(virginica.iloc[:,[0]], virginica.iloc[:,[1]], 'g^', label = \"virginica\")  #virginica의 데이터를 점찍음\n",
    "plt.xlabel(df.columns[0])  #x축의 이름\n",
    "plt.ylabel(df.columns[1])  #y축의 이름\n",
    "plt.legend()  #라벨 표시\n",
    "plt.show()"
   ]
  },
  {
   "cell_type": "code",
   "execution_count": 12,
   "id": "b439af7e",
   "metadata": {},
   "outputs": [
    {
     "data": {
      "image/png": "[encoded data removed]",
      "text/plain": [
       "<Figure size 432x288 with 1 Axes>"
      ]
     },
     "metadata": {
      "needs_background": "light"
     },
     "output_type": "display_data"
    }
   ],
   "source": [
    "#2번-2: 꽃받침에 따른 분류\n",
    "plt.plot(setosa.iloc[:,[2]], setosa.iloc[:,[3]], 'ro', label = \"setosa\")  #setosa의 데이터를 점찍음\n",
    "plt.plot(versicolor.iloc[:,[2]], versicolor.iloc[:,[3]], 'bx', label = \"versicolor\")  #versicolor의 데이터를 점찍음\n",
    "plt.plot(virginica.iloc[:,[2]], virginica.iloc[:,[3]], 'g^', label = \"virginica\")  #virginica의 데이터를 점찍음\n",
    "plt.xlabel(df.columns[2])  #x축 이름\n",
    "plt.ylabel(df.columns[3])  #y축 이름\n",
    "plt.legend()  #라벨 표시\n",
    "plt.show()"
   ]
  }
 ],
 "metadata": {
  "kernelspec": {
   "display_name": "Python 3 (ipykernel)",
   "language": "python",
   "name": "python3"
  },
  "language_info": {
   "codemirror_mode": {
    "name": "ipython",
    "version": 3
   },
   "file_extension": ".py",
   "mimetype": "text/x-python",
   "name": "python",
   "nbconvert_exporter": "python",
   "pygments_lexer": "ipython3",
   "version": "3.9.5"
  }
 },
 "nbformat": 4,
 "nbformat_minor": 5
}
