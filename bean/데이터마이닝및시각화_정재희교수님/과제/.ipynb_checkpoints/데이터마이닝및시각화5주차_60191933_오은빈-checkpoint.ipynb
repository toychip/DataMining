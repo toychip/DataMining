{
 "cells": [
  {
   "cell_type": "code",
   "execution_count": 1,
   "id": "0ca1194d",
   "metadata": {},
   "outputs": [],
   "source": [
    "#데이터마이닝및시각화 5주차 과제\n",
    "#정보통신공학과 60191933 오은빈\n",
    "import numpy as np\n",
    "import matplotlib.pyplot as plt\n",
    "\n",
    "def main():\n",
    "    Score = np.random.randint(100, size = (10, 4))\n",
    "    Scatter(Score)  #1번 함수 호출\n",
    "    Histogram(Score)  #2번 함수 호출\n",
    "    Pie(Score)  #3번 함수 호출\n",
    "    Boxplot(Score)  #4번 함수 호출"
   ]
  },
  {
   "cell_type": "code",
   "execution_count": 2,
   "id": "ccbb2401",
   "metadata": {},
   "outputs": [],
   "source": [
    "#영어, 국어 점수를 흩뿌기한 그래프를 그리는 함수\n",
    "def Scatter(score):\n",
    "    print(\"#1번\")\n",
    "    x = score[:,1]  #영어 점수(1열)을 가져옴\n",
    "    y = score[:,0]  #국어 점수(0열)을 가져옴\n",
    "    \n",
    "    plt.scatter(x, y, marker = '^', color = 'b')  #삼각형 모양, 파란색 마커\n",
    "    plt.xlabel(\"English\")  #x축 이름을 English로 설정\n",
    "    plt.ylabel(\"Korea\")  #y축 이름을 Korea로 설정\n",
    "    plt.show()\n",
    "    print()"
   ]
  },
  {
   "cell_type": "code",
   "execution_count": 8,
   "id": "3bfabf62",
   "metadata": {},
   "outputs": [],
   "source": [
    "#각 과목별로 히스토그램을 그리는 함수\n",
    "def Histogram(score):\n",
    "    print('#2번')\n",
    "    fig = plt.figure()\n",
    "    subject = [\"Korea\", \"English\", \"Math\", \"Science\"]\n",
    "    fig.subplots_adjust(hspace=0.5, wspace=0.3)  #공백 지정\n",
    "    \n",
    "    for i in range(4):\n",
    "        ax = fig.add_subplot(2, 2, i + 1)  #2행 2열의 i번째 자리에 만듦\n",
    "        ax.set(xlabel = subject[i], ylabel = \"Count\")  #x축과 y축의 이름을설정\n",
    "        ax.hist(score[:,i])  #i열(각 과목)에 대해 히스토그램 그리기\n",
    "    plt.show()\n",
    "    print()"
   ]
  },
  {
   "cell_type": "code",
   "execution_count": 4,
   "id": "309f0cb5",
   "metadata": {},
   "outputs": [],
   "source": [
    "#국어 점수의 성적을 파이차트로 그리는 함수\n",
    "def Pie(score):\n",
    "    print(\"#3번\")\n",
    "    label = ['A', 'B', 'C', 'D']  #표시할 성적을 만듦\n",
    "    Korea = score[:,0]  #국어 점수만 가져옴\n",
    "    \n",
    "    #각 점수 이상, 미만인 수를 적은 배열을 만듦\n",
    "    arr = np.array([(Korea >= 90).sum(), (Korea >= 80).sum(), (Korea >= 70).sum(), (Korea < 70).sum()])\n",
    "    #80이상, 70이상은 누적값이므로 70이상-80이상, 80이상-90이상을 함\n",
    "    for i in range(2, 0, -1):\n",
    "        arr[i] = arr[i] - arr[i - 1]\n",
    "        \n",
    "    plt.pie(arr, labels = label)  #파이차트 그리기\n",
    "    plt.show()  #파이차트 출력"
   ]
  },
  {
   "cell_type": "code",
   "execution_count": 5,
   "id": "1f925745",
   "metadata": {},
   "outputs": [],
   "source": [
    "#각 과목의 최대, 최소, 평균을 그리는 함수\n",
    "def Boxplot(score):\n",
    "    print(\"#4번\")\n",
    "    label = [\"Kor\", \"Eng\", \"Math\", \"Science\"]  #각 축의 라벨\n",
    "    #열에 대한 최대, 최소, 평균을 구하는 것이기 때문에 score를 그대로 가져옴\n",
    "    plt.boxplot(score, labels = label)  \n",
    "    plt.show()"
   ]
  },
  {
   "cell_type": "code",
   "execution_count": 19,
   "id": "9e2eda9d",
   "metadata": {},
   "outputs": [
    {
     "name": "stdout",
     "output_type": "stream",
     "text": [
      "#1번\n"
     ]
    },
    {
     "data": {
      "image/png": "[encoded data removed]",
      "text/plain": [
       "<Figure size 432x288 with 1 Axes>"
      ]
     },
     "metadata": {
      "needs_background": "light"
     },
     "output_type": "display_data"
    },
    {
     "name": "stdout",
     "output_type": "stream",
     "text": [
      "\n",
      "#2번\n"
     ]
    },
    {
     "data": {
      "image/png": "[encoded data removed]",
      "text/plain": [
       "<Figure size 432x288 with 4 Axes>"
      ]
     },
     "metadata": {
      "needs_background": "light"
     },
     "output_type": "display_data"
    },
    {
     "name": "stdout",
     "output_type": "stream",
     "text": [
      "\n",
      "#3번\n"
     ]
    },
    {
     "data": {
      "image/png": "[encoded data removed]",
      "text/plain": [
       "<Figure size 432x288 with 1 Axes>"
      ]
     },
     "metadata": {},
     "output_type": "display_data"
    },
    {
     "name": "stdout",
     "output_type": "stream",
     "text": [
      "#4번\n"
     ]
    },
    {
     "data": {
      "image/png": "[encoded data removed]",
      "text/plain": [
       "<Figure size 432x288 with 1 Axes>"
      ]
     },
     "metadata": {
      "needs_background": "light"
     },
     "output_type": "display_data"
    }
   ],
   "source": [
    "main()"
   ]
  }
 ],
 "metadata": {
  "kernelspec": {
   "display_name": "Python 3 (ipykernel)",
   "language": "python",
   "name": "python3"
  },
  "language_info": {
   "codemirror_mode": {
    "name": "ipython",
    "version": 3
   },
   "file_extension": ".py",
   "mimetype": "text/x-python",
   "name": "python",
   "nbconvert_exporter": "python",
   "pygments_lexer": "ipython3",
   "version": "3.9.5"
  }
 },
 "nbformat": 4,
 "nbformat_minor": 5
}
