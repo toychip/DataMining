{
 "cells": [
  {
   "cell_type": "markdown",
   "metadata": {},
   "source": [
    "아래 강의 노트는 [Python for data Analysis 책](https://github.com/wesm/pydata-book)4장을 기반으로 번역 및 편집하여 페이지 구성함  \n",
    "<img src =\"https://image.yes24.com/goods/73268296/800x0\" width=5%>\n",
    "\n",
    " **무단 배포를 금지 합니다.** \n",
    "\n",
    "***"
   ]
  },
  {
   "cell_type": "markdown",
   "metadata": {},
   "source": [
    "## NumPy 기본: 배열과 벡터 연산"
   ]
  },
  {
   "cell_type": "markdown",
   "metadata": {},
   "source": [
    "####  Numpy 에서 제공하는 것\n",
    "* 효율적인 다차원 배열인 ndarray는 빠른 배열 계산과 유연한 브로드캐스팅 기능 제공\n",
    "* 반복문을 작성할 필요 없이 전체 데이터 배열을 빠르게 계산 할 수 있는 표준 수학함수\n",
    "* 배열 데이터를 디스크에 쓰거나 읽을 수 있는 도구와 메모리에 적재된 파일을 다루는 도구\n",
    "* 선형대수, 난수 생성기, 푸리에 변환 기능\n",
    "* C,C++,포트란으로 작성한 코드를 연결할 수 있는 C API  \n",
    "    \n",
    "#### 데이터 분석 에서 중요하게 생각하는 기능\n",
    "* 벡터 배열 상에서 데이터 가공, 정제 , 부분집합, 필터링 변형 그리고 다른 여러 종류의 연산을 빠르게 수행\n",
    "* 정렬, 유일 원소 찾기, 집한 연산 같은 일방적인 배열 처리 알고리즘\n",
    "* 통계의 효과적인 표현과 데이터를 수집 요약하기\n",
    "* 다양한 종류의 데이터를 병합하고 통합 위한 데이터 정렬과 데이터 간의 관계 조직\n",
    "* 내부에서 if -elif- else를 사용하는 반복문 대신 사용할 수 있는 조건 표현을 허용하는 배열 처리\n",
    "* 데이터 묶음 전체에 적용할 수 있는 수집, 변형 , 함수 적용 같은 데이터 처리"
   ]
  },
  {
   "cell_type": "code",
   "execution_count": 1,
   "metadata": {},
   "outputs": [],
   "source": [
    "import numpy as np  # @@ 리스트보다 실행 속도가 빠르다!"
   ]
  },
  {
   "cell_type": "code",
   "execution_count": 2,
   "metadata": {},
   "outputs": [],
   "source": [
    "import numpy as np\n",
    "\n",
    "my_arr = np.arange(1000000)  # @@@ 0부터 1000000개의 데이터를 배열로 만드는 함수\n",
    "my_list = list(range(1000000))  # @@ 0부터 n개의 데이터를 리스트로 저장함"
   ]
  },
  {
   "cell_type": "markdown",
   "metadata": {},
   "source": [
    "Numpy 배열과 파이썬의 리스트의  성능 차이 비교"
   ]
  },
  {
   "cell_type": "code",
   "execution_count": 3,
   "metadata": {
    "scrolled": true
   },
   "outputs": [
    {
     "name": "stdout",
     "output_type": "stream",
     "text": [
      "Wall time: 26.9 ms\n",
      "Wall time: 1.33 s\n"
     ]
    }
   ],
   "source": [
    "%time for _ in range(10): my_arr2 = my_arr * 2  # @@ 해당 연산에 걸리는 시간 출력\n",
    "%time for _ in range(10): my_list2 = [x * 2 for x in my_list]"
   ]
  },
  {
   "cell_type": "markdown",
   "metadata": {},
   "source": [
    "Numpy를 사용한 코드 순수한 파이썬으로 작성한 코드보다 \n",
    "   > 속도 : 열배 ~ 백배 빠름    \n",
    "   > 메모리 적게사용"
   ]
  },
  {
   "cell_type": "markdown",
   "metadata": {},
   "source": [
    "## The NumPy ndarray: 다차원 배열"
   ]
  },
  {
   "cell_type": "markdown",
   "metadata": {},
   "source": [
    "ndarray라고 하는 N 배열 객체   \n",
    "대규모의 집합을 담을 수 있고 빠르고 유연한 자료구조"
   ]
  },
  {
   "cell_type": "code",
   "execution_count": 4,
   "metadata": {},
   "outputs": [
    {
     "data": {
      "text/plain": [
       "array([[ 1.62434536, -0.61175641, -0.52817175],\n",
       "       [-1.07296862,  0.86540763, -2.3015387 ]])"
      ]
     },
     "execution_count": 4,
     "metadata": {},
     "output_type": "execute_result"
    }
   ],
   "source": [
    "import numpy as np\n",
    "np.random.seed(1)  # @@ 시간이 지나도 숫자가 똑같음\n",
    "np.random.randn(2, 3)"
   ]
  },
  {
   "cell_type": "code",
   "execution_count": 5,
   "metadata": {},
   "outputs": [
    {
     "data": {
      "text/plain": [
       "array([[ 10.,  10., -20.],\n",
       "       [ -0.,  10., -10.]])"
      ]
     },
     "execution_count": 5,
     "metadata": {},
     "output_type": "execute_result"
    }
   ],
   "source": [
    "import numpy as np\n",
    "np.random.seed(10)  # @@ 시간이 지남에도 일정하게 숫자 설정하기 위해\n",
    "# Generate some random data\n",
    "data = np.round(np.random.randn(2, 3))*10  # @@ 2행 3열, 반올림한 결과에 10을 곱함\n",
    "data"
   ]
  },
  {
   "cell_type": "markdown",
   "metadata": {},
   "source": [
    "#### 산술연산"
   ]
  },
  {
   "cell_type": "code",
   "execution_count": 6,
   "metadata": {},
   "outputs": [
    {
     "data": {
      "text/plain": [
       "array([[ 100.,  100., -200.],\n",
       "       [  -0.,  100., -100.]])"
      ]
     },
     "execution_count": 6,
     "metadata": {},
     "output_type": "execute_result"
    }
   ],
   "source": [
    "data * 10"
   ]
  },
  {
   "cell_type": "code",
   "execution_count": 7,
   "metadata": {},
   "outputs": [
    {
     "data": {
      "text/plain": [
       "array([[ 20.,  20., -40.],\n",
       "       [ -0.,  20., -20.]])"
      ]
     },
     "execution_count": 7,
     "metadata": {},
     "output_type": "execute_result"
    }
   ],
   "source": [
    "data + data"
   ]
  },
  {
   "cell_type": "markdown",
   "metadata": {},
   "source": [
    "<img src=\"https://laboputer.github.io/assets/img/ml/python/numpy/1.JPG\">\n",
    "\n",
    "\n",
    "* ndarray는 모두 **같은** 자료 구조형    \n",
    "* ```shape``` : 튜플과 배열에 저장된 각 차원의 크기 \n",
    "* ```dtype``` : 튜플과 배열에 저장된 자료형 \n",
    "* ```ndim``` : 배열의 차원수 "
   ]
  },
  {
   "cell_type": "code",
   "execution_count": 8,
   "metadata": {},
   "outputs": [
    {
     "data": {
      "text/plain": [
       "array([[ 10.,  10., -20.],\n",
       "       [ -0.,  10., -10.]])"
      ]
     },
     "execution_count": 8,
     "metadata": {},
     "output_type": "execute_result"
    }
   ],
   "source": [
    "data"
   ]
  },
  {
   "cell_type": "code",
   "execution_count": 9,
   "metadata": {},
   "outputs": [
    {
     "data": {
      "text/plain": [
       "(2, 3)"
      ]
     },
     "execution_count": 9,
     "metadata": {},
     "output_type": "execute_result"
    }
   ],
   "source": [
    "data.shape  # 몇면 몇행 몇열인지 알려줌"
   ]
  },
  {
   "cell_type": "code",
   "execution_count": 10,
   "metadata": {},
   "outputs": [
    {
     "data": {
      "text/plain": [
       "2"
      ]
     },
     "execution_count": 10,
     "metadata": {},
     "output_type": "execute_result"
    }
   ],
   "source": [
    "data.ndim  # 차원을 알려줌(면행열:3, 면면행열:4 ... )"
   ]
  },
  {
   "cell_type": "markdown",
   "metadata": {},
   "source": [
    "### ndarrays 생성하기"
   ]
  },
  {
   "cell_type": "markdown",
   "metadata": {},
   "source": [
    "배열을 생성하는 가장 쉬운 방법은 ```array``` 함수 이용     \n",
    "예: 파이썬의 리스트는 변환하기 좋은 예"
   ]
  },
  {
   "cell_type": "code",
   "execution_count": 11,
   "metadata": {},
   "outputs": [
    {
     "data": {
      "text/plain": [
       "array([6. , 8.2, 0. , 1. ])"
      ]
     },
     "execution_count": 11,
     "metadata": {},
     "output_type": "execute_result"
    }
   ],
   "source": [
    "data1 = [6, 8.2, 0, 1]\n",
    "arr1 = np.array(data1)\n",
    "arr1"
   ]
  },
  {
   "cell_type": "code",
   "execution_count": 12,
   "metadata": {},
   "outputs": [
    {
     "data": {
      "text/plain": [
       "array([[1, 2, 3, 4],\n",
       "       [5, 6, 7, 8]])"
      ]
     },
     "execution_count": 12,
     "metadata": {},
     "output_type": "execute_result"
    }
   ],
   "source": [
    "data2 = [[1, 2, 3, 4], [5, 6, 7, 8]]\n",
    "arr2 = np.array(data2)\n",
    "arr2"
   ]
  },
  {
   "cell_type": "code",
   "execution_count": 13,
   "metadata": {},
   "outputs": [
    {
     "data": {
      "text/plain": [
       "2"
      ]
     },
     "execution_count": 13,
     "metadata": {},
     "output_type": "execute_result"
    }
   ],
   "source": [
    "arr2.ndim"
   ]
  },
  {
   "cell_type": "code",
   "execution_count": 14,
   "metadata": {},
   "outputs": [
    {
     "data": {
      "text/plain": [
       "(2, 4)"
      ]
     },
     "execution_count": 14,
     "metadata": {},
     "output_type": "execute_result"
    }
   ],
   "source": [
    "arr2.shape"
   ]
  },
  {
   "cell_type": "code",
   "execution_count": 15,
   "metadata": {},
   "outputs": [
    {
     "data": {
      "text/plain": [
       "dtype('float64')"
      ]
     },
     "execution_count": 15,
     "metadata": {},
     "output_type": "execute_result"
    }
   ],
   "source": [
    "arr1.dtype"
   ]
  },
  {
   "cell_type": "code",
   "execution_count": 16,
   "metadata": {},
   "outputs": [
    {
     "data": {
      "text/plain": [
       "dtype('int32')"
      ]
     },
     "execution_count": 16,
     "metadata": {},
     "output_type": "execute_result"
    }
   ],
   "source": [
    "arr2.dtype"
   ]
  },
  {
   "cell_type": "markdown",
   "metadata": {},
   "source": [
    "특수한 배열 만들기     \n",
    "* ```zeros()```: () 사이즈 만큼 0으로 채워진 배열 생성\n",
    "* ```ones()```:() 사이즈 만큼 1으로 채워진 배열 생성\n",
    "* ```empty()```:() 사이즈 만큼 빈 배열 생성  "
   ]
  },
  {
   "cell_type": "code",
   "execution_count": 17,
   "metadata": {},
   "outputs": [
    {
     "data": {
      "text/plain": [
       "array([0., 0., 0., 0., 0., 0., 0., 0., 0., 0.])"
      ]
     },
     "execution_count": 17,
     "metadata": {},
     "output_type": "execute_result"
    }
   ],
   "source": [
    "np.zeros(10)"
   ]
  },
  {
   "cell_type": "code",
   "execution_count": 18,
   "metadata": {},
   "outputs": [
    {
     "data": {
      "text/plain": [
       "array([[0., 0., 0., 0., 0., 0.],\n",
       "       [0., 0., 0., 0., 0., 0.],\n",
       "       [0., 0., 0., 0., 0., 0.]])"
      ]
     },
     "execution_count": 18,
     "metadata": {},
     "output_type": "execute_result"
    }
   ],
   "source": [
    "np.zeros((3, 6))"
   ]
  },
  {
   "cell_type": "code",
   "execution_count": 19,
   "metadata": {},
   "outputs": [
    {
     "data": {
      "text/plain": [
       "array([[[1.10734569e-311, 2.47032823e-322],\n",
       "        [0.00000000e+000, 0.00000000e+000],\n",
       "        [1.82713057e+011, 2.46567317e+179]],\n",
       "\n",
       "       [[4.71080837e-090, 4.27629914e-033],\n",
       "        [2.36594434e+179, 1.79699205e-052],\n",
       "        [3.99910963e+252, 1.46030983e-319]]])"
      ]
     },
     "execution_count": 19,
     "metadata": {},
     "output_type": "execute_result"
    }
   ],
   "source": [
    "np.empty((2, 3, 2))"
   ]
  },
  {
   "cell_type": "code",
   "execution_count": 20,
   "metadata": {},
   "outputs": [
    {
     "data": {
      "text/plain": [
       "array([ 0,  1,  2,  3,  4,  5,  6,  7,  8,  9, 10, 11, 12, 13, 14])"
      ]
     },
     "execution_count": 20,
     "metadata": {},
     "output_type": "execute_result"
    }
   ],
   "source": [
    "np.arange(15)"
   ]
  },
  {
   "cell_type": "markdown",
   "metadata": {},
   "source": [
    "###  ndarrays의 데이터 타입"
   ]
  },
  {
   "cell_type": "markdown",
   "metadata": {},
   "source": [
    "* ```dtype```은 ndarray가 메모리에 있는 특정 데이터를 설명하기 위해 필요한 정보를 담고 있는 특수한 객체\n",
    "\n",
    "* ```astype```을 이용하여 배열의 ```dtype```을 다른 형식으로 변환 가능 "
   ]
  },
  {
   "cell_type": "code",
   "execution_count": 21,
   "metadata": {},
   "outputs": [
    {
     "name": "stdout",
     "output_type": "stream",
     "text": [
      "float64\n"
     ]
    },
    {
     "data": {
      "text/plain": [
       "dtype('int32')"
      ]
     },
     "execution_count": 21,
     "metadata": {},
     "output_type": "execute_result"
    }
   ],
   "source": [
    "arr1 = np.array([1, 2, 3], dtype=np.float64)  # @@ 만들때 dtype으로 변경\n",
    "print(arr1.dtype)\n",
    "arr2 = np.array([1, 2, 3], dtype=np.int32)\n",
    "arr2.dtype"
   ]
  },
  {
   "cell_type": "code",
   "execution_count": 22,
   "metadata": {},
   "outputs": [
    {
     "data": {
      "text/plain": [
       "dtype('int32')"
      ]
     },
     "execution_count": 22,
     "metadata": {},
     "output_type": "execute_result"
    }
   ],
   "source": [
    "arr2.dtype"
   ]
  },
  {
   "cell_type": "code",
   "execution_count": 23,
   "metadata": {},
   "outputs": [
    {
     "data": {
      "text/plain": [
       "dtype('int32')"
      ]
     },
     "execution_count": 23,
     "metadata": {},
     "output_type": "execute_result"
    }
   ],
   "source": [
    "arr = np.array([1, 2, 3, 4, 5])\n",
    "arr.dtype"
   ]
  },
  {
   "cell_type": "markdown",
   "metadata": {},
   "source": [
    "정수형을 부동소수점으로 변환 "
   ]
  },
  {
   "cell_type": "code",
   "execution_count": 24,
   "metadata": {},
   "outputs": [
    {
     "data": {
      "text/plain": [
       "dtype('float64')"
      ]
     },
     "execution_count": 24,
     "metadata": {},
     "output_type": "execute_result"
    }
   ],
   "source": [
    "float_arr = arr.astype(np.float64)  # @@ 받을때 astype으로 변경\n",
    "float_arr.dtype"
   ]
  },
  {
   "cell_type": "markdown",
   "metadata": {},
   "source": [
    "부동소수정수를 정수형 dtype으로 변환하면 소수점 아래 자리는 버려짐"
   ]
  },
  {
   "cell_type": "code",
   "execution_count": 25,
   "metadata": {},
   "outputs": [
    {
     "data": {
      "text/plain": [
       "array([ 3, -1, -2,  0, 12, 10])"
      ]
     },
     "execution_count": 25,
     "metadata": {},
     "output_type": "execute_result"
    }
   ],
   "source": [
    "arr = np.array([3.7, -1.2, -2.6, 0.5, 12.9, 10.1]) \n",
    "arr\n",
    "arr.astype(np.int32)  # @@ 내림으로 변경된다!! 소수점 사라짐"
   ]
  },
  {
   "cell_type": "code",
   "execution_count": 26,
   "metadata": {},
   "outputs": [
    {
     "data": {
      "text/plain": [
       "array([b'1.25', b'-9.6', b'42'], dtype='|S4')"
      ]
     },
     "execution_count": 26,
     "metadata": {},
     "output_type": "execute_result"
    }
   ],
   "source": [
    "numeric_strings = np.array(['1.25', '-9.6', '42'], dtype=np.string_)\n",
    "#numeric_strings.astype(float)\n",
    "numeric_strings"
   ]
  },
  {
   "cell_type": "code",
   "execution_count": 27,
   "metadata": {},
   "outputs": [
    {
     "data": {
      "text/plain": [
       "array([0., 1., 2., 3., 4., 5., 6., 7., 8., 9.])"
      ]
     },
     "execution_count": 27,
     "metadata": {},
     "output_type": "execute_result"
    }
   ],
   "source": [
    "int_array = np.arange(10) # 0 ~ 9 int64\n",
    "calibers = np.array([.22, .270, .357, .380, .44, .50], dtype=np.float64) #float64\n",
    "int_array.astype(calibers.dtype)  # @@ c의 타입으로 바꿨으니까 float로 바뀜"
   ]
  },
  {
   "cell_type": "code",
   "execution_count": 28,
   "metadata": {},
   "outputs": [
    {
     "data": {
      "text/plain": [
       "array([    0,     1,     0,     0,  1148,     0,   768, 32764],\n",
       "      dtype=uint32)"
      ]
     },
     "execution_count": 28,
     "metadata": {},
     "output_type": "execute_result"
    }
   ],
   "source": [
    "empty_uint32 = np.empty(8, dtype='u4') # @@ u4타입 = unsigned int\n",
    "empty_uint32"
   ]
  },
  {
   "cell_type": "markdown",
   "metadata": {},
   "source": [
    "```astype```을 호출 하면 새로운 ```dtype```과 동일해도 항상 새로운 배열을 생성 (데이터복사)"
   ]
  },
  {
   "cell_type": "markdown",
   "metadata": {},
   "source": [
    "###  NumPy 산술연산"
   ]
  },
  {
   "cell_type": "markdown",
   "metadata": {},
   "source": [
    "**벡터화** :배열의 중요한 특징은 ```for```을 사용하지 않고도 데이터를 일괄 처리 가능 "
   ]
  },
  {
   "cell_type": "code",
   "execution_count": 29,
   "metadata": {},
   "outputs": [
    {
     "data": {
      "text/plain": [
       "array([[1., 2., 3.],\n",
       "       [4., 5., 6.]])"
      ]
     },
     "execution_count": 29,
     "metadata": {},
     "output_type": "execute_result"
    }
   ],
   "source": [
    "import numpy as np\n",
    "arr = np.array([[1., 2., 3.], [4., 5., 6.]])\n",
    "arr"
   ]
  },
  {
   "cell_type": "code",
   "execution_count": 30,
   "metadata": {},
   "outputs": [
    {
     "data": {
      "text/plain": [
       "array([[ 1.,  4.,  9.],\n",
       "       [16., 25., 36.]])"
      ]
     },
     "execution_count": 30,
     "metadata": {},
     "output_type": "execute_result"
    }
   ],
   "source": [
    "arr=arr * arr  # @@ * 연산자는 원소 곱\n",
    "arr"
   ]
  },
  {
   "cell_type": "code",
   "execution_count": 31,
   "metadata": {},
   "outputs": [
    {
     "data": {
      "text/plain": [
       "array([[0., 0., 0.],\n",
       "       [0., 0., 0.]])"
      ]
     },
     "execution_count": 31,
     "metadata": {},
     "output_type": "execute_result"
    }
   ],
   "source": [
    "arr - arr"
   ]
  },
  {
   "cell_type": "code",
   "execution_count": 32,
   "metadata": {},
   "outputs": [
    {
     "data": {
      "text/plain": [
       "array([[1.        , 0.25      , 0.11111111],\n",
       "       [0.0625    , 0.04      , 0.02777778]])"
      ]
     },
     "execution_count": 32,
     "metadata": {},
     "output_type": "execute_result"
    }
   ],
   "source": [
    "1 / arr"
   ]
  },
  {
   "cell_type": "code",
   "execution_count": 33,
   "metadata": {},
   "outputs": [
    {
     "data": {
      "text/plain": [
       "array([[1., 2., 3.],\n",
       "       [4., 5., 6.]])"
      ]
     },
     "execution_count": 33,
     "metadata": {},
     "output_type": "execute_result"
    }
   ],
   "source": [
    "arr ** 0.5"
   ]
  },
  {
   "cell_type": "code",
   "execution_count": 34,
   "metadata": {},
   "outputs": [
    {
     "data": {
      "text/plain": [
       "array([[   0.,    4.,    1.],\n",
       "       [1000.,    2.,   12.]])"
      ]
     },
     "execution_count": 34,
     "metadata": {},
     "output_type": "execute_result"
    }
   ],
   "source": [
    "arr2 = np.array([[0., 4., 1.], [1000, 2., 12.]])\n",
    "arr2\n"
   ]
  },
  {
   "cell_type": "code",
   "execution_count": 35,
   "metadata": {},
   "outputs": [
    {
     "data": {
      "text/plain": [
       "array([[ 1.,  4.,  9.],\n",
       "       [16., 25., 36.]])"
      ]
     },
     "execution_count": 35,
     "metadata": {},
     "output_type": "execute_result"
    }
   ],
   "source": [
    "arr"
   ]
  },
  {
   "cell_type": "code",
   "execution_count": 36,
   "metadata": {},
   "outputs": [
    {
     "data": {
      "text/plain": [
       "array([[False, False, False],\n",
       "       [ True, False, False]])"
      ]
     },
     "execution_count": 36,
     "metadata": {},
     "output_type": "execute_result"
    }
   ],
   "source": [
    "arr2 > arr"
   ]
  },
  {
   "cell_type": "markdown",
   "metadata": {},
   "source": [
    "###  색인과 슬라이싱"
   ]
  },
  {
   "cell_type": "markdown",
   "metadata": {},
   "source": [
    "인덱스는 파이썬의 리스트 인덱싱과 유사하게 동작"
   ]
  },
  {
   "cell_type": "code",
   "execution_count": 37,
   "metadata": {},
   "outputs": [
    {
     "name": "stdout",
     "output_type": "stream",
     "text": [
      "[0 1 2 3 4 5 6 7 8 9]\n",
      "5\n",
      "[5 6 7]\n",
      "[ 0  1  2  3  4 12 12 12  8  9]\n"
     ]
    }
   ],
   "source": [
    "arr = np.arange(10) #0~9\n",
    "print(arr)\n",
    "print(arr[5])\n",
    "print(arr[5:8])\n",
    "arr[5:8] = 12  # @@ 5~7 인덱스의 값을 12로 바꾼다(넘파이는 각각을 12로, 리스트는 통째로 12로)\n",
    "print(arr)\n",
    "\n",
    "#lst = [0, 1, 2, 3, 4, 5, 6, 7, 8, 9]\n",
    "#lst[5:8] = [12]  # @@ 리스트는 정수로 넣으면 안되고 리스트로 넣어야되네 저 3개를 12로 묶어줌\n",
    "#print(lst)"
   ]
  },
  {
   "cell_type": "code",
   "execution_count": 38,
   "metadata": {},
   "outputs": [
    {
     "name": "stdout",
     "output_type": "stream",
     "text": [
      "[12 12 12]\n"
     ]
    }
   ],
   "source": [
    "arr_slice = arr[5:8]\n",
    "\n",
    "print(arr_slice)\n",
    "\n",
    "# @@ arr[행:행, 열:열]"
   ]
  },
  {
   "cell_type": "code",
   "execution_count": 39,
   "metadata": {},
   "outputs": [
    {
     "data": {
      "text/plain": [
       "array([ 0,  1,  2,  3,  4, 12, 12, 12,  8,  9])"
      ]
     },
     "execution_count": 39,
     "metadata": {},
     "output_type": "execute_result"
    }
   ],
   "source": [
    "arr"
   ]
  },
  {
   "cell_type": "code",
   "execution_count": 40,
   "metadata": {},
   "outputs": [
    {
     "data": {
      "text/plain": [
       "array([    0,     1,     2,     3,     4,    12, 12345,    12,     8,\n",
       "           9])"
      ]
     },
     "execution_count": 40,
     "metadata": {},
     "output_type": "execute_result"
    }
   ],
   "source": [
    "arr_slice[1] = 12345  # @@ arr_slice가 arr를 참조하는 형태라서 arr도 바뀜\n",
    "arr"
   ]
  },
  {
   "cell_type": "code",
   "execution_count": 41,
   "metadata": {},
   "outputs": [
    {
     "data": {
      "text/plain": [
       "array([ 0,  1,  2,  3,  4, 64, 64, 64,  8,  9])"
      ]
     },
     "execution_count": 41,
     "metadata": {},
     "output_type": "execute_result"
    }
   ],
   "source": [
    "arr_slice[:] = 64\n",
    "arr"
   ]
  },
  {
   "cell_type": "markdown",
   "metadata": {},
   "source": [
    "![array](./fig4_1.png)"
   ]
  },
  {
   "cell_type": "code",
   "execution_count": 42,
   "metadata": {},
   "outputs": [
    {
     "data": {
      "text/plain": [
       "array([[1, 2, 3],\n",
       "       [4, 5, 6],\n",
       "       [7, 8, 9]])"
      ]
     },
     "execution_count": 42,
     "metadata": {},
     "output_type": "execute_result"
    }
   ],
   "source": [
    "import numpy as np\n",
    "arr2d = np.array([[1, 2, 3], [4, 5, 6], [7, 8, 9]])\n",
    "arr2d"
   ]
  },
  {
   "cell_type": "code",
   "execution_count": 43,
   "metadata": {},
   "outputs": [
    {
     "data": {
      "text/plain": [
       "3"
      ]
     },
     "execution_count": 43,
     "metadata": {},
     "output_type": "execute_result"
    }
   ],
   "source": [
    "arr2d[0,2] # @@ [행,열]"
   ]
  },
  {
   "cell_type": "code",
   "execution_count": 44,
   "metadata": {},
   "outputs": [
    {
     "data": {
      "text/plain": [
       "3"
      ]
     },
     "execution_count": 44,
     "metadata": {},
     "output_type": "execute_result"
    }
   ],
   "source": [
    "arr2d[0][2]  # @@ [행][열]"
   ]
  },
  {
   "cell_type": "code",
   "execution_count": 45,
   "metadata": {},
   "outputs": [
    {
     "data": {
      "text/plain": [
       "array([[[ 1,  2,  3],\n",
       "        [ 4,  5,  6]],\n",
       "\n",
       "       [[ 7,  8,  9],\n",
       "        [10, 11, 12]]])"
      ]
     },
     "execution_count": 45,
     "metadata": {},
     "output_type": "execute_result"
    }
   ],
   "source": [
    "arr3d = np.array([[[1, 2, 3], [4, 5, 6]], [[7, 8, 9],[10,11,12]]])\n",
    "arr3d"
   ]
  },
  {
   "cell_type": "markdown",
   "metadata": {},
   "source": [
    "numpy ```copy()``` 참고\n",
    "\n",
    "https://numpy.org/doc/stable/reference/generated/numpy.copy.html"
   ]
  },
  {
   "cell_type": "code",
   "execution_count": 46,
   "metadata": {},
   "outputs": [
    {
     "data": {
      "text/plain": [
       "array([[[42, 42, 42],\n",
       "        [42, 42, 42]],\n",
       "\n",
       "       [[ 7,  8,  9],\n",
       "        [10, 11, 12]]])"
      ]
     },
     "execution_count": 46,
     "metadata": {},
     "output_type": "execute_result"
    }
   ],
   "source": [
    "old_values = arr3d[0]#.copy()  # @@ a = b[]는 b의 주소를 참조하는 것, 따라서 b가 변하면 a도 변함\n",
    "arr3d[0]=42  # @@ a = b[].copy()는 새로운 공간을 만드는 것, 따라서 b가 변해도 a는 안변함\n",
    "\n",
    "arr3d[0]=old_values\n",
    "arr3d\n",
    "#old_values"
   ]
  },
  {
   "cell_type": "code",
   "execution_count": 47,
   "metadata": {},
   "outputs": [
    {
     "data": {
      "text/plain": [
       "9"
      ]
     },
     "execution_count": 47,
     "metadata": {},
     "output_type": "execute_result"
    }
   ],
   "source": [
    "arr3d[1, 0,2]  # @@ 1면 0행 2열의 값"
   ]
  },
  {
   "cell_type": "code",
   "execution_count": 48,
   "metadata": {},
   "outputs": [
    {
     "data": {
      "text/plain": [
       "array([7, 8, 9])"
      ]
     },
     "execution_count": 48,
     "metadata": {},
     "output_type": "execute_result"
    }
   ],
   "source": [
    "x = arr3d[1]  # @@ 1면\n",
    "x  # @@ 1면\n",
    "x[0]  # @@ 1면의 0행"
   ]
  },
  {
   "cell_type": "markdown",
   "metadata": {},
   "source": [
    "#### 슬라이스로 선택하기"
   ]
  },
  {
   "cell_type": "markdown",
   "metadata": {},
   "source": [
    "![img](./fig4_2.png)"
   ]
  },
  {
   "cell_type": "code",
   "execution_count": 49,
   "metadata": {},
   "outputs": [
    {
     "data": {
      "text/plain": [
       "array([ 1,  2,  3,  4, 64])"
      ]
     },
     "execution_count": 49,
     "metadata": {},
     "output_type": "execute_result"
    }
   ],
   "source": [
    "arr\n",
    "arr[1:6]"
   ]
  },
  {
   "cell_type": "code",
   "execution_count": 50,
   "metadata": {},
   "outputs": [
    {
     "data": {
      "text/plain": [
       "array([[1, 2, 3],\n",
       "       [4, 5, 6]])"
      ]
     },
     "execution_count": 50,
     "metadata": {},
     "output_type": "execute_result"
    }
   ],
   "source": [
    "arr2d\n",
    "arr2d[:2]"
   ]
  },
  {
   "cell_type": "code",
   "execution_count": 51,
   "metadata": {},
   "outputs": [
    {
     "data": {
      "text/plain": [
       "array([[2, 3],\n",
       "       [5, 6]])"
      ]
     },
     "execution_count": 51,
     "metadata": {},
     "output_type": "execute_result"
    }
   ],
   "source": [
    "arr2d[:2, 1:]"
   ]
  },
  {
   "cell_type": "code",
   "execution_count": 52,
   "metadata": {},
   "outputs": [
    {
     "data": {
      "text/plain": [
       "array([4, 5])"
      ]
     },
     "execution_count": 52,
     "metadata": {},
     "output_type": "execute_result"
    }
   ],
   "source": [
    "arr2d[1, :2]"
   ]
  },
  {
   "cell_type": "code",
   "execution_count": 53,
   "metadata": {},
   "outputs": [
    {
     "data": {
      "text/plain": [
       "array([3, 6])"
      ]
     },
     "execution_count": 53,
     "metadata": {},
     "output_type": "execute_result"
    }
   ],
   "source": [
    "arr2d[:2, 2]"
   ]
  },
  {
   "cell_type": "code",
   "execution_count": 54,
   "metadata": {},
   "outputs": [
    {
     "data": {
      "text/plain": [
       "array([[1],\n",
       "       [4],\n",
       "       [7]])"
      ]
     },
     "execution_count": 54,
     "metadata": {},
     "output_type": "execute_result"
    }
   ],
   "source": [
    "arr2d[:, :1]"
   ]
  },
  {
   "cell_type": "code",
   "execution_count": 55,
   "metadata": {},
   "outputs": [
    {
     "data": {
      "text/plain": [
       "array([[1, 0, 0],\n",
       "       [4, 0, 0],\n",
       "       [7, 8, 9]])"
      ]
     },
     "execution_count": 55,
     "metadata": {},
     "output_type": "execute_result"
    }
   ],
   "source": [
    "arr2d[:2, 1:] = 0\n",
    "arr2d"
   ]
  },
  {
   "cell_type": "markdown",
   "metadata": {},
   "source": [
    "###  불린 인덱스 (Boolean Indexing) "
   ]
  },
  {
   "cell_type": "code",
   "execution_count": 56,
   "metadata": {},
   "outputs": [
    {
     "data": {
      "text/plain": [
       "array(['Bob', 'Joe', 'Will', 'Bob', 'Will', 'Joe', 'Joe'], dtype='<U4')"
      ]
     },
     "execution_count": 56,
     "metadata": {},
     "output_type": "execute_result"
    }
   ],
   "source": [
    "names = np.array(['Bob', 'Joe', 'Will', 'Bob', 'Will', 'Joe', 'Joe'])\n",
    "data = np.random.randn(7, 4)\n",
    "names"
   ]
  },
  {
   "cell_type": "code",
   "execution_count": 57,
   "metadata": {
    "scrolled": true
   },
   "outputs": [
    {
     "data": {
      "text/plain": [
       "array([[ 0.26551159,  0.10854853,  0.00429143, -0.17460021],\n",
       "       [ 0.43302619,  1.20303737, -0.96506567,  1.02827408],\n",
       "       [ 0.22863013,  0.44513761, -1.13660221,  0.13513688],\n",
       "       [ 1.484537  , -1.07980489, -1.97772828, -1.7433723 ],\n",
       "       [ 0.26607016,  2.38496733,  1.12369125,  1.67262221],\n",
       "       [ 0.09914922,  1.39799638, -0.27124799,  0.61320418],\n",
       "       [-0.26731719, -0.54930901,  0.1327083 , -0.47614201]])"
      ]
     },
     "execution_count": 57,
     "metadata": {},
     "output_type": "execute_result"
    }
   ],
   "source": [
    "data"
   ]
  },
  {
   "cell_type": "code",
   "execution_count": 58,
   "metadata": {},
   "outputs": [
    {
     "data": {
      "text/plain": [
       "array([ True, False, False,  True, False, False, False])"
      ]
     },
     "execution_count": 58,
     "metadata": {},
     "output_type": "execute_result"
    }
   ],
   "source": [
    "names == 'Bob'  # @@ Bob인 부부은은 true, 아니면 false, 불린 메트릭스"
   ]
  },
  {
   "cell_type": "code",
   "execution_count": 59,
   "metadata": {},
   "outputs": [
    {
     "data": {
      "text/plain": [
       "array([[ 0.26551159,  0.10854853,  0.00429143, -0.17460021],\n",
       "       [ 0.43302619,  1.20303737, -0.96506567,  1.02827408],\n",
       "       [ 0.22863013,  0.44513761, -1.13660221,  0.13513688],\n",
       "       [ 1.484537  , -1.07980489, -1.97772828, -1.7433723 ],\n",
       "       [ 0.26607016,  2.38496733,  1.12369125,  1.67262221],\n",
       "       [ 0.09914922,  1.39799638, -0.27124799,  0.61320418],\n",
       "       [-0.26731719, -0.54930901,  0.1327083 , -0.47614201]])"
      ]
     },
     "execution_count": 59,
     "metadata": {},
     "output_type": "execute_result"
    }
   ],
   "source": [
    "data"
   ]
  },
  {
   "cell_type": "code",
   "execution_count": 60,
   "metadata": {},
   "outputs": [
    {
     "data": {
      "text/plain": [
       "array([[ 0.26551159,  0.10854853,  0.00429143, -0.17460021],\n",
       "       [ 1.484537  , -1.07980489, -1.97772828, -1.7433723 ]])"
      ]
     },
     "execution_count": 60,
     "metadata": {},
     "output_type": "execute_result"
    }
   ],
   "source": [
    "data[names == 'Bob']  # @@ 0,3번 인덱스가 참이므로 0,3행만 출력"
   ]
  },
  {
   "cell_type": "code",
   "execution_count": 61,
   "metadata": {},
   "outputs": [
    {
     "data": {
      "text/plain": [
       "array([[ 0.00429143, -0.17460021],\n",
       "       [-1.97772828, -1.7433723 ]])"
      ]
     },
     "execution_count": 61,
     "metadata": {},
     "output_type": "execute_result"
    }
   ],
   "source": [
    "data[names == 'Bob', 2:]  # @@ 행은 0,3행, 열은 2열 이상\n"
   ]
  },
  {
   "cell_type": "code",
   "execution_count": 62,
   "metadata": {},
   "outputs": [
    {
     "data": {
      "text/plain": [
       "array([-0.17460021, -1.7433723 ])"
      ]
     },
     "execution_count": 62,
     "metadata": {},
     "output_type": "execute_result"
    }
   ],
   "source": [
    "data[names == 'Bob', 3]"
   ]
  },
  {
   "cell_type": "code",
   "execution_count": 63,
   "metadata": {
    "scrolled": true
   },
   "outputs": [
    {
     "data": {
      "text/plain": [
       "array([[ 0.26551159,  0.10854853,  0.00429143, -0.17460021],\n",
       "       [ 0.43302619,  1.20303737, -0.96506567,  1.02827408],\n",
       "       [ 0.22863013,  0.44513761, -1.13660221,  0.13513688],\n",
       "       [ 1.484537  , -1.07980489, -1.97772828, -1.7433723 ],\n",
       "       [ 0.26607016,  2.38496733,  1.12369125,  1.67262221],\n",
       "       [ 0.09914922,  1.39799638, -0.27124799,  0.61320418],\n",
       "       [-0.26731719, -0.54930901,  0.1327083 , -0.47614201]])"
      ]
     },
     "execution_count": 63,
     "metadata": {},
     "output_type": "execute_result"
    }
   ],
   "source": [
    "names != 'Bob'\n",
    "data[~(names == 'Bob')]  # @@ 0,3번 인덱스 제외 가져옴\n",
    "data"
   ]
  },
  {
   "cell_type": "code",
   "execution_count": 64,
   "metadata": {},
   "outputs": [
    {
     "name": "stdout",
     "output_type": "stream",
     "text": [
      "[ True False False  True False False False]\n"
     ]
    },
    {
     "data": {
      "text/plain": [
       "array([False, False,  True, False,  True, False, False])"
      ]
     },
     "execution_count": 64,
     "metadata": {},
     "output_type": "execute_result"
    }
   ],
   "source": [
    "cond = names == 'Bob'\n",
    "print(cond)\n",
    "names == 'Will'"
   ]
  },
  {
   "cell_type": "code",
   "execution_count": 65,
   "metadata": {},
   "outputs": [
    {
     "data": {
      "text/plain": [
       "array([[ 0.26551159,  0.10854853,  0.00429143, -0.17460021],\n",
       "       [ 0.43302619,  1.20303737, -0.96506567,  1.02827408],\n",
       "       [ 0.22863013,  0.44513761, -1.13660221,  0.13513688],\n",
       "       [ 1.484537  , -1.07980489, -1.97772828, -1.7433723 ],\n",
       "       [ 0.26607016,  2.38496733,  1.12369125,  1.67262221],\n",
       "       [ 0.09914922,  1.39799638, -0.27124799,  0.61320418],\n",
       "       [-0.26731719, -0.54930901,  0.1327083 , -0.47614201]])"
      ]
     },
     "execution_count": 65,
     "metadata": {},
     "output_type": "execute_result"
    }
   ],
   "source": [
    "data"
   ]
  },
  {
   "cell_type": "code",
   "execution_count": 66,
   "metadata": {},
   "outputs": [
    {
     "data": {
      "text/plain": [
       "array([[ 0.43302619,  1.20303737, -0.96506567,  1.02827408],\n",
       "       [ 0.22863013,  0.44513761, -1.13660221,  0.13513688],\n",
       "       [ 0.26607016,  2.38496733,  1.12369125,  1.67262221],\n",
       "       [ 0.09914922,  1.39799638, -0.27124799,  0.61320418],\n",
       "       [-0.26731719, -0.54930901,  0.1327083 , -0.47614201]])"
      ]
     },
     "execution_count": 66,
     "metadata": {},
     "output_type": "execute_result"
    }
   ],
   "source": [
    "data[~cond]"
   ]
  },
  {
   "cell_type": "code",
   "execution_count": 67,
   "metadata": {},
   "outputs": [
    {
     "name": "stdout",
     "output_type": "stream",
     "text": [
      "[ True False  True  True  True False False]\n"
     ]
    },
    {
     "data": {
      "text/plain": [
       "array([[ 0.26551159,  0.10854853,  0.00429143, -0.17460021],\n",
       "       [ 0.22863013,  0.44513761, -1.13660221,  0.13513688],\n",
       "       [ 1.484537  , -1.07980489, -1.97772828, -1.7433723 ],\n",
       "       [ 0.26607016,  2.38496733,  1.12369125,  1.67262221]])"
      ]
     },
     "execution_count": 67,
     "metadata": {},
     "output_type": "execute_result"
    }
   ],
   "source": [
    "mask = (names == 'Bob') | (names == 'Will')\n",
    "print(mask)  # @@ Bob은 0,3 Will은 2,4 = 0,2,3,4가 True\n",
    "data[mask]"
   ]
  },
  {
   "cell_type": "code",
   "execution_count": 68,
   "metadata": {},
   "outputs": [
    {
     "data": {
      "text/plain": [
       "array([[0.26551159, 0.10854853, 0.00429143, 0.        ],\n",
       "       [0.43302619, 1.20303737, 0.        , 1.02827408],\n",
       "       [0.22863013, 0.44513761, 0.        , 0.13513688],\n",
       "       [1.484537  , 0.        , 0.        , 0.        ],\n",
       "       [0.26607016, 2.38496733, 1.12369125, 1.67262221],\n",
       "       [0.09914922, 1.39799638, 0.        , 0.61320418],\n",
       "       [0.        , 0.        , 0.1327083 , 0.        ]])"
      ]
     },
     "execution_count": 68,
     "metadata": {},
     "output_type": "execute_result"
    }
   ],
   "source": [
    "data[data < 0] = 0\n",
    "data"
   ]
  },
  {
   "cell_type": "code",
   "execution_count": 69,
   "metadata": {},
   "outputs": [
    {
     "data": {
      "text/plain": [
       "array([[7.        , 7.        , 7.        , 7.        ],\n",
       "       [0.43302619, 1.20303737, 0.        , 1.02827408],\n",
       "       [7.        , 7.        , 7.        , 7.        ],\n",
       "       [7.        , 7.        , 7.        , 7.        ],\n",
       "       [7.        , 7.        , 7.        , 7.        ],\n",
       "       [0.09914922, 1.39799638, 0.        , 0.61320418],\n",
       "       [0.        , 0.        , 0.1327083 , 0.        ]])"
      ]
     },
     "execution_count": 69,
     "metadata": {},
     "output_type": "execute_result"
    }
   ],
   "source": [
    "data[names != 'Joe'] = 7\n",
    "data"
   ]
  },
  {
   "cell_type": "markdown",
   "metadata": {},
   "source": [
    "### Fancy Indexing"
   ]
  },
  {
   "cell_type": "markdown",
   "metadata": {},
   "source": [
    "빈 배열 생성후 특정 행을 선택하여 정수를 담기"
   ]
  },
  {
   "cell_type": "code",
   "execution_count": 70,
   "metadata": {},
   "outputs": [
    {
     "data": {
      "text/plain": [
       "array([[0., 0., 0., 0.],\n",
       "       [1., 1., 1., 1.],\n",
       "       [2., 2., 2., 2.],\n",
       "       [3., 3., 3., 3.],\n",
       "       [4., 4., 4., 4.],\n",
       "       [5., 5., 5., 5.],\n",
       "       [6., 6., 6., 6.],\n",
       "       [7., 7., 7., 7.]])"
      ]
     },
     "execution_count": 70,
     "metadata": {},
     "output_type": "execute_result"
    }
   ],
   "source": [
    "import numpy as np\n",
    "arr = np.empty((8, 4))  #빈 매트릭스 만들기\n",
    "for i in range(8):\n",
    "    arr[i] = i  # @@ 행에 값 넣기\n",
    "arr"
   ]
  },
  {
   "cell_type": "markdown",
   "metadata": {},
   "source": [
    "2차원 배열 생성- 원하는 순서가 명시된 정수가 담긴 ndarray나 리스트 넘기기"
   ]
  },
  {
   "cell_type": "code",
   "execution_count": 71,
   "metadata": {},
   "outputs": [
    {
     "data": {
      "text/plain": [
       "array([[4., 4., 4., 4.],\n",
       "       [3., 3., 3., 3.],\n",
       "       [0., 0., 0., 0.],\n",
       "       [6., 6., 6., 6.]])"
      ]
     },
     "execution_count": 71,
     "metadata": {},
     "output_type": "execute_result"
    }
   ],
   "source": [
    "arr[[4, 3, 0, 6]]  #슬라이싱 하는거임 지금, 원하는 줄의 인덱스만 가져옴"
   ]
  },
  {
   "cell_type": "markdown",
   "metadata": {},
   "source": [
    "마이너스 인덱스의 경우 역순으로 선택    \n",
    "ex: a = [1,2,3,4,5]   \n",
    "    a[-1] == 5     "
   ]
  },
  {
   "cell_type": "code",
   "execution_count": 72,
   "metadata": {},
   "outputs": [
    {
     "data": {
      "text/plain": [
       "array([[5., 5., 5., 5.],\n",
       "       [3., 3., 3., 3.],\n",
       "       [1., 1., 1., 1.]])"
      ]
     },
     "execution_count": 72,
     "metadata": {},
     "output_type": "execute_result"
    }
   ],
   "source": [
    "arr[[-3, -5, -7]]"
   ]
  },
  {
   "cell_type": "code",
   "execution_count": 73,
   "metadata": {
    "scrolled": true
   },
   "outputs": [
    {
     "data": {
      "text/plain": [
       "array([[ 0,  1,  2,  3],\n",
       "       [ 4,  5,  6,  7],\n",
       "       [ 8,  9, 10, 11],\n",
       "       [12, 13, 14, 15],\n",
       "       [16, 17, 18, 19],\n",
       "       [20, 21, 22, 23],\n",
       "       [24, 25, 26, 27],\n",
       "       [28, 29, 30, 31]])"
      ]
     },
     "execution_count": 73,
     "metadata": {},
     "output_type": "execute_result"
    }
   ],
   "source": [
    "arr = np.arange(32).reshape((8, 4))  # @@ 8x4 행렬로 자동으로 만들어줌,일정하지 않은 길이면 오류\n",
    "arr\n"
   ]
  },
  {
   "cell_type": "markdown",
   "metadata": {},
   "source": [
    "arr[[1, 5, 7, 2], [0, 3, 1, 2]] == arr[[1,0],[5,3],[7,1],[2,2]]"
   ]
  },
  {
   "cell_type": "code",
   "execution_count": 74,
   "metadata": {},
   "outputs": [
    {
     "data": {
      "text/plain": [
       "array([ 4, 23, 29, 10])"
      ]
     },
     "execution_count": 74,
     "metadata": {},
     "output_type": "execute_result"
    }
   ],
   "source": [
    "arr[[1, 5, 7, 2], [0, 3, 1, 2]]  # @@ [행][열]"
   ]
  },
  {
   "cell_type": "code",
   "execution_count": 75,
   "metadata": {},
   "outputs": [
    {
     "data": {
      "text/plain": [
       "array([[ 4,  7,  5,  6],\n",
       "       [20, 23, 21, 22],\n",
       "       [28, 31, 29, 30],\n",
       "       [ 8, 11,  9, 10]])"
      ]
     },
     "execution_count": 75,
     "metadata": {},
     "output_type": "execute_result"
    }
   ],
   "source": [
    "arr[[1, 5, 7, 2]][:, [0, 3, 1, 2]]  # @@ [행][모든:열,[해당 열의]]"
   ]
  },
  {
   "cell_type": "markdown",
   "metadata": {},
   "source": [
    "### 배열 전치와 축 바꾸기"
   ]
  },
  {
   "cell_type": "markdown",
   "metadata": {},
   "source": [
    "배열 전체는 데이터를 복사하지 않고 데이터의 모양이 바뀐 뷰 반환\n",
    "   \n",
    "ndarray는 transport메서드와 T라는 이름의 특수한 속성을 갖고 있음"
   ]
  },
  {
   "cell_type": "code",
   "execution_count": 76,
   "metadata": {},
   "outputs": [
    {
     "data": {
      "text/plain": [
       "array([[0, 1, 2],\n",
       "       [3, 4, 5]])"
      ]
     },
     "execution_count": 76,
     "metadata": {},
     "output_type": "execute_result"
    }
   ],
   "source": [
    "arr= np.arange(6).reshape((2,3))\n",
    "arr"
   ]
  },
  {
   "cell_type": "code",
   "execution_count": 77,
   "metadata": {},
   "outputs": [
    {
     "data": {
      "text/plain": [
       "array([[ 0,  1,  2,  3,  4],\n",
       "       [ 5,  6,  7,  8,  9],\n",
       "       [10, 11, 12, 13, 14]])"
      ]
     },
     "execution_count": 77,
     "metadata": {},
     "output_type": "execute_result"
    }
   ],
   "source": [
    "arr = np.arange(15).reshape((3, 5))\n",
    "arr\n"
   ]
  },
  {
   "cell_type": "code",
   "execution_count": 78,
   "metadata": {},
   "outputs": [
    {
     "data": {
      "text/plain": [
       "array([[ 0,  5, 10],\n",
       "       [ 1,  6, 11],\n",
       "       [ 2,  7, 12],\n",
       "       [ 3,  8, 13],\n",
       "       [ 4,  9, 14]])"
      ]
     },
     "execution_count": 78,
     "metadata": {},
     "output_type": "execute_result"
    }
   ],
   "source": [
    "arr.transpose((1,0))  # @@ 0인 열부터 채우기, 그 다음 1인 행 채우기 = 5행 3열로 바뀜"
   ]
  },
  {
   "cell_type": "markdown",
   "metadata": {},
   "source": [
    "행렬의 내적은 np.dot를 이용하여 구할 수 있음"
   ]
  },
  {
   "cell_type": "code",
   "execution_count": 79,
   "metadata": {},
   "outputs": [
    {
     "name": "stdout",
     "output_type": "stream",
     "text": [
      "[[ 1.30847308  0.19501328  0.40020999]\n",
      " [-0.33763234  1.25647226 -0.7319695 ]\n",
      " [ 0.66023155 -0.35087189 -0.93943336]\n",
      " [-0.48933722 -0.80459114 -0.21269764]\n",
      " [-0.33914025  0.31216994  0.56515267]\n",
      " [-0.14742026 -0.02590534  0.2890942 ]]\n"
     ]
    },
    {
     "data": {
      "text/plain": [
       "array([[ 2.63820285, -0.10904676,  0.02035354],\n",
       "       [-0.10904676,  2.48535187, -0.17196313],\n",
       "       [ 0.02035354, -0.17196313,  2.02669571]])"
      ]
     },
     "execution_count": 79,
     "metadata": {},
     "output_type": "execute_result"
    }
   ],
   "source": [
    "arr = np.random.randn(6, 3)\n",
    "print(arr)\n",
    "np.dot(arr.T, arr)  # @@ 3x6 @ 6x3 = 3x3"
   ]
  },
  {
   "cell_type": "code",
   "execution_count": 80,
   "metadata": {},
   "outputs": [
    {
     "data": {
      "text/plain": [
       "array([[[ 0,  1,  2,  3],\n",
       "        [ 4,  5,  6,  7]],\n",
       "\n",
       "       [[ 8,  9, 10, 11],\n",
       "        [12, 13, 14, 15]]])"
      ]
     },
     "execution_count": 80,
     "metadata": {},
     "output_type": "execute_result"
    }
   ],
   "source": [
    "arr = np.arange(16).reshape((2, 2, 4))\n",
    "arr\n"
   ]
  },
  {
   "cell_type": "markdown",
   "metadata": {},
   "source": [
    "transpose메서드는 튜플로 축 번호를 받아서 치환\n",
    "    \n",
    "이 예제에서는 첫번째와 두번째 축의 순서가 바뀌고 마지막 축은 그대로 남아 있음"
   ]
  },
  {
   "cell_type": "code",
   "execution_count": 81,
   "metadata": {},
   "outputs": [
    {
     "data": {
      "text/plain": [
       "array([[[ 0,  1,  2,  3],\n",
       "        [ 8,  9, 10, 11]],\n",
       "\n",
       "       [[ 4,  5,  6,  7],\n",
       "        [12, 13, 14, 15]]])"
      ]
     },
     "execution_count": 81,
     "metadata": {},
     "output_type": "execute_result"
    }
   ],
   "source": [
    "arr.transpose((1, 0, 2))  # @@ (2, 2, 4) -> (2, 2, 4)\n",
    "# @@ 0행(0면) -> 0행(1면) -> 1행(0면) -> 1행(1면)"
   ]
  },
  {
   "cell_type": "code",
   "execution_count": 82,
   "metadata": {},
   "outputs": [
    {
     "data": {
      "text/plain": [
       "array([[[ 0,  8],\n",
       "        [ 1,  9],\n",
       "        [ 2, 10],\n",
       "        [ 3, 11]],\n",
       "\n",
       "       [[ 4, 12],\n",
       "        [ 5, 13],\n",
       "        [ 6, 14],\n",
       "        [ 7, 15]]])"
      ]
     },
     "execution_count": 82,
     "metadata": {},
     "output_type": "execute_result"
    }
   ],
   "source": [
    "arr =arr.transpose((1, 2, 0))  # @@ (2, 2, 4) -> (2, 4, 2)\n",
    "arr\n",
    "# @@ 0열(0면) -> 0열(1면) -> 1행(0면) -> 1행(1면)"
   ]
  },
  {
   "cell_type": "code",
   "execution_count": 83,
   "metadata": {},
   "outputs": [
    {
     "data": {
      "text/plain": [
       "(2, 4, 2)"
      ]
     },
     "execution_count": 83,
     "metadata": {},
     "output_type": "execute_result"
    }
   ],
   "source": [
    "arr.shape"
   ]
  },
  {
   "cell_type": "code",
   "execution_count": 84,
   "metadata": {},
   "outputs": [
    {
     "data": {
      "text/plain": [
       "array([[[ 0,  1,  2,  3],\n",
       "        [ 8,  9, 10, 11]],\n",
       "\n",
       "       [[ 4,  5,  6,  7],\n",
       "        [12, 13, 14, 15]]])"
      ]
     },
     "execution_count": 84,
     "metadata": {},
     "output_type": "execute_result"
    }
   ],
   "source": [
    "arr\n",
    "arr.swapaxes(1, 2)"
   ]
  },
  {
   "cell_type": "markdown",
   "metadata": {},
   "source": [
    "##  유니버설 함수: 배열의 각 원소를 빠르게 처리하는 함수"
   ]
  },
  {
   "cell_type": "code",
   "execution_count": 85,
   "metadata": {},
   "outputs": [],
   "source": [
    "import numpy as np"
   ]
  },
  {
   "cell_type": "code",
   "execution_count": 86,
   "metadata": {},
   "outputs": [
    {
     "data": {
      "text/plain": [
       "array([1.00000000e+00, 2.71828183e+00, 7.38905610e+00, 2.00855369e+01,\n",
       "       5.45981500e+01, 1.48413159e+02, 4.03428793e+02, 1.09663316e+03,\n",
       "       2.98095799e+03, 8.10308393e+03])"
      ]
     },
     "execution_count": 86,
     "metadata": {},
     "output_type": "execute_result"
    }
   ],
   "source": [
    "arr = np.arange(10)\n",
    "arr\n",
    "np.sqrt(arr)\n",
    "np.exp(arr)"
   ]
  },
  {
   "cell_type": "code",
   "execution_count": 87,
   "metadata": {
    "scrolled": true
   },
   "outputs": [
    {
     "name": "stdout",
     "output_type": "stream",
     "text": [
      "[-0.53987907  0.70816002  0.84222474  0.2035808   2.39470366  0.91745894\n",
      " -0.11227247 -0.36218045]\n",
      "[-0.23218226 -0.5017289   1.12878515 -0.69781003 -0.08112218 -0.52929608\n",
      "  1.04618286 -1.41855603]\n"
     ]
    },
    {
     "data": {
      "text/plain": [
       "array([-0.23218226,  0.70816002,  1.12878515,  0.2035808 ,  2.39470366,\n",
       "        0.91745894,  1.04618286, -0.36218045])"
      ]
     },
     "execution_count": 87,
     "metadata": {},
     "output_type": "execute_result"
    }
   ],
   "source": [
    "#np.random.seed(10)  #이 문장을 추가하면 실행할 때마다 같은 값이 나옴\n",
    "x = np.random.randn(8) #평균이 0, 표준편차가 1인 값을 가져옴 (8개)\n",
    "y = np.random.randn(8)\n",
    "print(x)\n",
    "print(y)\n",
    "np.maximum(x, y)  #x, y 중 더 큰 값을 각 행, 열별로 구함(2개의 값을 비교, shape은 그대로 1행 8열)"
   ]
  },
  {
   "cell_type": "code",
   "execution_count": 88,
   "metadata": {},
   "outputs": [
    {
     "name": "stdout",
     "output_type": "stream",
     "text": [
      "[-1.81249592 -0.60952846  1.59678211  2.30451451 -1.07894946  4.94536229\n",
      "  1.57376889]\n",
      "[-0.81249592 -0.60952846  0.59678211  0.30451451 -0.07894946  0.94536229\n",
      "  0.57376889]\n",
      "[-1. -0.  1.  2. -1.  4.  1.]\n"
     ]
    }
   ],
   "source": [
    "arr = np.random.randn(7) * 5  # 평균 0, 표준편차 1인 값 7개\n",
    "print(arr)\n",
    "remainder, whole_part = np.modf(arr)  #소수부분과 정수부분을 가져옴\n",
    "print(remainder)\n",
    "print(whole_part)"
   ]
  },
  {
   "cell_type": "code",
   "execution_count": 89,
   "metadata": {},
   "outputs": [
    {
     "name": "stderr",
     "output_type": "stream",
     "text": [
      "C:\\Users\\svbea\\AppData\\Local\\Temp/ipykernel_11620/2118003981.py:2: RuntimeWarning: invalid value encountered in sqrt\n",
      "  np.sqrt(arr)\n",
      "C:\\Users\\svbea\\AppData\\Local\\Temp/ipykernel_11620/2118003981.py:3: RuntimeWarning: invalid value encountered in sqrt\n",
      "  np.sqrt(arr, arr)\n"
     ]
    },
    {
     "data": {
      "text/plain": [
       "array([       nan,        nan, 1.26363844, 1.51806275,        nan,\n",
       "       2.22381705, 1.25449946])"
      ]
     },
     "execution_count": 89,
     "metadata": {},
     "output_type": "execute_result"
    }
   ],
   "source": [
    "arr\n",
    "np.sqrt(arr)\n",
    "np.sqrt(arr, arr)\n",
    "arr"
   ]
  },
  {
   "cell_type": "markdown",
   "metadata": {},
   "source": [
    "## 배열을 이용한 배열 지향 프로그래밍"
   ]
  },
  {
   "cell_type": "markdown",
   "metadata": {},
   "source": [
    "```np.meshgrid```함수는 두개의 1차원 배열을 받아서 가능한 모든(x,y) 짝을 만들 수 있음    \n",
    "2차원 배열 두개 반환"
   ]
  },
  {
   "cell_type": "code",
   "execution_count": 90,
   "metadata": {},
   "outputs": [
    {
     "name": "stdout",
     "output_type": "stream",
     "text": [
      "[[-5 -4 -3 -2 -1  0  1  2  3  4]\n",
      " [-5 -4 -3 -2 -1  0  1  2  3  4]\n",
      " [-5 -4 -3 -2 -1  0  1  2  3  4]\n",
      " [-5 -4 -3 -2 -1  0  1  2  3  4]\n",
      " [-5 -4 -3 -2 -1  0  1  2  3  4]\n",
      " [-5 -4 -3 -2 -1  0  1  2  3  4]\n",
      " [-5 -4 -3 -2 -1  0  1  2  3  4]\n",
      " [-5 -4 -3 -2 -1  0  1  2  3  4]\n",
      " [-5 -4 -3 -2 -1  0  1  2  3  4]\n",
      " [-5 -4 -3 -2 -1  0  1  2  3  4]]\n",
      "[[-5 -5 -5 -5 -5 -5 -5 -5 -5 -5]\n",
      " [-4 -4 -4 -4 -4 -4 -4 -4 -4 -4]\n",
      " [-3 -3 -3 -3 -3 -3 -3 -3 -3 -3]\n",
      " [-2 -2 -2 -2 -2 -2 -2 -2 -2 -2]\n",
      " [-1 -1 -1 -1 -1 -1 -1 -1 -1 -1]\n",
      " [ 0  0  0  0  0  0  0  0  0  0]\n",
      " [ 1  1  1  1  1  1  1  1  1  1]\n",
      " [ 2  2  2  2  2  2  2  2  2  2]\n",
      " [ 3  3  3  3  3  3  3  3  3  3]\n",
      " [ 4  4  4  4  4  4  4  4  4  4]]\n"
     ]
    }
   ],
   "source": [
    "points = np.arange(-5, 5, 1) # 1000 equally spaced points  #-5~4까지 1씩 증가한 리스트\n",
    "xs, ys = np.meshgrid(points, points)  #x, y값을 point로 만듦 = 수평선을 좌표로 만들어줌\n",
    "print(xs)  #왼쪽 아래부터 오른쪽으로, 위로 올라감 = x좌표가 먼저 이동\n",
    "print(ys)  #왼쪽 아래부터 오른쪽으로, 위로 올라감 = y좌표는 한 줄씩 고정"
   ]
  },
  {
   "cell_type": "code",
   "execution_count": 91,
   "metadata": {},
   "outputs": [
    {
     "data": {
      "text/plain": [
       "array([[7.07106781, 6.40312424, 5.83095189, 5.38516481, 5.09901951,\n",
       "        5.        , 5.09901951, 5.38516481, 5.83095189, 6.40312424],\n",
       "       [6.40312424, 5.65685425, 5.        , 4.47213595, 4.12310563,\n",
       "        4.        , 4.12310563, 4.47213595, 5.        , 5.65685425],\n",
       "       [5.83095189, 5.        , 4.24264069, 3.60555128, 3.16227766,\n",
       "        3.        , 3.16227766, 3.60555128, 4.24264069, 5.        ],\n",
       "       [5.38516481, 4.47213595, 3.60555128, 2.82842712, 2.23606798,\n",
       "        2.        , 2.23606798, 2.82842712, 3.60555128, 4.47213595],\n",
       "       [5.09901951, 4.12310563, 3.16227766, 2.23606798, 1.41421356,\n",
       "        1.        , 1.41421356, 2.23606798, 3.16227766, 4.12310563],\n",
       "       [5.        , 4.        , 3.        , 2.        , 1.        ,\n",
       "        0.        , 1.        , 2.        , 3.        , 4.        ],\n",
       "       [5.09901951, 4.12310563, 3.16227766, 2.23606798, 1.41421356,\n",
       "        1.        , 1.41421356, 2.23606798, 3.16227766, 4.12310563],\n",
       "       [5.38516481, 4.47213595, 3.60555128, 2.82842712, 2.23606798,\n",
       "        2.        , 2.23606798, 2.82842712, 3.60555128, 4.47213595],\n",
       "       [5.83095189, 5.        , 4.24264069, 3.60555128, 3.16227766,\n",
       "        3.        , 3.16227766, 3.60555128, 4.24264069, 5.        ],\n",
       "       [6.40312424, 5.65685425, 5.        , 4.47213595, 4.12310563,\n",
       "        4.        , 4.12310563, 4.47213595, 5.        , 5.65685425]])"
      ]
     },
     "execution_count": 91,
     "metadata": {},
     "output_type": "execute_result"
    }
   ],
   "source": [
    "z = np.sqrt(xs ** 2 + ys ** 2)  #x제곱+y제곱 의 루트\n",
    "z"
   ]
  },
  {
   "cell_type": "code",
   "execution_count": 92,
   "metadata": {},
   "outputs": [
    {
     "data": {
      "text/plain": [
       "Text(0.5, 1.0, 'Image plot of $\\\\sqrt{x^2 + y^2}$ for a grid of values')"
      ]
     },
     "execution_count": 92,
     "metadata": {},
     "output_type": "execute_result"
    },
    {
     "data": {
      "image/png": "[encoded data removed]",
      "text/plain": [
       "<Figure size 432x288 with 2 Axes>"
      ]
     },
     "metadata": {
      "needs_background": "light"
     },
     "output_type": "display_data"
    }
   ],
   "source": [
    "import matplotlib.pyplot as plt\n",
    "plt.imshow(z, cmap=plt.cm.gray); plt.colorbar()\n",
    "plt.title(\"Image plot of $\\sqrt{x^2 + y^2}$ for a grid of values\")"
   ]
  },
  {
   "cell_type": "code",
   "execution_count": 93,
   "metadata": {},
   "outputs": [
    {
     "data": {
      "text/plain": [
       "<Figure size 432x288 with 0 Axes>"
      ]
     },
     "metadata": {},
     "output_type": "display_data"
    }
   ],
   "source": [
    "plt.draw()"
   ]
  },
  {
   "cell_type": "code",
   "execution_count": 94,
   "metadata": {},
   "outputs": [],
   "source": [
    "plt.close('all')"
   ]
  },
  {
   "cell_type": "markdown",
   "metadata": {},
   "source": [
    "### 배열 연산으로 조건절 표현하기"
   ]
  },
  {
   "cell_type": "markdown",
   "metadata": {},
   "source": [
    "```np.where```함수는 x if 조건 else y 같은 삼항식의 벡터화된 버전"
   ]
  },
  {
   "cell_type": "code",
   "execution_count": 95,
   "metadata": {},
   "outputs": [],
   "source": [
    "\n",
    "import numpy as np\n",
    "xarr = np.array([1.1, 1.2, 1.3, 1.4, 1.5])\n",
    "yarr = np.array([2.1, 2.2, 2.3, 2.4, 2.5])\n",
    "cond = np.array([True, False, True, True, False])"
   ]
  },
  {
   "cell_type": "code",
   "execution_count": 96,
   "metadata": {},
   "outputs": [
    {
     "data": {
      "text/plain": [
       "[1.1, 2.2, 1.3, 1.4, 2.5]"
      ]
     },
     "execution_count": 96,
     "metadata": {},
     "output_type": "execute_result"
    }
   ],
   "source": [
    "result = [(x if c else y)\n",
    "          for x, y, c in zip(xarr, yarr, cond)]\n",
    "result  #c의 값이 true이면 x, false이면 y를 가져옴"
   ]
  },
  {
   "cell_type": "markdown",
   "metadata": {},
   "source": [
    "cond 값이 \n",
    ">True 일때는 xarr의 값을 취하고   \n",
    ">False 일때는 yarr의 값을 취하기\n",
    "\n",
    "==> 문제점 다차원에서 사용불가, 큰 배열 사용 불가"
   ]
  },
  {
   "cell_type": "code",
   "execution_count": 97,
   "metadata": {},
   "outputs": [
    {
     "data": {
      "text/plain": [
       "array([1.1, 2.2, 1.3, 1.4, 2.5])"
      ]
     },
     "execution_count": 97,
     "metadata": {},
     "output_type": "execute_result"
    }
   ],
   "source": [
    "#np.where(조건, 참일때의 값, 거짓일때의 값)\n",
    "result = np.where(cond, xarr, yarr)\n",
    "result  #위의 결과와 같음!! cond가 참이면 x, 거짓이면 y"
   ]
  },
  {
   "cell_type": "code",
   "execution_count": 98,
   "metadata": {},
   "outputs": [
    {
     "name": "stdout",
     "output_type": "stream",
     "text": [
      "[[ 2.46765106 -1.50832149  0.62060066 -1.04513254]\n",
      " [-0.79800882  1.98508459  1.74481415 -1.85618548]\n",
      " [-0.2227737  -0.06584785 -2.13171211 -0.04883051]\n",
      " [ 0.39334122  0.21726515 -1.99439377  1.10770823]]\n",
      "[[ True False  True False]\n",
      " [False  True  True False]\n",
      " [False False False False]\n",
      " [ True  True False  True]]\n"
     ]
    },
    {
     "data": {
      "text/plain": [
       "array([[ 2, -2,  2, -2],\n",
       "       [-2,  2,  2, -2],\n",
       "       [-2, -2, -2, -2],\n",
       "       [ 2,  2, -2,  2]])"
      ]
     },
     "execution_count": 98,
     "metadata": {},
     "output_type": "execute_result"
    }
   ],
   "source": [
    "arr = np.random.randn(4, 4)  #4행 4열로 가져와라\n",
    "print(arr)\n",
    "print(arr > 0)\n",
    "np.where(arr > 0, 2, -2)  #조건이 참이면 2, 거짓이면 -2로 출력"
   ]
  },
  {
   "cell_type": "markdown",
   "metadata": {},
   "source": [
    "```np.where```를 사용하여 스칼라 값과 배열을 조합   \n",
    "   \n",
    "아래 예는 arr 모든 양수를 2로 변경"
   ]
  },
  {
   "cell_type": "code",
   "execution_count": 99,
   "metadata": {},
   "outputs": [
    {
     "data": {
      "text/plain": [
       "array([[ 2.        , -1.50832149,  2.        , -1.04513254],\n",
       "       [-0.79800882,  2.        ,  2.        , -1.85618548],\n",
       "       [-0.2227737 , -0.06584785, -2.13171211, -0.04883051],\n",
       "       [ 2.        ,  2.        , -1.99439377,  2.        ]])"
      ]
     },
     "execution_count": 99,
     "metadata": {},
     "output_type": "execute_result"
    }
   ],
   "source": [
    "np.where(arr > 0, 2, arr) # 양수인 경우에만 2를 대입"
   ]
  },
  {
   "cell_type": "markdown",
   "metadata": {},
   "source": [
    "### 수학 메서드와 통계 메서드"
   ]
  },
  {
   "cell_type": "code",
   "execution_count": 100,
   "metadata": {},
   "outputs": [
    {
     "name": "stdout",
     "output_type": "stream",
     "text": [
      "[[ 0.24454398 -0.06191203 -0.75389296  0.71195902]\n",
      " [ 0.91826915 -0.48209314  0.08958761  0.82699862]\n",
      " [-1.95451212  0.11747566 -1.90745689 -0.92290926]\n",
      " [ 0.46975143 -0.14436676 -0.40013835 -0.29598385]\n",
      " [ 0.84820861  0.70683045 -0.78726893  0.29294072]]\n",
      "-0.124198451631778\n",
      "-0.124198451631778\n"
     ]
    },
    {
     "data": {
      "text/plain": [
       "-2.48396903263556"
      ]
     },
     "execution_count": 100,
     "metadata": {},
     "output_type": "execute_result"
    }
   ],
   "source": [
    "arr = np.random.randn(5, 4)\n",
    "print(arr)\n",
    "print(arr.mean())  #행렬의 평균\n",
    "print(np.mean(arr))  #행렬의 평균\n",
    "arr.sum()  # 행렬의 모든 값을 더하기"
   ]
  },
  {
   "cell_type": "markdown",
   "metadata": {},
   "source": [
    "```mean```과 ```sum```같은 함수는 선택적으로 ```axis```인자를 받아서 해당 axis에 대한 통계를 계산 하고 한차수 낮은 배열을 반환\n",
    "<img src=\"data:image/png;base64,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\">"
   ]
  },
  {
   "cell_type": "code",
   "execution_count": 101,
   "metadata": {},
   "outputs": [
    {
     "data": {
      "text/plain": [
       "array([[-0.47080725,  2.40432561, -0.73935674, -0.31282876],\n",
       "       [-0.34888192, -0.43902624,  0.14110417,  0.27304932],\n",
       "       [-1.61857075, -0.57311336, -1.32044755,  1.23620533],\n",
       "       [ 2.46532508,  1.38323223,  0.34623312,  1.02251611],\n",
       "       [ 0.16681027,  1.65671662,  0.66788961, -0.22994664]])"
      ]
     },
     "execution_count": 101,
     "metadata": {},
     "output_type": "execute_result"
    }
   ],
   "source": [
    "arr = np.random.randn(5, 4)\n",
    "arr"
   ]
  },
  {
   "cell_type": "code",
   "execution_count": 102,
   "metadata": {},
   "outputs": [
    {
     "name": "stdout",
     "output_type": "stream",
     "text": [
      "[ 0.22033321 -0.09343867 -0.56898158  1.30432663  0.56536746]\n"
     ]
    },
    {
     "data": {
      "text/plain": [
       "array([ 0.19387543,  4.43213486, -0.90457739,  1.98899535])"
      ]
     },
     "execution_count": 102,
     "metadata": {},
     "output_type": "execute_result"
    }
   ],
   "source": [
    "#axis = 0이면 행을 고정 => 열의 연산 결과\n",
    "#axis = 1이면 열을 고정 => 행의 연산 결과\n",
    "print(arr.mean(axis=1))  #행의 평균을 구하기\n",
    "arr.sum(axis=0)  #열의 합을 구하기"
   ]
  },
  {
   "cell_type": "code",
   "execution_count": 103,
   "metadata": {},
   "outputs": [
    {
     "data": {
      "text/plain": [
       "array([ 0,  1,  3,  6, 10, 15, 21, 28], dtype=int32)"
      ]
     },
     "execution_count": 103,
     "metadata": {},
     "output_type": "execute_result"
    }
   ],
   "source": [
    "arr = np.array([0, 1, 2, 3, 4, 5, 6, 7])\n",
    "arr.cumsum()  #합의 누적 결과를 보여줌 (1, 1+2, 1+2+3, 1+2+3+4 ...)"
   ]
  },
  {
   "cell_type": "code",
   "execution_count": 104,
   "metadata": {},
   "outputs": [
    {
     "name": "stdout",
     "output_type": "stream",
     "text": [
      "[[0 1 2]\n",
      " [3 4 5]\n",
      " [6 7 8]]\n",
      "[[ 0  1  2]\n",
      " [ 3  5  7]\n",
      " [ 9 12 15]]\n"
     ]
    },
    {
     "data": {
      "text/plain": [
       "array([[  0,   0,   0],\n",
       "       [  3,  12,  60],\n",
       "       [  6,  42, 336]], dtype=int32)"
      ]
     },
     "execution_count": 104,
     "metadata": {},
     "output_type": "execute_result"
    }
   ],
   "source": [
    "arr = np.array([[0, 1, 2], [3, 4, 5], [6, 7, 8]])  # 왜 이거는 안하고 넘어감?\n",
    "print(arr)\n",
    "print(arr.cumsum(axis=0))  #행을 고정, 열의 합들을 누적으로 출력 ex. 0 0+3 0+3+6 => = 0 3 9(0열 결과)\n",
    "arr.cumprod(axis=1)  #열을 고정, 행의 곱들을 누적으로 출력 ex. 3 3*4 3*4*5 => 3 12 60"
   ]
  },
  {
   "cell_type": "markdown",
   "metadata": {},
   "source": [
    "### 배열의 불리언을 위한 메서드"
   ]
  },
  {
   "cell_type": "markdown",
   "metadata": {},
   "source": [
    "메서드의 불리언 값을 1또는 0으로 강제 할 수 있어서 ```sum```메서드를 실행하는 불리언 배열의 True 갯수 셀 수 있음"
   ]
  },
  {
   "cell_type": "code",
   "execution_count": 105,
   "metadata": {},
   "outputs": [
    {
     "name": "stdout",
     "output_type": "stream",
     "text": [
      "[-1.12955119 -0.6399626   0.31383052 -1.22583598 -0.22179314  1.33992631\n",
      "  0.02930971  1.98538575  1.4471656  -0.28762941]\n"
     ]
    },
    {
     "data": {
      "text/plain": [
       "5"
      ]
     },
     "execution_count": 105,
     "metadata": {},
     "output_type": "execute_result"
    }
   ],
   "source": [
    "arr = np.random.randn(10)\n",
    "print(arr)\n",
    "(arr > 0).sum() # Number of positive values  #참인 항목의 개수!!!!!"
   ]
  },
  {
   "cell_type": "markdown",
   "metadata": {},
   "source": [
    "```any``` 하나 이상의 값이 True 인지 확인 <br>\n",
    "```all``` 모든 원소값이 True 인지 확인"
   ]
  },
  {
   "cell_type": "code",
   "execution_count": 106,
   "metadata": {},
   "outputs": [
    {
     "name": "stdout",
     "output_type": "stream",
     "text": [
      "True\n"
     ]
    },
    {
     "data": {
      "text/plain": [
       "False"
      ]
     },
     "execution_count": 106,
     "metadata": {},
     "output_type": "execute_result"
    }
   ],
   "source": [
    "bools = np.array([False, False, True, False])\n",
    "print(bools.any())  #하나라도 true이면 true\n",
    "bools.all()  #모두가 true여야 true"
   ]
  },
  {
   "cell_type": "markdown",
   "metadata": {},
   "source": [
    "### 정렬"
   ]
  },
  {
   "cell_type": "markdown",
   "metadata": {},
   "source": [
    "리스트의 ```sort```처럼 Numpy 배열 역시 sort 이용해 정렬가능"
   ]
  },
  {
   "cell_type": "code",
   "execution_count": 107,
   "metadata": {},
   "outputs": [
    {
     "name": "stdout",
     "output_type": "stream",
     "text": [
      "[-1.35931057 -0.04804133 -0.48078734  0.37775309  1.61440797 -1.12310404]\n"
     ]
    },
    {
     "data": {
      "text/plain": [
       "array([-1.35931057, -1.12310404, -0.48078734, -0.04804133,  0.37775309,\n",
       "        1.61440797])"
      ]
     },
     "execution_count": 107,
     "metadata": {},
     "output_type": "execute_result"
    }
   ],
   "source": [
    "arr = np.random.randn(6)\n",
    "print(arr)\n",
    "arr.sort()  #오름차순으로 정렬\n",
    "arr  "
   ]
  },
  {
   "cell_type": "code",
   "execution_count": 108,
   "metadata": {},
   "outputs": [
    {
     "name": "stdout",
     "output_type": "stream",
     "text": [
      "[[-0.38872795  0.33234995  1.13497317]\n",
      " [ 0.51071441  0.41429764  1.34454942]\n",
      " [ 0.49351532 -0.23700418  0.05728515]\n",
      " [-0.70707145  0.54666484  0.94250041]\n",
      " [-2.97959677  1.21814885 -0.05652072]]\n",
      "[[-2.97959677 -0.23700418 -0.05652072]\n",
      " [-0.70707145  0.33234995  0.05728515]\n",
      " [-0.38872795  0.41429764  0.94250041]\n",
      " [ 0.49351532  0.54666484  1.13497317]\n",
      " [ 0.51071441  1.21814885  1.34454942]]\n"
     ]
    },
    {
     "data": {
      "text/plain": [
       "array([[-2.97959677, -0.23700418, -0.05652072],\n",
       "       [-0.70707145,  0.05728515,  0.33234995],\n",
       "       [-0.38872795,  0.41429764,  0.94250041],\n",
       "       [ 0.49351532,  0.54666484,  1.13497317],\n",
       "       [ 0.51071441,  1.21814885,  1.34454942]])"
      ]
     },
     "execution_count": 108,
     "metadata": {},
     "output_type": "execute_result"
    }
   ],
   "source": [
    "arr = np.random.randn(5, 3)\n",
    "print(arr)  #기본 배열\n",
    "arr.sort(0)  #열별로 오름차순 정렬 = 행을 고정하여 열만 보겠다\n",
    "print(arr)\n",
    "arr.sort(1)  #행별로 오름차순 정렬 = 열을 고정하여 행만 보겠다\n",
    "arr"
   ]
  },
  {
   "cell_type": "code",
   "execution_count": 109,
   "metadata": {},
   "outputs": [
    {
     "data": {
      "text/plain": [
       "-0.023041188373248082"
      ]
     },
     "execution_count": 109,
     "metadata": {},
     "output_type": "execute_result"
    }
   ],
   "source": [
    "#1000개 만들어서 뭘 어쨌다는 말?\n",
    "large_arr = np.random.randn(1000)\n",
    "large_arr.sort()\n",
    "large_arr[int(0.5 * len(large_arr))] # 5% quantile"
   ]
  },
  {
   "cell_type": "markdown",
   "metadata": {},
   "source": [
    "### 집합관련함수"
   ]
  },
  {
   "cell_type": "markdown",
   "metadata": {},
   "source": [
    "```np.unique```함수는 중복된 원소를 제거하고 남은 원소를 정렬된 형태로 반환"
   ]
  },
  {
   "cell_type": "code",
   "execution_count": 110,
   "metadata": {},
   "outputs": [
    {
     "data": {
      "text/plain": [
       "array(['Bob', 'Joe', 'Will'], dtype='<U4')"
      ]
     },
     "execution_count": 110,
     "metadata": {},
     "output_type": "execute_result"
    }
   ],
   "source": [
    "import numpy as np\n",
    "names = np.array(['Bob', 'Joe', 'Will', 'Bob', 'Will', 'Joe', 'Joe'])\n",
    "np.unique(names)  #중복된 값을 하나만 쓰게 해주는 함수\n"
   ]
  },
  {
   "cell_type": "code",
   "execution_count": 111,
   "metadata": {},
   "outputs": [
    {
     "data": {
      "text/plain": [
       "array({'Bob', 'Will', 'Joe'}, dtype=object)"
      ]
     },
     "execution_count": 111,
     "metadata": {},
     "output_type": "execute_result"
    }
   ],
   "source": [
    "np.array(set(names))  #set데이터타입을 넘파이로 바꾸고싶다면 np.array 안에 넣어주기"
   ]
  },
  {
   "cell_type": "code",
   "execution_count": 112,
   "metadata": {},
   "outputs": [
    {
     "data": {
      "text/plain": [
       "array([1, 2, 3, 4])"
      ]
     },
     "execution_count": 112,
     "metadata": {},
     "output_type": "execute_result"
    }
   ],
   "source": [
    "ints = np.array([3, 3, 3, 2, 2, 1, 1, 4, 4])\n",
    "np.unique(ints)"
   ]
  },
  {
   "cell_type": "markdown",
   "metadata": {},
   "source": [
    "파이썬의 ```set```을 이용해서도 가능 "
   ]
  },
  {
   "cell_type": "code",
   "execution_count": 113,
   "metadata": {},
   "outputs": [
    {
     "data": {
      "text/plain": [
       "['Bob', 'Joe', 'Will']"
      ]
     },
     "execution_count": 113,
     "metadata": {},
     "output_type": "execute_result"
    }
   ],
   "source": [
    "sorted(set(names))"
   ]
  },
  {
   "cell_type": "markdown",
   "metadata": {},
   "source": [
    "```np.in1d``` 함수는 두개의 배열을 인자로 받아서 첫번째 배열의 원소가 두번째 배열의 원소를 포함하는지를 나타내는 불리언 배열로 반환"
   ]
  },
  {
   "cell_type": "code",
   "execution_count": 114,
   "metadata": {},
   "outputs": [
    {
     "data": {
      "text/plain": [
       "array([ True, False, False,  True,  True, False,  True])"
      ]
     },
     "execution_count": 114,
     "metadata": {},
     "output_type": "execute_result"
    }
   ],
   "source": [
    "import numpy as np\n",
    "values = np.array([6, 0, 0, 3, 2, 5, 6])\n",
    "np.in1d(values, [2, 3, 6])  #value에 있는 값이 뒤의 값 중 하나인가? 참/거짓"
   ]
  },
  {
   "cell_type": "markdown",
   "metadata": {},
   "source": [
    "## 배열의 파일 입출력"
   ]
  },
  {
   "cell_type": "markdown",
   "metadata": {},
   "source": [
    "numpy는 디스크나 텍스트나 바이너리 형식의 데이터를 불러오거나 저장 가능\n",
    "표형식의 데이터는 pandas에서 처리하는 것을 선호하기 때문에 다음장에\n",
    "     \n",
    "```np.save``` 와 ```np.load```는 배열 데이터를 효과적으로 디스크에 저장하고 불러오기 위한 함수    \n",
    "확장자 ```npy```로 끝나지 않으면 자동적으로 확장자 추가"
   ]
  },
  {
   "cell_type": "code",
   "execution_count": 115,
   "metadata": {},
   "outputs": [],
   "source": [
    "arr = np.arange(10)\n",
    "arr2 = np.array([9, 8, 7, 6, 5, 4, 3, 2, 1, 0])\n",
    "np.save('some_array', arr)  # 이런 이름으로 매트릭스 저장해두기"
   ]
  },
  {
   "cell_type": "code",
   "execution_count": 116,
   "metadata": {},
   "outputs": [
    {
     "data": {
      "text/plain": [
       "array([0, 1, 2, 3, 4, 5, 6, 7, 8, 9])"
      ]
     },
     "execution_count": 116,
     "metadata": {},
     "output_type": "execute_result"
    }
   ],
   "source": [
    "np.load('some_array.npy')  #이런 이름의 매트릭스 로드"
   ]
  },
  {
   "cell_type": "markdown",
   "metadata": {},
   "source": [
    "```np.savez```함수를 이용하면 여러개의 배열을 압축된 형식으로 저장"
   ]
  },
  {
   "cell_type": "code",
   "execution_count": 117,
   "metadata": {},
   "outputs": [],
   "source": [
    "np.savez('array_archive.npz', a=arr, b=arr2)"
   ]
  },
  {
   "cell_type": "code",
   "execution_count": 118,
   "metadata": {},
   "outputs": [
    {
     "name": "stdout",
     "output_type": "stream",
     "text": [
      "[9 8 7 6 5 4 3 2 1 0]\n"
     ]
    },
    {
     "data": {
      "text/plain": [
       "array([0, 1, 2, 3, 4, 5, 6, 7, 8, 9])"
      ]
     },
     "execution_count": 118,
     "metadata": {},
     "output_type": "execute_result"
    }
   ],
   "source": [
    "arch = np.load('array_archive.npz')\n",
    "print(arch['b'])  #'b'에 저장된 행렬을 가져오겠다\n",
    "arch['a']"
   ]
  },
  {
   "cell_type": "markdown",
   "metadata": {},
   "source": [
    "압축이 잘되는 데이터라면 ```np.savez_compressed```사용"
   ]
  },
  {
   "cell_type": "code",
   "execution_count": 119,
   "metadata": {},
   "outputs": [],
   "source": [
    "np.savez_compressed('arrays_compressed.npz', a=arr, b=arr)"
   ]
  },
  {
   "cell_type": "code",
   "execution_count": 120,
   "metadata": {},
   "outputs": [
    {
     "name": "stderr",
     "output_type": "stream",
     "text": [
      "'rm'은(는) 내부 또는 외부 명령, 실행할 수 있는 프로그램, 또는\n",
      "배치 파일이 아닙니다.\n",
      "'rm'은(는) 내부 또는 외부 명령, 실행할 수 있는 프로그램, 또는\n",
      "배치 파일이 아닙니다.\n",
      "'rm'은(는) 내부 또는 외부 명령, 실행할 수 있는 프로그램, 또는\n",
      "배치 파일이 아닙니다.\n"
     ]
    }
   ],
   "source": [
    "!rm some_array.npy  #!의 의미는 터미널에서 해당 명령어를 실행하겠다는 의미!\n",
    "!rm array_archive.npz\n",
    "!rm arrays_compressed.npz"
   ]
  },
  {
   "cell_type": "code",
   "execution_count": 121,
   "metadata": {},
   "outputs": [
    {
     "name": "stdout",
     "output_type": "stream",
     "text": [
      "Requirement already satisfied: numpy in c:\\users\\svbea\\appdata\\local\\programs\\python\\python39\\lib\\site-packages (1.19.5)\n"
     ]
    }
   ],
   "source": [
    "!pip3 install numpy"
   ]
  },
  {
   "cell_type": "markdown",
   "metadata": {},
   "source": [
    "## 선형대수"
   ]
  },
  {
   "cell_type": "markdown",
   "metadata": {},
   "source": [
    "```dot```을 이용하여 행렬곱\n",
    "```python\n",
    "x.dot(y)\n",
    "```\n",
    "코드는 \n",
    "```python\n",
    "np.dot(x,y)\n",
    "```\n",
    "와 같다"
   ]
  },
  {
   "cell_type": "code",
   "execution_count": 122,
   "metadata": {},
   "outputs": [
    {
     "name": "stdout",
     "output_type": "stream",
     "text": [
      "[[1. 2. 3.]\n",
      " [4. 5. 6.]]\n",
      "[[ 6. 23.]\n",
      " [-1.  7.]\n",
      " [ 8.  9.]]\n",
      "[[ 28.  64.]\n",
      " [ 67. 181.]]\n"
     ]
    },
    {
     "data": {
      "text/plain": [
       "array([[ 98., 127., 156.],\n",
       "       [ 27.,  33.,  39.],\n",
       "       [ 44.,  61.,  78.]])"
      ]
     },
     "execution_count": 122,
     "metadata": {},
     "output_type": "execute_result"
    }
   ],
   "source": [
    "x = np.array([[1., 2., 3.], [4., 5., 6.]]) #2x3\n",
    "y = np.array([[6., 23.], [-1, 7], [8, 9]]) #3x2\n",
    "print(x)\n",
    "print(y)\n",
    "print(x.dot(y))  #2x2  # x 행렬곱 y\n",
    "y.dot(x)  #3x3   # y 행렬곱 x"
   ]
  },
  {
   "cell_type": "code",
   "execution_count": 123,
   "metadata": {},
   "outputs": [
    {
     "data": {
      "text/plain": [
       "array([[ 28.,  64.],\n",
       "       [ 67., 181.]])"
      ]
     },
     "execution_count": 123,
     "metadata": {},
     "output_type": "execute_result"
    }
   ],
   "source": [
    "np.dot(x, y)  # x 행렬곱 y"
   ]
  },
  {
   "cell_type": "code",
   "execution_count": 124,
   "metadata": {},
   "outputs": [
    {
     "data": {
      "text/plain": [
       "array([ 6., 15.])"
      ]
     },
     "execution_count": 124,
     "metadata": {},
     "output_type": "execute_result"
    }
   ],
   "source": [
    "# 이건 또 왜 안하고 그냥 넘어가냐\n",
    "np.dot(x, np.ones(3))  #이건 왜 안함????\n",
    "#2x3 @ 3x1 = 2x1 #np.ones가 모든 값을 1로 3행의 행렬을 만드는거니까!!!!"
   ]
  },
  {
   "cell_type": "markdown",
   "metadata": {},
   "source": [
    "Python3.5 이상부터 @ 기호는 행렬 곱셈"
   ]
  },
  {
   "cell_type": "code",
   "execution_count": 125,
   "metadata": {},
   "outputs": [
    {
     "data": {
      "text/plain": [
       "array([ 6., 15.])"
      ]
     },
     "execution_count": 125,
     "metadata": {},
     "output_type": "execute_result"
    }
   ],
   "source": [
    "#이것도 안하고 그낭 넘어감.. 근데 그냥 @ 기호도 행렬곱이라는 말인듯\n",
    "x @ np.ones(3)"
   ]
  },
  {
   "cell_type": "markdown",
   "metadata": {},
   "source": [
    "```numpy.linag```는 행렬의 분할과 역행렬, 행렬식과 같은 것들을 포함\n",
    "\n",
    "A=QR\n",
    "\n",
    "Q = 유니러티 행렬\n",
    "\n",
    "R = 상삼각 행렬"
   ]
  },
  {
   "cell_type": "code",
   "execution_count": 126,
   "metadata": {},
   "outputs": [
    {
     "name": "stdout",
     "output_type": "stream",
     "text": [
      "기본 보기\n",
      "[[ 3.81457542  0.42009529 -0.4002692   0.51057268 -0.57166002]\n",
      " [ 0.42009529  7.12050478  1.66240896  4.11578563 -6.55968035]\n",
      " [-0.4002692   1.66240896  2.72806593  2.88464698 -4.49114059]\n",
      " [ 0.51057268  4.11578563  2.88464698  6.78096591 -9.00929119]\n",
      " [-0.57166002 -6.55968035 -4.49114059 -9.00929119 13.44287704]]\n",
      "\n",
      "역행렬\n",
      "[[ 0.28592779  0.0067035   0.13823183 -0.02320938  0.04605747]\n",
      " [ 0.0067035   0.28277355  0.13826076  0.12889273  0.27084357]\n",
      " [ 0.13823183  0.13826076  0.96018024  0.19036142  0.52171078]\n",
      " [-0.02320938  0.12889273  0.19036142  1.43058001  1.08426782]\n",
      " [ 0.04605747  0.27084357  0.52171078  1.08426782  1.10947511]]\n",
      "\n",
      "역행렬과 다시 내적한 결과\n",
      "[[ 1.00000000e+00  3.49609606e-17  8.03219361e-17  2.02350775e-17\n",
      "   6.07448129e-18]\n",
      " [ 2.49782707e-17  1.00000000e+00 -2.67604558e-17  5.18416257e-16\n",
      "   2.26276274e-16]\n",
      " [ 3.91319822e-17  2.16299630e-16  1.00000000e+00 -2.89996275e-16\n",
      "   6.27125437e-16]\n",
      " [-4.01124618e-17  4.97738207e-16  1.32149270e-17  1.00000000e+00\n",
      "   1.81423387e-15]\n",
      " [-8.69202793e-17 -9.82891106e-17  3.82649116e-16  7.96793116e-16\n",
      "   1.00000000e+00]]\n",
      "\n",
      "상삼각 행렬\n",
      "[[ -3.93384809  -2.48603381  -0.53885656  -2.83041749   3.92066977]\n",
      " [  0.         -10.36486399  -5.42193517 -11.02638515  16.39470326]\n",
      " [  0.           0.          -3.02819208  -4.36577696   6.03890344]\n",
      " [  0.           0.           0.          -2.00448234   2.10129423]\n",
      " [  0.           0.           0.           0.           0.60255929]]\n"
     ]
    },
    {
     "data": {
      "text/plain": [
       "array([[-0.96968041,  0.19204912, -0.03912896,  0.14330308,  0.02775235],\n",
       "       [-0.10678991, -0.66137109,  0.65420113,  0.31075883,  0.16319931],\n",
       "       [ 0.10175004, -0.18479384, -0.58812465,  0.71469175,  0.31436168],\n",
       "       [-0.12978963, -0.36595987, -0.2742555 , -0.58920665,  0.65333565],\n",
       "       [ 0.14531828,  0.59802176,  0.38650113,  0.15793794,  0.66852454]])"
      ]
     },
     "execution_count": 126,
     "metadata": {},
     "output_type": "execute_result"
    }
   ],
   "source": [
    "# 여기 다시 한 번 봐주세요... 뭐야...\n",
    "import numpy as np\n",
    "from numpy.linalg import inv, qr\n",
    "X = np.random.randn(5, 5)\n",
    "mat = X.T.dot(X)  #원래의 행렬의 전치 행렬과 원래의 행렬을 행렬곱한 결과\n",
    "print('기본 보기')\n",
    "print(mat)\n",
    "print(); print('역행렬')\n",
    "print(inv(mat))  #역행렬 구하기(inverse)\n",
    "print(); print('역행렬과 다시 내적한 결과')\n",
    "print(mat.dot(inv(mat)))\n",
    "q, r = qr(mat)  #유니러티, 상삼각 행렬 구하는 함수\n",
    "print(); print('상삼각 행렬')\n",
    "print(r)\n",
    "q"
   ]
  },
  {
   "cell_type": "markdown",
   "metadata": {},
   "source": [
    "## 난수생성"
   ]
  },
  {
   "cell_type": "markdown",
   "metadata": {},
   "source": [
    "```numpy.random``` 모듈은 파이썬 내장 random 함수를 보강 하여 다양한 종류의 확률분포로 부터 표본값을 생성 하는데 주로 사용\n",
    "   \n",
    "아래 코드는 표준정규분포로 부터 4 x 4 크기의 표본 생성"
   ]
  },
  {
   "cell_type": "code",
   "execution_count": 127,
   "metadata": {
    "scrolled": true
   },
   "outputs": [
    {
     "data": {
      "text/plain": [
       "array([[-0.10611793,  1.56992751,  0.07852882,  0.03891702],\n",
       "       [-1.43163409, -0.02387055,  1.0343507 ,  0.13291787],\n",
       "       [ 0.42019074,  0.35044301,  2.4480048 , -0.78377533],\n",
       "       [ 0.76524731,  0.70596004,  0.72298683,  1.75847292]])"
      ]
     },
     "execution_count": 127,
     "metadata": {},
     "output_type": "execute_result"
    }
   ],
   "source": [
    "samples = np.random.normal(size=(4, 4))\n",
    "samples"
   ]
  },
  {
   "cell_type": "code",
   "execution_count": 128,
   "metadata": {},
   "outputs": [
    {
     "name": "stdout",
     "output_type": "stream",
     "text": [
      "2.05 s ± 341 ms per loop (mean ± std. dev. of 7 runs, 1 loop each)\n",
      "67.6 ms ± 14 ms per loop (mean ± std. dev. of 7 runs, 10 loops each)\n"
     ]
    }
   ],
   "source": [
    "from random import normalvariate\n",
    "N = 1000000\n",
    "%timeit samples = [normalvariate(0, 1) for _ in range(N)]\n",
    "%timeit np.random.normal(size=N)"
   ]
  },
  {
   "cell_type": "markdown",
   "metadata": {},
   "source": [
    "난수 생성기의 시드값에 따라 정해진 난수를 알고리즘으로 생성"
   ]
  },
  {
   "cell_type": "code",
   "execution_count": 129,
   "metadata": {},
   "outputs": [],
   "source": [
    "np.random.seed(1234)  #seed를 설정했기 때문에 실행할 때마다 같은 값이 출력됨"
   ]
  },
  {
   "cell_type": "markdown",
   "metadata": {},
   "source": [
    "![](/Users/Jaehee/Documents/pydata-book/img/table4_7.png)"
   ]
  },
  {
   "cell_type": "code",
   "execution_count": 130,
   "metadata": {},
   "outputs": [
    {
     "data": {
      "text/plain": [
       "array([ 0.47143516, -1.19097569,  1.43270697, -0.3126519 , -0.72058873,\n",
       "        0.88716294,  0.85958841, -0.6365235 ,  0.01569637, -2.24268495])"
      ]
     },
     "execution_count": 130,
     "metadata": {},
     "output_type": "execute_result"
    }
   ],
   "source": [
    "rng = np.random.RandomState(1234)\n",
    "rng.randn(10)"
   ]
  },
  {
   "cell_type": "code",
   "execution_count": null,
   "metadata": {},
   "outputs": [],
   "source": []
  }
 ],
 "metadata": {
  "kernelspec": {
   "display_name": "Python 3 (ipykernel)",
   "language": "python",
   "name": "python3"
  },
  "language_info": {
   "codemirror_mode": {
    "name": "ipython",
    "version": 3
   },
   "file_extension": ".py",
   "mimetype": "text/x-python",
   "name": "python",
   "nbconvert_exporter": "python",
   "pygments_lexer": "ipython3",
   "version": "3.8.10"
  }
 },
 "nbformat": 4,
 "nbformat_minor": 1
}
