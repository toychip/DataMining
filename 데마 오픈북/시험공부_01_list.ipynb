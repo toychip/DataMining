{
 "cells": [
  {
   "cell_type": "markdown",
   "id": "289a2a8e",
   "metadata": {},
   "source": [
    "### list_enumerate"
   ]
  },
  {
   "cell_type": "code",
   "execution_count": 16,
   "id": "e99a57b6",
   "metadata": {},
   "outputs": [
    {
     "name": "stdout",
     "output_type": "stream",
     "text": [
      "i:  0 \n",
      "v:  foo\n",
      "{'foo': 0}\n",
      "some_list:  ['foo', 'bar', 'baz']\n",
      "i:  1 \n",
      "v:  bar\n",
      "{'foo': 0, 'bar': 1}\n",
      "some_list:  ['foo', 'bar', 'baz']\n",
      "i:  2 \n",
      "v:  baz\n",
      "{'foo': 0, 'bar': 1, 'baz': 2}\n",
      "some_list:  ['foo', 'bar', 'baz']\n"
     ]
    },
    {
     "data": {
      "text/plain": [
       "{'foo': 0, 'bar': 1, 'baz': 2}"
      ]
     },
     "execution_count": 16,
     "metadata": {},
     "output_type": "execute_result"
    }
   ],
   "source": [
    "some_list = ['foo', 'bar', 'baz']\n",
    "\n",
    "mapping = {}\n",
    "for i, v in enumerate(some_list):\n",
    "    # start를 사용하여 시작 인덱스 정할 수 있음 for i, v in enumerate(some_list, start = 5):\n",
    "    mapping[v] = i\n",
    "    print(\"i: \", i, \"\\nv: \", v)\n",
    "    print(mapping)\n",
    "    print(\"some_list: \", some_list)           # enumerate() 함수는 기본적으로 인덱스와 원소로 이루어진 터플(tuple)을 만들어줍니다.\n",
    "mapping"
   ]
  },
  {
   "cell_type": "markdown",
   "id": "f39ddfe8",
   "metadata": {},
   "source": [
    "### list [ sorted, reversed ]"
   ]
  },
  {
   "cell_type": "code",
   "execution_count": 24,
   "id": "fce8ca42",
   "metadata": {},
   "outputs": [
    {
     "name": "stdout",
     "output_type": "stream",
     "text": [
      "[0, 1, 2, 2, 3, 6, 7]\n",
      "[' ', 'a', 'c', 'e', 'e', 'g', 'o', 'r', 'r', 's']\n",
      "sortlist_num 리버스:  <list_reverseiterator object at 0x7fe499e5d4c0>\n",
      "reversed_num 타입:  <class 'list_reverseiterator'>\n",
      "sortlist_num 리버스:  [7, 6, 3, 2, 2, 1, 0]\n"
     ]
    }
   ],
   "source": [
    "sortlist_num =sorted([7, 1, 2, 6, 0, 3, 2])\n",
    "print(sortlist_num)\n",
    "\n",
    "sortlist_eng = sorted('gorse race')\n",
    "print(sortlist_eng)\n",
    "\n",
    "reversed_num= reversed(sortlist_num)\n",
    "print(\"sortlist_num 리버스: \", reversed_num)\n",
    "\n",
    "print(\"reversed_num 타입: \", type(reversed_num))\n",
    "\n",
    "print(\"sortlist_num 리버스: \", list(reversed_num))            # 리스트로 꼭 묶어주기"
   ]
  },
  {
   "cell_type": "markdown",
   "id": "cb1893cc",
   "metadata": {},
   "source": [
    "### list [ zip ]"
   ]
  },
  {
   "cell_type": "code",
   "execution_count": 28,
   "id": "d94bb951",
   "metadata": {},
   "outputs": [
    {
     "name": "stdout",
     "output_type": "stream",
     "text": [
      "zipped_list 타입:  <class 'zip'>\n",
      "<zip object at 0x7fe458008140>\n",
      "[(0, ' '), (1, 'a'), (2, 'c'), (2, 'e'), (3, 'e'), (6, 'g'), (7, 'o')]\n"
     ]
    }
   ],
   "source": [
    "zipped_list = zip(sortlist_num, sortlist_eng)\n",
    "\n",
    "print(\"zipped_list 타입: \", type(zipped_list))\n",
    "\n",
    "print(zipped_list)        # 리스트로 꼭 묶어주기\n",
    "\n",
    "print(list(zipped_list))"
   ]
  },
  {
   "cell_type": "markdown",
   "id": "76c09239",
   "metadata": {},
   "source": [
    "### tuples(튜플)는 append, remove, insert, reverse, sort 지원 x"
   ]
  },
  {
   "cell_type": "code",
   "execution_count": 15,
   "id": "0578527d",
   "metadata": {},
   "outputs": [
    {
     "name": "stdout",
     "output_type": "stream",
     "text": [
      "tup 타입:  <class 'tuple'>           tup:  (4, 5, 6)\n",
      "(4, 0, 2)\n",
      "tuple('string'), 이렇게 넣으면 문자열이 쪼개져서 저장이됨 ('s', 't', 'r', 'i', 'n', 'g')\n",
      "\n",
      "tup:  ('foo', [1, 2], True)\n",
      "\n",
      "tup:  ('foo', [1, 2, 90], True)\n"
     ]
    }
   ],
   "source": [
    "tup = 4, 5, 6 \n",
    "print(\"tup 타입: \", type(tup), \"          tup: \",tup)\n",
    "\n",
    "tup = tuple([4, 0, 2])\n",
    "print(tup)\n",
    "tup = tuple('string')\n",
    "\n",
    "print(\"tuple('string'), 이렇게 넣으면 문자열이 쪼개져서 저장이됨\" , tup)\n",
    "\n",
    "tup = tuple(['foo', [1, 2], True])\n",
    "\n",
    "# # tup[2] = False\n",
    "# print(tup[2])\n",
    "\n",
    "print(\"\\ntup: \", tup)\n",
    "\n",
    "tup[1].append(90)                 # tuple 속 리스트 [1,2] 뒤에 3을 추가한다/\n",
    "print(\"\\ntup: \", tup)\n",
    "\n"
   ]
  },
  {
   "cell_type": "markdown",
   "id": "0905bb38",
   "metadata": {},
   "source": [
    "### Unpacking tuples 튜플 쪼개기"
   ]
  },
  {
   "cell_type": "code",
   "execution_count": 20,
   "id": "fbf26094",
   "metadata": {},
   "outputs": [
    {
     "name": "stdout",
     "output_type": "stream",
     "text": [
      "쪼개기 전 튜플:  (4, 5, 6)\n",
      "쪼깨고 b값 갖고 오기, b:  5\n"
     ]
    }
   ],
   "source": [
    "tup = (4, 5, 6)\n",
    "print(\"쪼개기 전 튜플: \", tup)\n",
    "\n",
    "a, b, c = tup # 튜플 쪼개기\n",
    "\n",
    "print(\"쪼깨고 b값 갖고 오기, b: \", b)"
   ]
  },
  {
   "cell_type": "markdown",
   "id": "c33fa5b0",
   "metadata": {},
   "source": [
    "### temp 이용, temp = a a = b b = temp"
   ]
  },
  {
   "cell_type": "code",
   "execution_count": 21,
   "id": "b1e94ef2",
   "metadata": {},
   "outputs": [],
   "source": [
    "a, b = 1,5 "
   ]
  },
  {
   "cell_type": "code",
   "execution_count": 27,
   "id": "6e04a833",
   "metadata": {},
   "outputs": [
    {
     "name": "stdout",
     "output_type": "stream",
     "text": [
      "temp 활용 전\n",
      "\n",
      " a:  5\n",
      "\n",
      " b:  1\n"
     ]
    }
   ],
   "source": [
    "print(\"temp 활용 전\")\n",
    "print(\"\\n a: \", a)\n",
    "print(\"\\n b: \", b)"
   ]
  },
  {
   "cell_type": "code",
   "execution_count": 30,
   "id": "25523ded",
   "metadata": {},
   "outputs": [
    {
     "name": "stdout",
     "output_type": "stream",
     "text": [
      "\n",
      " temp 활용 후  1\n",
      "\n",
      " temp 활용 후  5\n"
     ]
    }
   ],
   "source": [
    "b, a = a, b\n",
    "print(\"\\n temp 활용 후 \", a)\n",
    "print(\"\\n temp 활용 후 \", b)"
   ]
  },
  {
   "cell_type": "markdown",
   "id": "ec5a63e8",
   "metadata": {},
   "source": [
    "### 리스트 속 튜플 속 값들 추출하기"
   ]
  },
  {
   "cell_type": "code",
   "execution_count": 37,
   "id": "2f2e8fcd",
   "metadata": {},
   "outputs": [
    {
     "name": "stdout",
     "output_type": "stream",
     "text": [
      "[(1, 2, 3), (4, 5, 6), (7, 8, 9)]\n",
      "a=1, b=2, c=3\n",
      "a=4, b=5, c=6\n",
      "a=7, b=8, c=9\n"
     ]
    }
   ],
   "source": [
    "seq = [(1, 2, 3), (4, 5, 6), (7, 8, 9)]\n",
    "print(seq)\n",
    "\n",
    "for a, b, c in seq:\n",
    "    print('a={0}, b={1}, c={2}'.format(a, b, c))\n",
    "    \n"
   ]
  },
  {
   "cell_type": "code",
   "execution_count": 61,
   "id": "7bb0b2a7",
   "metadata": {},
   "outputs": [
    {
     "name": "stdout",
     "output_type": "stream",
     "text": [
      "values:  (1, 2, 3, 4, 5)\n",
      "a:  1\n",
      "b:  2\n",
      "*rest:  3 4 5\n",
      "rest:  [3, 4, 5]\n",
      "3 4 5\n"
     ]
    }
   ],
   "source": [
    "values = 1, 2, 3, 4, 5\n",
    "\n",
    "a, b, *rest = values\n",
    "\n",
    "print(\"values: \", values)\n",
    "print(\"a: \", a)\n",
    "print(\"b: \", b)\n",
    "print(\"*rest: \", *rest)\n",
    "print(\"rest: \", rest)\n",
    "a, b, *_ = values\n",
    "print(*_)\n",
    "                                                            # 포인터라고 생각하면 편함"
   ]
  },
  {
   "cell_type": "markdown",
   "id": "adc3494f",
   "metadata": {},
   "source": [
    "### 튜플 메소드"
   ]
  },
  {
   "cell_type": "code",
   "execution_count": 64,
   "id": "f7120ff6",
   "metadata": {},
   "outputs": [
    {
     "data": {
      "text/plain": [
       "4"
      ]
     },
     "execution_count": 64,
     "metadata": {},
     "output_type": "execute_result"
    }
   ],
   "source": [
    "a = 1, 2, 2, 2, 3, 4, 2\n",
    "a.count(2)"
   ]
  },
  {
   "cell_type": "markdown",
   "id": "069c03a9",
   "metadata": {},
   "source": [
    "### 딕셔너리\n",
    "#### 딕셔너리 안에서 키 값이 있는지 없는 지 확인을 위해서 in 과 not in 연산자를 이용한다.\n",
    "#### 딕셔너리에서 dictionary[key]와 같은 포맷으로 딕셔너리내의 key 값을 가지고 있는 값들을 나타낼 수 있음\n",
    "#### 만약 딕셔너리 안에서 key값이 없다면 keyerror 에러 발생 \n",
    "#### 딕셔너리 자체는 변경가능 한 객체이다. 키와 값의 쌍으로 추가하기 위해서 dictionary[key] = value \n",
    "#### 만약 키 값이 이미 존재하고 있따면, 그 값을 바꾼다. "
   ]
  },
  {
   "cell_type": "code",
   "execution_count": 85,
   "id": "5dd1a364",
   "metadata": {},
   "outputs": [
    {
     "data": {
      "text/plain": [
       "{'a': 'some value', 'b': [1, 2, 3, 4]}"
      ]
     },
     "execution_count": 85,
     "metadata": {},
     "output_type": "execute_result"
    }
   ],
   "source": [
    "empty_dict = {}\n",
    "d1 = {'a' : 'some value', 'b' : [1, 2, 3, 4]}\n",
    "d1"
   ]
  },
  {
   "cell_type": "code",
   "execution_count": 86,
   "id": "689618d2",
   "metadata": {},
   "outputs": [
    {
     "name": "stdout",
     "output_type": "stream",
     "text": [
      "{'a': 'some value', 'b': [1, 2, 3, 4], 7: 'an integer'}\n",
      "[1, 2, 3, 4]\n"
     ]
    }
   ],
   "source": [
    "d1[7] = 'an integer'           # 이렇게 값 추가 가능 찬영이형 코드 참조\n",
    "print(d1)\n",
    "print(d1['b'])"
   ]
  },
  {
   "cell_type": "code",
   "execution_count": 87,
   "id": "53fb56e5",
   "metadata": {},
   "outputs": [
    {
     "data": {
      "text/plain": [
       "True"
      ]
     },
     "execution_count": 87,
     "metadata": {},
     "output_type": "execute_result"
    }
   ],
   "source": [
    "'b' in d1"
   ]
  },
  {
   "cell_type": "code",
   "execution_count": 88,
   "id": "c687c0f9",
   "metadata": {},
   "outputs": [
    {
     "name": "stdout",
     "output_type": "stream",
     "text": [
      "{'a': 'some value', 'b': [1, 2, 3, 4], 7: 'an integer'}\n"
     ]
    },
    {
     "data": {
      "text/plain": [
       "{'a': 'some value', 7: 'an integer'}"
      ]
     },
     "execution_count": 88,
     "metadata": {},
     "output_type": "execute_result"
    }
   ],
   "source": [
    "print(d1)\n",
    "del d1['b']\n",
    "d1"
   ]
  },
  {
   "cell_type": "code",
   "execution_count": 89,
   "id": "ef80e335",
   "metadata": {},
   "outputs": [
    {
     "data": {
      "text/plain": [
       "'some value'"
      ]
     },
     "execution_count": 89,
     "metadata": {},
     "output_type": "execute_result"
    }
   ],
   "source": [
    "ret = d1.pop('a')\n",
    "ret"
   ]
  },
  {
   "cell_type": "code",
   "execution_count": 90,
   "id": "f8abe68f",
   "metadata": {},
   "outputs": [
    {
     "data": {
      "text/plain": [
       "[7]"
      ]
     },
     "execution_count": 90,
     "metadata": {},
     "output_type": "execute_result"
    }
   ],
   "source": [
    "list(d1.keys())"
   ]
  },
  {
   "cell_type": "code",
   "execution_count": 91,
   "id": "ed69e683",
   "metadata": {},
   "outputs": [
    {
     "data": {
      "text/plain": [
       "['an integer']"
      ]
     },
     "execution_count": 91,
     "metadata": {},
     "output_type": "execute_result"
    }
   ],
   "source": [
    "list(d1.values())"
   ]
  },
  {
   "cell_type": "code",
   "execution_count": 96,
   "id": "22177ca4",
   "metadata": {},
   "outputs": [],
   "source": [
    "d1.update({'d': 'foo', 'c':12})"
   ]
  },
  {
   "cell_type": "code",
   "execution_count": 97,
   "id": "7b61d1bf",
   "metadata": {},
   "outputs": [
    {
     "data": {
      "text/plain": [
       "{7: 'an integer', 'd': 'foo', 'c': 12}"
      ]
     },
     "execution_count": 97,
     "metadata": {},
     "output_type": "execute_result"
    }
   ],
   "source": [
    "d1"
   ]
  },
  {
   "cell_type": "code",
   "execution_count": 98,
   "id": "39b63630",
   "metadata": {},
   "outputs": [
    {
     "data": {
      "text/plain": [
       "{0: 4, 1: 3, 2: 2, 3: 1, 4: 0}"
      ]
     },
     "execution_count": 98,
     "metadata": {},
     "output_type": "execute_result"
    }
   ],
   "source": [
    "a = dict(zip(range(5), reversed(range(5))))            # 0, 1, 2, 3, 4     :     4, 3, 2, 1, 0   키와 밸류값으로 저장\n",
    "a"
   ]
  },
  {
   "cell_type": "markdown",
   "id": "495a07b3",
   "metadata": {},
   "source": [
    "### Set 수학의 세트와 유사, 모든 원소값은 유일, 정렬x, 서로 다른타입 원소 초기화 가능"
   ]
  },
  {
   "cell_type": "code",
   "execution_count": 101,
   "id": "575b5196",
   "metadata": {},
   "outputs": [
    {
     "data": {
      "text/plain": [
       "{1, 2, 3, 4}"
      ]
     },
     "execution_count": 101,
     "metadata": {},
     "output_type": "execute_result"
    }
   ],
   "source": [
    "s1 = set([1, 4, 2, 3, 2, 3])\n",
    "s1"
   ]
  },
  {
   "cell_type": "markdown",
   "id": "8c1bb2b7",
   "metadata": {},
   "source": [
    "### 여기에서 argument는 리스트 스트링 튜풀 가능\n",
    "### 만약 argument가 문자열이라면, 하나씩떨어트려놈 문자열을 리스트로 하나씩 떨어트려 만듦\n",
    "#### argument 안에 중복되는 원소값이 있다면 하나만 보여줌"
   ]
  },
  {
   "cell_type": "markdown",
   "id": "b3f513e0",
   "metadata": {},
   "source": [
    "### intersecion of two sets: 두 셋트에서 모두 공통으로 갖고 있는 원소 값을 찾아냄\n",
    "- 두가지 방법: \n",
    "- intersection 함수 이용, ex) Format: set1.intersection(set2)\n",
    "- &연산자 이용, Format: set1 & set2\n",
    "- 결과는 모두 새로운 Set로 넘겨줌"
   ]
  },
  {
   "cell_type": "code",
   "execution_count": 119,
   "id": "d9dd7161",
   "metadata": {},
   "outputs": [
    {
     "name": "stdout",
     "output_type": "stream",
     "text": [
      "S1:  {0, 1, 2, 3, 4, 5, 6, 7, 8, 9}\n",
      "S2:  {1, 2, 3, 4}\n",
      "s1 & s2:  {1, 2, 3, 4}\n",
      "s1.intersection(s2):  {1, 2, 3, 4}\n",
      "s2.intersection(s1):  {1, 2, 3, 4}\n"
     ]
    }
   ],
   "source": [
    "# &연산자 이용, Format: set1 & set2\n",
    "\n",
    "s1 = set(range(10))\n",
    "s2 = set(range(1, 5))\n",
    "print(\"S1: \", s1)\n",
    "print(\"S2: \", s2)\n",
    "print(\"s1 & s2: \", s1 & s2) \n",
    "\n",
    "# intersection 함수 이용\n",
    "\n",
    "print(\"s1.intersection(s2): \", s1.intersection(s2))\n",
    "print(\"s2.intersection(s1): \", s2.intersection(s1))"
   ]
  },
  {
   "cell_type": "markdown",
   "id": "7ab0016d",
   "metadata": {},
   "source": [
    "### 세트의 차집합\n",
    "두가지 밥법, difference함수 이용 or s1-s2"
   ]
  },
  {
   "cell_type": "code",
   "execution_count": 123,
   "id": "150918ab",
   "metadata": {},
   "outputs": [
    {
     "name": "stdout",
     "output_type": "stream",
     "text": [
      "s1-s2:  {0, 5, 6, 7, 8, 9}\n",
      "s1.difference(s2):  {0, 5, 6, 7, 8, 9}\n"
     ]
    }
   ],
   "source": [
    "print(\"s1-s2: \", s1-s2)\n",
    "\n",
    "print(\"s1.difference(s2): \", s1.difference(s2))"
   ]
  },
  {
   "cell_type": "markdown",
   "id": "25e2aa42",
   "metadata": {},
   "source": [
    "### 세트에서 합집합에서 교집합을 뺀 모든 원소값\n",
    "- symmetric_difference 사용\n",
    "- ^연산자 사용"
   ]
  },
  {
   "cell_type": "code",
   "execution_count": 126,
   "id": "0e0ce8e2",
   "metadata": {},
   "outputs": [
    {
     "name": "stdout",
     "output_type": "stream",
     "text": [
      "s1.symmetric_difference(s2):  {0, 5, 6, 7, 8, 9}\n",
      "s2.symmetric_difference(s1):  {0, 5, 6, 7, 8, 9}\n"
     ]
    }
   ],
   "source": [
    "print(\"s1.symmetric_difference(s2): \", s1.symmetric_difference(s2))\n",
    "print(\"s2.symmetric_difference(s1): \", s2.symmetric_difference(s1))"
   ]
  },
  {
   "cell_type": "markdown",
   "id": "3313d8b6",
   "metadata": {},
   "source": [
    ".copy 사용하기, issubset() 사용하기\n",
    "a.issubset(b) / a가 b안에 포함되어있느가? boolean return"
   ]
  },
  {
   "cell_type": "code",
   "execution_count": 133,
   "id": "b0b092a7",
   "metadata": {},
   "outputs": [
    {
     "data": {
      "text/plain": [
       "True"
      ]
     },
     "execution_count": 133,
     "metadata": {},
     "output_type": "execute_result"
    }
   ],
   "source": [
    "s3 = s1.copy()\n",
    "s1.issubset(s2)\n",
    "s2.issubset(s1)"
   ]
  },
  {
   "cell_type": "markdown",
   "id": "c787b08b",
   "metadata": {},
   "source": [
    "### ndarrays 생성하기"
   ]
  },
  {
   "cell_type": "markdown",
   "id": "f9ce6e93",
   "metadata": {},
   "source": [
    "배열을 생성하는 가장 쉬운 방법은 ```array``` 함수 이용     \n",
    "예: 파이썬의 리스트는 변환하기 좋은 예"
   ]
  },
  {
   "cell_type": "code",
   "execution_count": 135,
   "id": "07b4da70",
   "metadata": {},
   "outputs": [
    {
     "data": {
      "text/plain": [
       "array([6. , 8.2, 0. , 1. ])"
      ]
     },
     "execution_count": 135,
     "metadata": {},
     "output_type": "execute_result"
    }
   ],
   "source": [
    "import numpy as np\n",
    "\n",
    "data1 = [6, 8.2, 0, 1]\n",
    "arr1 = np.array(data1)\n",
    "arr1"
   ]
  },
  {
   "cell_type": "code",
   "execution_count": 136,
   "id": "51779765",
   "metadata": {},
   "outputs": [
    {
     "data": {
      "text/plain": [
       "2"
      ]
     },
     "execution_count": 136,
     "metadata": {},
     "output_type": "execute_result"
    }
   ],
   "source": [
    "data2 = [[1, 2, 3, 4], [5, 6, 7, 8]]\n",
    "arr2 = np.array(data2)\n",
    "arr2.ndim"
   ]
  },
  {
   "cell_type": "code",
   "execution_count": 138,
   "id": "73c09b1c",
   "metadata": {},
   "outputs": [
    {
     "data": {
      "text/plain": [
       "2"
      ]
     },
     "execution_count": 138,
     "metadata": {},
     "output_type": "execute_result"
    }
   ],
   "source": [
    "arr2.ndim"
   ]
  },
  {
   "cell_type": "code",
   "execution_count": 139,
   "id": "eb86225b",
   "metadata": {},
   "outputs": [
    {
     "data": {
      "text/plain": [
       "(2, 4)"
      ]
     },
     "execution_count": 139,
     "metadata": {},
     "output_type": "execute_result"
    }
   ],
   "source": [
    "arr2.shape"
   ]
  },
  {
   "cell_type": "code",
   "execution_count": 140,
   "id": "d51fcd49",
   "metadata": {},
   "outputs": [
    {
     "data": {
      "text/plain": [
       "dtype('float64')"
      ]
     },
     "execution_count": 140,
     "metadata": {},
     "output_type": "execute_result"
    }
   ],
   "source": [
    "arr1.dtype"
   ]
  },
  {
   "cell_type": "code",
   "execution_count": 141,
   "id": "22b96503",
   "metadata": {},
   "outputs": [
    {
     "data": {
      "text/plain": [
       "dtype('int64')"
      ]
     },
     "execution_count": 141,
     "metadata": {},
     "output_type": "execute_result"
    }
   ],
   "source": [
    "arr2.dtype"
   ]
  },
  {
   "cell_type": "markdown",
   "id": "cd4a5135",
   "metadata": {},
   "source": [
    "### numpy 아래 같은 뜻임\n",
    "\n",
    "arr2d[0][2] , arr2d[0,2]"
   ]
  },
  {
   "cell_type": "code",
   "execution_count": 143,
   "id": "887b6fba",
   "metadata": {},
   "outputs": [
    {
     "data": {
      "text/plain": [
       "array([[[ 1,  2,  3],\n",
       "        [ 4,  5,  6]],\n",
       "\n",
       "       [[ 7,  8,  9],\n",
       "        [10, 11, 12]]])"
      ]
     },
     "execution_count": 143,
     "metadata": {},
     "output_type": "execute_result"
    }
   ],
   "source": [
    "arr3d = np.array([[[1, 2, 3], [4, 5, 6]], [[7, 8, 9],[10,11,12]]])\n",
    "\n",
    "arr3d"
   ]
  },
  {
   "cell_type": "code",
   "execution_count": 145,
   "id": "1f691400",
   "metadata": {},
   "outputs": [
    {
     "data": {
      "text/plain": [
       "array([[[42, 42, 42],\n",
       "        [42, 42, 42]],\n",
       "\n",
       "       [[ 7,  8,  9],\n",
       "        [10, 11, 12]]])"
      ]
     },
     "execution_count": 145,
     "metadata": {},
     "output_type": "execute_result"
    }
   ],
   "source": [
    "old_values = arr3d[0]#.copy()\n",
    "arr3d[0]=42\n",
    "##################################        2차원 배열 2개를 하나의 배열 안에다가 넣음, 그 중 첫번째 2차원 배열을 42로 복사\n",
    "arr3d[0]=old_values\n",
    "arr3d\n",
    "#old_values"
   ]
  },
  {
   "cell_type": "code",
   "execution_count": 146,
   "id": "56bb8d38",
   "metadata": {},
   "outputs": [
    {
     "data": {
      "text/plain": [
       "9"
      ]
     },
     "execution_count": 146,
     "metadata": {},
     "output_type": "execute_result"
    }
   ],
   "source": [
    "arr3d[1, 0,2]                   # 2차원 배열 2개를 하나의 배열 안에다가 넣었는데, 그 중 2번째 2차원 배열의 세로0, 가로2번째를 갖고옴"
   ]
  },
  {
   "cell_type": "code",
   "execution_count": null,
   "id": "2757e834",
   "metadata": {},
   "outputs": [],
   "source": []
  },
  {
   "cell_type": "code",
   "execution_count": null,
   "id": "f882ddde",
   "metadata": {},
   "outputs": [],
   "source": []
  },
  {
   "cell_type": "code",
   "execution_count": null,
   "id": "5a9e672c",
   "metadata": {},
   "outputs": [],
   "source": []
  },
  {
   "cell_type": "code",
   "execution_count": null,
   "id": "a5fd69b8",
   "metadata": {},
   "outputs": [],
   "source": []
  },
  {
   "cell_type": "code",
   "execution_count": null,
   "id": "f3a8a8cd",
   "metadata": {},
   "outputs": [],
   "source": []
  },
  {
   "cell_type": "code",
   "execution_count": null,
   "id": "78f2d993",
   "metadata": {},
   "outputs": [],
   "source": []
  },
  {
   "cell_type": "code",
   "execution_count": null,
   "id": "e0782212",
   "metadata": {},
   "outputs": [],
   "source": []
  }
 ],
 "metadata": {
  "kernelspec": {
   "display_name": "Python 3 (ipykernel)",
   "language": "python",
   "name": "python3"
  },
  "language_info": {
   "codemirror_mode": {
    "name": "ipython",
    "version": 3
   },
   "file_extension": ".py",
   "mimetype": "text/x-python",
   "name": "python",
   "nbconvert_exporter": "python",
   "pygments_lexer": "ipython3",
   "version": "3.8.10"
  }
 },
 "nbformat": 4,
 "nbformat_minor": 5
}
