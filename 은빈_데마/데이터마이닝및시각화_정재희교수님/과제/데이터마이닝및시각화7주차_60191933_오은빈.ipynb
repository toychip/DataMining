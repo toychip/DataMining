{
 "cells": [
  {
   "cell_type": "code",
   "execution_count": 87,
   "id": "7d72ea1a",
   "metadata": {},
   "outputs": [
    {
     "data": {
      "text/html": [
       "<div>\n",
       "<style scoped>\n",
       "    .dataframe tbody tr th:only-of-type {\n",
       "        vertical-align: middle;\n",
       "    }\n",
       "\n",
       "    .dataframe tbody tr th {\n",
       "        vertical-align: top;\n",
       "    }\n",
       "\n",
       "    .dataframe thead th {\n",
       "        text-align: right;\n",
       "    }\n",
       "</style>\n",
       "<table border=\"1\" class=\"dataframe\">\n",
       "  <thead>\n",
       "    <tr style=\"text-align: right;\">\n",
       "      <th></th>\n",
       "      <th>Name</th>\n",
       "      <th>Team</th>\n",
       "      <th>Number</th>\n",
       "      <th>Position</th>\n",
       "      <th>Age</th>\n",
       "      <th>Height</th>\n",
       "      <th>Weight</th>\n",
       "      <th>College</th>\n",
       "      <th>Salary</th>\n",
       "    </tr>\n",
       "  </thead>\n",
       "  <tbody>\n",
       "    <tr>\n",
       "      <th>0</th>\n",
       "      <td>Avery Bradley</td>\n",
       "      <td>Boston Celtics</td>\n",
       "      <td>0.0</td>\n",
       "      <td>PG</td>\n",
       "      <td>25.0</td>\n",
       "      <td>6-2</td>\n",
       "      <td>180.0</td>\n",
       "      <td>Texas</td>\n",
       "      <td>7730337.0</td>\n",
       "    </tr>\n",
       "    <tr>\n",
       "      <th>1</th>\n",
       "      <td>Jae Crowder</td>\n",
       "      <td>Boston Celtics</td>\n",
       "      <td>99.0</td>\n",
       "      <td>SF</td>\n",
       "      <td>25.0</td>\n",
       "      <td>6-6</td>\n",
       "      <td>235.0</td>\n",
       "      <td>Marquette</td>\n",
       "      <td>6796117.0</td>\n",
       "    </tr>\n",
       "    <tr>\n",
       "      <th>2</th>\n",
       "      <td>John Holland</td>\n",
       "      <td>Boston Celtics</td>\n",
       "      <td>30.0</td>\n",
       "      <td>SG</td>\n",
       "      <td>27.0</td>\n",
       "      <td>6-5</td>\n",
       "      <td>205.0</td>\n",
       "      <td>Boston University</td>\n",
       "      <td>NaN</td>\n",
       "    </tr>\n",
       "    <tr>\n",
       "      <th>3</th>\n",
       "      <td>R.J. Hunter</td>\n",
       "      <td>Boston Celtics</td>\n",
       "      <td>28.0</td>\n",
       "      <td>SG</td>\n",
       "      <td>22.0</td>\n",
       "      <td>6-5</td>\n",
       "      <td>185.0</td>\n",
       "      <td>Georgia State</td>\n",
       "      <td>1148640.0</td>\n",
       "    </tr>\n",
       "    <tr>\n",
       "      <th>4</th>\n",
       "      <td>Jonas Jerebko</td>\n",
       "      <td>Boston Celtics</td>\n",
       "      <td>8.0</td>\n",
       "      <td>PF</td>\n",
       "      <td>29.0</td>\n",
       "      <td>6-10</td>\n",
       "      <td>231.0</td>\n",
       "      <td>NaN</td>\n",
       "      <td>5000000.0</td>\n",
       "    </tr>\n",
       "    <tr>\n",
       "      <th>...</th>\n",
       "      <td>...</td>\n",
       "      <td>...</td>\n",
       "      <td>...</td>\n",
       "      <td>...</td>\n",
       "      <td>...</td>\n",
       "      <td>...</td>\n",
       "      <td>...</td>\n",
       "      <td>...</td>\n",
       "      <td>...</td>\n",
       "    </tr>\n",
       "    <tr>\n",
       "      <th>453</th>\n",
       "      <td>Shelvin Mack</td>\n",
       "      <td>Utah Jazz</td>\n",
       "      <td>8.0</td>\n",
       "      <td>PG</td>\n",
       "      <td>26.0</td>\n",
       "      <td>6-3</td>\n",
       "      <td>203.0</td>\n",
       "      <td>Butler</td>\n",
       "      <td>2433333.0</td>\n",
       "    </tr>\n",
       "    <tr>\n",
       "      <th>454</th>\n",
       "      <td>Raul Neto</td>\n",
       "      <td>Utah Jazz</td>\n",
       "      <td>25.0</td>\n",
       "      <td>PG</td>\n",
       "      <td>24.0</td>\n",
       "      <td>6-1</td>\n",
       "      <td>179.0</td>\n",
       "      <td>NaN</td>\n",
       "      <td>900000.0</td>\n",
       "    </tr>\n",
       "    <tr>\n",
       "      <th>455</th>\n",
       "      <td>Tibor Pleiss</td>\n",
       "      <td>Utah Jazz</td>\n",
       "      <td>21.0</td>\n",
       "      <td>C</td>\n",
       "      <td>26.0</td>\n",
       "      <td>7-3</td>\n",
       "      <td>256.0</td>\n",
       "      <td>NaN</td>\n",
       "      <td>2900000.0</td>\n",
       "    </tr>\n",
       "    <tr>\n",
       "      <th>456</th>\n",
       "      <td>Jeff Withey</td>\n",
       "      <td>Utah Jazz</td>\n",
       "      <td>24.0</td>\n",
       "      <td>C</td>\n",
       "      <td>26.0</td>\n",
       "      <td>7-0</td>\n",
       "      <td>231.0</td>\n",
       "      <td>Kansas</td>\n",
       "      <td>947276.0</td>\n",
       "    </tr>\n",
       "    <tr>\n",
       "      <th>457</th>\n",
       "      <td>NaN</td>\n",
       "      <td>NaN</td>\n",
       "      <td>NaN</td>\n",
       "      <td>NaN</td>\n",
       "      <td>NaN</td>\n",
       "      <td>NaN</td>\n",
       "      <td>NaN</td>\n",
       "      <td>NaN</td>\n",
       "      <td>NaN</td>\n",
       "    </tr>\n",
       "  </tbody>\n",
       "</table>\n",
       "<p>458 rows × 9 columns</p>\n",
       "</div>"
      ],
      "text/plain": [
       "              Name            Team  Number Position   Age Height  Weight  \\\n",
       "0    Avery Bradley  Boston Celtics     0.0       PG  25.0    6-2   180.0   \n",
       "1      Jae Crowder  Boston Celtics    99.0       SF  25.0    6-6   235.0   \n",
       "2     John Holland  Boston Celtics    30.0       SG  27.0    6-5   205.0   \n",
       "3      R.J. Hunter  Boston Celtics    28.0       SG  22.0    6-5   185.0   \n",
       "4    Jonas Jerebko  Boston Celtics     8.0       PF  29.0   6-10   231.0   \n",
       "..             ...             ...     ...      ...   ...    ...     ...   \n",
       "453   Shelvin Mack       Utah Jazz     8.0       PG  26.0    6-3   203.0   \n",
       "454      Raul Neto       Utah Jazz    25.0       PG  24.0    6-1   179.0   \n",
       "455   Tibor Pleiss       Utah Jazz    21.0        C  26.0    7-3   256.0   \n",
       "456    Jeff Withey       Utah Jazz    24.0        C  26.0    7-0   231.0   \n",
       "457            NaN             NaN     NaN      NaN   NaN    NaN     NaN   \n",
       "\n",
       "               College     Salary  \n",
       "0                Texas  7730337.0  \n",
       "1            Marquette  6796117.0  \n",
       "2    Boston University        NaN  \n",
       "3        Georgia State  1148640.0  \n",
       "4                  NaN  5000000.0  \n",
       "..                 ...        ...  \n",
       "453             Butler  2433333.0  \n",
       "454                NaN   900000.0  \n",
       "455                NaN  2900000.0  \n",
       "456             Kansas   947276.0  \n",
       "457                NaN        NaN  \n",
       "\n",
       "[458 rows x 9 columns]"
      ]
     },
     "execution_count": 87,
     "metadata": {},
     "output_type": "execute_result"
    }
   ],
   "source": [
    "#데이터마이닝및시각화 7주차 과제\n",
    "#정보통신공학과 60191933 오은빈\n",
    "import numpy as np\n",
    "import pandas as pd\n",
    "import matplotlib.pyplot as plt\n",
    "\n",
    "data = pd.read_csv('nba.csv')  #파일을 읽음\n",
    "data"
   ]
  },
  {
   "cell_type": "code",
   "execution_count": 88,
   "id": "030abb59",
   "metadata": {},
   "outputs": [
    {
     "data": {
      "image/png": "[encoded data removed]",
      "text/plain": [
       "<Figure size 432x288 with 1 Axes>"
      ]
     },
     "metadata": {
      "needs_background": "light"
     },
     "output_type": "display_data"
    }
   ],
   "source": [
    "#1번 - 나이를 시리즈로 히스토그램 그리기\n",
    "age = pd.Series(data['Age'])  #나이 항목을 가져와 시리즈로 만듦\n",
    "plt.hist(age)  #나이로 히스토그램 만듦\n",
    "plt.xlabel(\"age\")  #x축 이름 설정\n",
    "plt.ylabel(\"count\")  #y축 이름 설정\n",
    "plt.show() "
   ]
  },
  {
   "cell_type": "code",
   "execution_count": 89,
   "id": "29a9bb1f",
   "metadata": {},
   "outputs": [
    {
     "name": "stdout",
     "output_type": "stream",
     "text": [
      "Name:Kobe Bryant \n",
      "Team:Los Angeles Lakers \n",
      "Position:SF \n",
      "Age:37.0 \n",
      "Salary:25000000.0\n"
     ]
    }
   ],
   "source": [
    "#2번 - 연봉이 가장 높은 사람의 정보를 출력\n",
    "rich = data['Salary'].idxmax()  #연봉이 가장 높은 사람의 인덱스를 저장\n",
    "print(\"Name:{}\".format(data.iloc[rich][\"Name\"]),  #연봉이 가장 높은 사람의 이름 출력\n",
    "     \"\\nTeam:{}\".format(data.iloc[rich][\"Team\"]),  #연봉이 가장 높은 사람의 팀 출력\n",
    "     \"\\nPosition:{}\".format(data.iloc[rich][\"Position\"]),  #연봉이 가장 높은 사람의 포지션 출력\n",
    "     \"\\nAge:{}\".format(data.iloc[rich][\"Age\"]),  #연봉이 가장 높은 사람의 나이 출력\n",
    "     \"\\nSalary:{}\".format(data.iloc[rich][\"Salary\"]))  #연봉이 가장 높은 사람의 연봉 출력"
   ]
  },
  {
   "cell_type": "code",
   "execution_count": 90,
   "id": "871ab45d",
   "metadata": {},
   "outputs": [
    {
     "data": {
      "image/png": "[encoded data removed]",
      "text/plain": [
       "<Figure size 432x288 with 1 Axes>"
      ]
     },
     "metadata": {
      "needs_background": "light"
     },
     "output_type": "display_data"
    }
   ],
   "source": [
    "#3번 - 팀별로 연봉 평균을 바 형태로 출력\n",
    "avg_salary = data['Salary'].groupby(data['Team']).mean()  #연봉을 팀으로 그룹화하여 평균값을 구함\n",
    "plt.bar(np.arange(len(avg_salary)), avg_salary)  #팀 수만큼 평균 연봉으로 바 그래프 그리기\n",
    "plt.xlabel(\"Team\")  #x축 이름 설정\n",
    "plt.ylabel(\"Salary\")  #y축 이름 설정\n",
    "plt.show()"
   ]
  },
  {
   "cell_type": "code",
   "execution_count": 91,
   "id": "de7a340d",
   "metadata": {},
   "outputs": [
    {
     "name": "stdout",
     "output_type": "stream",
     "text": [
      "Kentucky           22\n",
      "Duke               20\n",
      "Kansas             18\n",
      "North Carolina     16\n",
      "UCLA               15\n",
      "                   ..\n",
      "Utah Valley         1\n",
      "Cleveland State     1\n",
      "Iowa State          1\n",
      "Florida State       1\n",
      "Baylor              1\n",
      "Name: College, Length: 118, dtype: int64\n"
     ]
    }
   ],
   "source": [
    "#4번 - 선수들 출신 학교별 인원 출력\n",
    "print(data['College'].value_counts())  #학교의 값(수)을 카운트함(=인원을 카운트)"
   ]
  },
  {
   "cell_type": "code",
   "execution_count": 92,
   "id": "24f15b0b",
   "metadata": {},
   "outputs": [
    {
     "name": "stdout",
     "output_type": "stream",
     "text": [
      "Avg Age: 26.938730853391686\n",
      "Avg Salary: 4842684.105381166\n"
     ]
    }
   ],
   "source": [
    "#5번 - 선수들 평균 나이와 연봉 출력\n",
    "avg_age = data['Age'].mean()  #전체 선수의 나이의 평균을 구함\n",
    "avg_salary = data['Salary'].mean()  #전체 선수의 연봉의 평균을 구함\n",
    "print(\"Avg Age:\", avg_age)\n",
    "print(\"Avg Salary:\", avg_salary)"
   ]
  },
  {
   "cell_type": "code",
   "execution_count": 98,
   "id": "e80e15fd",
   "metadata": {},
   "outputs": [
    {
     "name": "stdout",
     "output_type": "stream",
     "text": [
      "\u001b[31mC\u001b[30m\n",
      "7         Kelly Olynyk\n",
      "10     Jared Sullinger\n",
      "14        Tyler Zeller\n",
      "23         Brook Lopez\n",
      "27          Henry Sims\n",
      "            ...       \n",
      "434        Chris Kaman\n",
      "439      Mason Plumlee\n",
      "447        Rudy Gobert\n",
      "455       Tibor Pleiss\n",
      "456        Jeff Withey\n",
      "Name: Name, Length: 78, dtype: object\n",
      "\n",
      "\u001b[31mPF\u001b[30m\n",
      "4         Jonas Jerebko\n",
      "5          Amir Johnson\n",
      "6         Jordan Mickey\n",
      "24     Chris McCullough\n",
      "25          Willie Reed\n",
      "             ...       \n",
      "435      Meyers Leonard\n",
      "441         Noah Vonleh\n",
      "442       Trevor Booker\n",
      "446      Derrick Favors\n",
      "452          Trey Lyles\n",
      "Name: Name, Length: 100, dtype: object\n",
      "\n",
      "\u001b[31mPG\u001b[30m\n",
      "0      Avery Bradley\n",
      "8       Terry Rozier\n",
      "9       Marcus Smart\n",
      "11     Isaiah Thomas\n",
      "19      Jarrett Jack\n",
      "           ...      \n",
      "440    Brian Roberts\n",
      "443       Trey Burke\n",
      "445       Dante Exum\n",
      "453     Shelvin Mack\n",
      "454        Raul Neto\n",
      "Name: Name, Length: 92, dtype: object\n",
      "\n",
      "\u001b[31mSF\u001b[30m\n",
      "1                 Jae Crowder\n",
      "32     Thanasis Antetokounmpo\n",
      "33            Carmelo Anthony\n",
      "35           Cleanthony Early\n",
      "42               Lance Thomas\n",
      "                ...          \n",
      "428           Al-Farouq Aminu\n",
      "432          Maurice Harkless\n",
      "448            Gordon Hayward\n",
      "450                Joe Ingles\n",
      "451             Chris Johnson\n",
      "Name: Name, Length: 85, dtype: object\n",
      "\n",
      "\u001b[31mSG\u001b[30m\n",
      "2          John Holland\n",
      "3           R.J. Hunter\n",
      "12          Evan Turner\n",
      "13          James Young\n",
      "15     Bojan Bogdanovic\n",
      "             ...       \n",
      "433    Gerald Henderson\n",
      "437       C.J. McCollum\n",
      "438        Luis Montero\n",
      "444          Alec Burks\n",
      "449         Rodney Hood\n",
      "Name: Name, Length: 102, dtype: object\n",
      "\n"
     ]
    }
   ],
   "source": [
    "#6번 - 포지션 별로 이름을 출력\n",
    "for key, group in data.groupby('Position'):  #포지션으로 그룹화함\n",
    "    print('\\033[31m'+key+'\\033[30m')  #그룹화 조건(포지션) 출력\n",
    "    print(group[\"Name\"])  #해당 그룹의 선수 이름 출력\n",
    "    print()"
   ]
  }
 ],
 "metadata": {
  "kernelspec": {
   "display_name": "Python 3 (ipykernel)",
   "language": "python",
   "name": "python3"
  },
  "language_info": {
   "codemirror_mode": {
    "name": "ipython",
    "version": 3
   },
   "file_extension": ".py",
   "mimetype": "text/x-python",
   "name": "python",
   "nbconvert_exporter": "python",
   "pygments_lexer": "ipython3",
   "version": "3.9.5"
  }
 },
 "nbformat": 4,
 "nbformat_minor": 5
}
