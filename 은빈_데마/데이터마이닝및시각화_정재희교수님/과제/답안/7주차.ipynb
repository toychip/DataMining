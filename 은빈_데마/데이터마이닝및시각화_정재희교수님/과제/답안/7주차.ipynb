{
 "cells": [
  {
   "cell_type": "code",
   "execution_count": 2,
   "id": "11de2a68",
   "metadata": {},
   "outputs": [],
   "source": [
    "import numpy as np\n",
    "import pandas as pd\n",
    "import matplotlib.pyplot as plt\n",
    "\n",
    "sheet = pd.read_csv('nba.csv', sep = \",\")"
   ]
  },
  {
   "cell_type": "code",
   "execution_count": 3,
   "id": "740c111f",
   "metadata": {},
   "outputs": [
    {
     "data": {
      "image/png": "[encoded data removed]",
      "text/plain": [
       "<Figure size 432x288 with 1 Axes>"
      ]
     },
     "metadata": {
      "needs_background": "light"
     },
     "output_type": "display_data"
    }
   ],
   "source": [
    "plt.xlabel('age')\n",
    "plt.ylabel('count')\n",
    "plt.hist(sheet['Age'])\n",
    "plt.show()"
   ]
  },
  {
   "cell_type": "code",
   "execution_count": 4,
   "id": "0914aa06",
   "metadata": {},
   "outputs": [
    {
     "name": "stdout",
     "output_type": "stream",
     "text": [
      "Name:Kobe Bryant\n",
      "Team:Los Angeles Lakers\n",
      "Position:SF\n",
      "Age:37.0\n",
      "Salary:25000000.0\n"
     ]
    }
   ],
   "source": [
    "Title = ['Name', 'Team', 'Position', 'Age', 'Salary']\n",
    "for i in Title:\n",
    "    print('{0}:{1}'.format(i, sheet.loc[sheet['Salary'].idxmax(), i]))"
   ]
  },
  {
   "cell_type": "code",
   "execution_count": 7,
   "id": "86af65b6",
   "metadata": {},
   "outputs": [
    {
     "data": {
      "image/png": "[encoded data removed]",
      "text/plain": [
       "<Figure size 432x288 with 1 Axes>"
      ]
     },
     "metadata": {
      "needs_background": "light"
     },
     "output_type": "display_data"
    }
   ],
   "source": [
    "Salary_GTeam = sheet['Salary'].groupby(sheet['Team'])\n",
    "SGT_Mean = Salary_GTeam.mean()\n",
    "\n",
    "plt.xlabel('Team')\n",
    "plt.ylabel('Salary')\n",
    "xLabel_Itv = range(0, 31, 5)\n",
    "plt.xticks(xLabel_Itv, xLabel_Itv)\n",
    "plt.bar(SGT_Mean.index, SGT_Mean)\n",
    "plt.show()"
   ]
  },
  {
   "cell_type": "code",
   "execution_count": 8,
   "id": "fe702181",
   "metadata": {},
   "outputs": [
    {
     "name": "stdout",
     "output_type": "stream",
     "text": [
      "College\n",
      "Kentucky          22\n",
      "Duke              20\n",
      "Kansas            18\n",
      "North Carolina    16\n",
      "UCLA              15\n",
      "                  ..\n",
      "Kansas State       1\n",
      "Iowa State         1\n",
      "Iowa               1\n",
      "IUPUI              1\n",
      "Xavier             1\n",
      "Name: College, Length: 118, dtype: int64\n"
     ]
    }
   ],
   "source": [
    "G_College = sheet['College'].groupby(sheet['College'])\n",
    "GC_Count = G_College.count().sort_values(ascending = False)\n",
    "print(GC_Count)"
   ]
  },
  {
   "cell_type": "code",
   "execution_count": 9,
   "id": "c1caef60",
   "metadata": {},
   "outputs": [
    {
     "name": "stdout",
     "output_type": "stream",
     "text": [
      "Avg Age: 26.938730853391686\n",
      "Avg Salary: 4842684.105381166\n"
     ]
    }
   ],
   "source": [
    "Avg_Age = sheet['Age'].mean()\n",
    "Avg_Salary = sheet['Salary'].mean()\n",
    "\n",
    "print(\"Avg Age:\", Avg_Age)\n",
    "print(\"Avg Salary:\", Avg_Salary)"
   ]
  },
  {
   "cell_type": "code",
   "execution_count": 10,
   "id": "5753ea96",
   "metadata": {},
   "outputs": [
    {
     "name": "stdout",
     "output_type": "stream",
     "text": [
      "\u001b[31mC\u001b[0m\n",
      "7         Kelly Olynyk\n",
      "10     Jared Sullinger\n",
      "14        Tyler Zeller\n",
      "23         Brook Lopez\n",
      "27          Henry Sims\n",
      "            ...       \n",
      "434        Chris Kaman\n",
      "439      Mason Plumlee\n",
      "447        Rudy Gobert\n",
      "455       Tibor Pleiss\n",
      "456        Jeff Withey\n",
      "Name: Name, Length: 78, dtype: object\n",
      "\u001b[31mPF\u001b[0m\n",
      "4         Jonas Jerebko\n",
      "5          Amir Johnson\n",
      "6         Jordan Mickey\n",
      "24     Chris McCullough\n",
      "25          Willie Reed\n",
      "             ...       \n",
      "435      Meyers Leonard\n",
      "441         Noah Vonleh\n",
      "442       Trevor Booker\n",
      "446      Derrick Favors\n",
      "452          Trey Lyles\n",
      "Name: Name, Length: 100, dtype: object\n",
      "\u001b[31mPG\u001b[0m\n",
      "0      Avery Bradley\n",
      "8       Terry Rozier\n",
      "9       Marcus Smart\n",
      "11     Isaiah Thomas\n",
      "19      Jarrett Jack\n",
      "           ...      \n",
      "440    Brian Roberts\n",
      "443       Trey Burke\n",
      "445       Dante Exum\n",
      "453     Shelvin Mack\n",
      "454        Raul Neto\n",
      "Name: Name, Length: 92, dtype: object\n",
      "\u001b[31mSF\u001b[0m\n",
      "1                 Jae Crowder\n",
      "32     Thanasis Antetokounmpo\n",
      "33            Carmelo Anthony\n",
      "35           Cleanthony Early\n",
      "42               Lance Thomas\n",
      "                ...          \n",
      "428           Al-Farouq Aminu\n",
      "432          Maurice Harkless\n",
      "448            Gordon Hayward\n",
      "450                Joe Ingles\n",
      "451             Chris Johnson\n",
      "Name: Name, Length: 85, dtype: object\n",
      "\u001b[31mSG\u001b[0m\n",
      "2          John Holland\n",
      "3           R.J. Hunter\n",
      "12          Evan Turner\n",
      "13          James Young\n",
      "15     Bojan Bogdanovic\n",
      "             ...       \n",
      "433    Gerald Henderson\n",
      "437       C.J. McCollum\n",
      "438        Luis Montero\n",
      "444          Alec Burks\n",
      "449         Rodney Hood\n",
      "Name: Name, Length: 102, dtype: object\n"
     ]
    }
   ],
   "source": [
    "G_Position = sheet['Name'].groupby(sheet['Position'])\n",
    "for position, name in G_Position:\n",
    "    print('\\033[31m'+position+'\\033[0m')\n",
    "    print(name)"
   ]
  },
  {
   "cell_type": "code",
   "execution_count": null,
   "id": "fe9224a7",
   "metadata": {},
   "outputs": [],
   "source": []
  }
 ],
 "metadata": {
  "kernelspec": {
   "display_name": "Python 3 (ipykernel)",
   "language": "python",
   "name": "python3"
  },
  "language_info": {
   "codemirror_mode": {
    "name": "ipython",
    "version": 3
   },
   "file_extension": ".py",
   "mimetype": "text/x-python",
   "name": "python",
   "nbconvert_exporter": "python",
   "pygments_lexer": "ipython3",
   "version": "3.9.5"
  }
 },
 "nbformat": 4,
 "nbformat_minor": 5
}
