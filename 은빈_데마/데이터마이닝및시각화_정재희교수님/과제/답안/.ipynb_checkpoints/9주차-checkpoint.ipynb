{
 "cells": [
  {
   "cell_type": "code",
   "execution_count": 2,
   "id": "9b4868c9",
   "metadata": {},
   "outputs": [],
   "source": [
    "import numpy as np\n",
    "import pandas as pd\n",
    "import matplotlib.pyplot as plt\n",
    "import seaborn as sns"
   ]
  },
  {
   "cell_type": "code",
   "execution_count": 3,
   "id": "f7653b37",
   "metadata": {},
   "outputs": [
    {
     "name": "stdout",
     "output_type": "stream",
     "text": [
      "{nan, 'Miami Heat', 'Memphis Grizzlies', 'Washington Wizards', 'San Antonio Spurs', 'Minnesota Timberwolves', 'Boston Celtics', 'Cleveland Cavaliers', 'Los Angeles Lakers', 'Atlanta Hawks', 'Chicago Bulls', 'Golden State Warriors', 'Detroit Pistons', 'Phoenix Suns', 'Orlando Magic', 'Brooklyn Nets', 'Philadelphia 76ers', 'Sacramento Kings', 'New Orleans Pelicans', 'Charlotte Hornets', 'Los Angeles Clippers', 'Dallas Mavericks', 'Milwaukee Bucks', 'Indiana Pacers', 'Oklahoma City Thunder', 'Houston Rockets', 'Toronto Raptors', 'Utah Jazz', 'New York Knicks', 'Denver Nuggets', 'Portland Trail Blazers'}\n"
     ]
    }
   ],
   "source": [
    "nba = pd.read_csv('nba.csv')\n",
    "print(set(nba['Team']))"
   ]
  },
  {
   "cell_type": "code",
   "execution_count": 6,
   "id": "d84bd1de",
   "metadata": {},
   "outputs": [
    {
     "data": {
      "text/html": [
       "<div>\n",
       "<style scoped>\n",
       "    .dataframe tbody tr th:only-of-type {\n",
       "        vertical-align: middle;\n",
       "    }\n",
       "\n",
       "    .dataframe tbody tr th {\n",
       "        vertical-align: top;\n",
       "    }\n",
       "\n",
       "    .dataframe thead th {\n",
       "        text-align: right;\n",
       "    }\n",
       "</style>\n",
       "<table border=\"1\" class=\"dataframe\">\n",
       "  <thead>\n",
       "    <tr style=\"text-align: right;\">\n",
       "      <th></th>\n",
       "      <th>Age</th>\n",
       "      <th>Salary</th>\n",
       "      <th>Team</th>\n",
       "      <th>Position</th>\n",
       "    </tr>\n",
       "  </thead>\n",
       "  <tbody>\n",
       "    <tr>\n",
       "      <th>151</th>\n",
       "      <td>25.0</td>\n",
       "      <td>845059.0</td>\n",
       "      <td>Chicago Bulls</td>\n",
       "      <td>PF</td>\n",
       "    </tr>\n",
       "    <tr>\n",
       "      <th>152</th>\n",
       "      <td>31.0</td>\n",
       "      <td>2250000.0</td>\n",
       "      <td>Chicago Bulls</td>\n",
       "      <td>PG</td>\n",
       "    </tr>\n",
       "    <tr>\n",
       "      <th>153</th>\n",
       "      <td>26.0</td>\n",
       "      <td>16407500.0</td>\n",
       "      <td>Chicago Bulls</td>\n",
       "      <td>SG</td>\n",
       "    </tr>\n",
       "    <tr>\n",
       "      <th>154</th>\n",
       "      <td>35.0</td>\n",
       "      <td>4500000.0</td>\n",
       "      <td>Chicago Bulls</td>\n",
       "      <td>SG</td>\n",
       "    </tr>\n",
       "    <tr>\n",
       "      <th>155</th>\n",
       "      <td>23.0</td>\n",
       "      <td>525093.0</td>\n",
       "      <td>Chicago Bulls</td>\n",
       "      <td>PF</td>\n",
       "    </tr>\n",
       "    <tr>\n",
       "      <th>156</th>\n",
       "      <td>35.0</td>\n",
       "      <td>7448760.0</td>\n",
       "      <td>Chicago Bulls</td>\n",
       "      <td>C</td>\n",
       "    </tr>\n",
       "    <tr>\n",
       "      <th>157</th>\n",
       "      <td>30.0</td>\n",
       "      <td>8500000.0</td>\n",
       "      <td>Chicago Bulls</td>\n",
       "      <td>PF</td>\n",
       "    </tr>\n",
       "    <tr>\n",
       "      <th>158</th>\n",
       "      <td>27.0</td>\n",
       "      <td>947276.0</td>\n",
       "      <td>Chicago Bulls</td>\n",
       "      <td>SG</td>\n",
       "    </tr>\n",
       "    <tr>\n",
       "      <th>159</th>\n",
       "      <td>24.0</td>\n",
       "      <td>2380440.0</td>\n",
       "      <td>Chicago Bulls</td>\n",
       "      <td>SF</td>\n",
       "    </tr>\n",
       "    <tr>\n",
       "      <th>160</th>\n",
       "      <td>25.0</td>\n",
       "      <td>5543725.0</td>\n",
       "      <td>Chicago Bulls</td>\n",
       "      <td>PF</td>\n",
       "    </tr>\n",
       "    <tr>\n",
       "      <th>161</th>\n",
       "      <td>27.0</td>\n",
       "      <td>1015421.0</td>\n",
       "      <td>Chicago Bulls</td>\n",
       "      <td>SG</td>\n",
       "    </tr>\n",
       "    <tr>\n",
       "      <th>162</th>\n",
       "      <td>31.0</td>\n",
       "      <td>13400000.0</td>\n",
       "      <td>Chicago Bulls</td>\n",
       "      <td>C</td>\n",
       "    </tr>\n",
       "    <tr>\n",
       "      <th>163</th>\n",
       "      <td>21.0</td>\n",
       "      <td>1391160.0</td>\n",
       "      <td>Chicago Bulls</td>\n",
       "      <td>PF</td>\n",
       "    </tr>\n",
       "    <tr>\n",
       "      <th>164</th>\n",
       "      <td>27.0</td>\n",
       "      <td>20093064.0</td>\n",
       "      <td>Chicago Bulls</td>\n",
       "      <td>PG</td>\n",
       "    </tr>\n",
       "    <tr>\n",
       "      <th>165</th>\n",
       "      <td>24.0</td>\n",
       "      <td>1535880.0</td>\n",
       "      <td>Chicago Bulls</td>\n",
       "      <td>SF</td>\n",
       "    </tr>\n",
       "    <tr>\n",
       "      <th>242</th>\n",
       "      <td>30.0</td>\n",
       "      <td>8193030.0</td>\n",
       "      <td>Houston Rockets</td>\n",
       "      <td>SF</td>\n",
       "    </tr>\n",
       "    <tr>\n",
       "      <th>243</th>\n",
       "      <td>27.0</td>\n",
       "      <td>306527.0</td>\n",
       "      <td>Houston Rockets</td>\n",
       "      <td>SF</td>\n",
       "    </tr>\n",
       "    <tr>\n",
       "      <th>244</th>\n",
       "      <td>27.0</td>\n",
       "      <td>6486486.0</td>\n",
       "      <td>Houston Rockets</td>\n",
       "      <td>PG</td>\n",
       "    </tr>\n",
       "    <tr>\n",
       "      <th>245</th>\n",
       "      <td>30.0</td>\n",
       "      <td>8229375.0</td>\n",
       "      <td>Houston Rockets</td>\n",
       "      <td>SG</td>\n",
       "    </tr>\n",
       "    <tr>\n",
       "      <th>246</th>\n",
       "      <td>22.0</td>\n",
       "      <td>1242720.0</td>\n",
       "      <td>Houston Rockets</td>\n",
       "      <td>PF</td>\n",
       "    </tr>\n",
       "    <tr>\n",
       "      <th>247</th>\n",
       "      <td>22.0</td>\n",
       "      <td>1646400.0</td>\n",
       "      <td>Houston Rockets</td>\n",
       "      <td>SF</td>\n",
       "    </tr>\n",
       "    <tr>\n",
       "      <th>248</th>\n",
       "      <td>27.0</td>\n",
       "      <td>200600.0</td>\n",
       "      <td>Houston Rockets</td>\n",
       "      <td>PG</td>\n",
       "    </tr>\n",
       "    <tr>\n",
       "      <th>249</th>\n",
       "      <td>26.0</td>\n",
       "      <td>15756438.0</td>\n",
       "      <td>Houston Rockets</td>\n",
       "      <td>SG</td>\n",
       "    </tr>\n",
       "    <tr>\n",
       "      <th>250</th>\n",
       "      <td>22.0</td>\n",
       "      <td>1000000.0</td>\n",
       "      <td>Houston Rockets</td>\n",
       "      <td>PF</td>\n",
       "    </tr>\n",
       "    <tr>\n",
       "      <th>251</th>\n",
       "      <td>30.0</td>\n",
       "      <td>22359364.0</td>\n",
       "      <td>Houston Rockets</td>\n",
       "      <td>C</td>\n",
       "    </tr>\n",
       "    <tr>\n",
       "      <th>252</th>\n",
       "      <td>24.0</td>\n",
       "      <td>2489530.0</td>\n",
       "      <td>Houston Rockets</td>\n",
       "      <td>PF</td>\n",
       "    </tr>\n",
       "    <tr>\n",
       "      <th>253</th>\n",
       "      <td>23.0</td>\n",
       "      <td>3189794.0</td>\n",
       "      <td>Houston Rockets</td>\n",
       "      <td>SG</td>\n",
       "    </tr>\n",
       "    <tr>\n",
       "      <th>254</th>\n",
       "      <td>25.0</td>\n",
       "      <td>2288205.0</td>\n",
       "      <td>Houston Rockets</td>\n",
       "      <td>PF</td>\n",
       "    </tr>\n",
       "    <tr>\n",
       "      <th>255</th>\n",
       "      <td>30.0</td>\n",
       "      <td>947276.0</td>\n",
       "      <td>Houston Rockets</td>\n",
       "      <td>C</td>\n",
       "    </tr>\n",
       "    <tr>\n",
       "      <th>256</th>\n",
       "      <td>38.0</td>\n",
       "      <td>947276.0</td>\n",
       "      <td>Houston Rockets</td>\n",
       "      <td>SG</td>\n",
       "    </tr>\n",
       "  </tbody>\n",
       "</table>\n",
       "</div>"
      ],
      "text/plain": [
       "      Age      Salary             Team Position\n",
       "151  25.0    845059.0    Chicago Bulls       PF\n",
       "152  31.0   2250000.0    Chicago Bulls       PG\n",
       "153  26.0  16407500.0    Chicago Bulls       SG\n",
       "154  35.0   4500000.0    Chicago Bulls       SG\n",
       "155  23.0    525093.0    Chicago Bulls       PF\n",
       "156  35.0   7448760.0    Chicago Bulls        C\n",
       "157  30.0   8500000.0    Chicago Bulls       PF\n",
       "158  27.0    947276.0    Chicago Bulls       SG\n",
       "159  24.0   2380440.0    Chicago Bulls       SF\n",
       "160  25.0   5543725.0    Chicago Bulls       PF\n",
       "161  27.0   1015421.0    Chicago Bulls       SG\n",
       "162  31.0  13400000.0    Chicago Bulls        C\n",
       "163  21.0   1391160.0    Chicago Bulls       PF\n",
       "164  27.0  20093064.0    Chicago Bulls       PG\n",
       "165  24.0   1535880.0    Chicago Bulls       SF\n",
       "242  30.0   8193030.0  Houston Rockets       SF\n",
       "243  27.0    306527.0  Houston Rockets       SF\n",
       "244  27.0   6486486.0  Houston Rockets       PG\n",
       "245  30.0   8229375.0  Houston Rockets       SG\n",
       "246  22.0   1242720.0  Houston Rockets       PF\n",
       "247  22.0   1646400.0  Houston Rockets       SF\n",
       "248  27.0    200600.0  Houston Rockets       PG\n",
       "249  26.0  15756438.0  Houston Rockets       SG\n",
       "250  22.0   1000000.0  Houston Rockets       PF\n",
       "251  30.0  22359364.0  Houston Rockets        C\n",
       "252  24.0   2489530.0  Houston Rockets       PF\n",
       "253  23.0   3189794.0  Houston Rockets       SG\n",
       "254  25.0   2288205.0  Houston Rockets       PF\n",
       "255  30.0    947276.0  Houston Rockets        C\n",
       "256  38.0    947276.0  Houston Rockets       SG"
      ]
     },
     "execution_count": 6,
     "metadata": {},
     "output_type": "execute_result"
    }
   ],
   "source": [
    "nba = nba.filter(['Age', 'Salary', 'Team', 'Position'])\n",
    "select = nba[nba['Team'].isin(['Chicago Bulls', 'Houston Rockets'])]\n",
    "select"
   ]
  },
  {
   "cell_type": "code",
   "execution_count": 8,
   "id": "623bbf2d",
   "metadata": {},
   "outputs": [
    {
     "data": {
      "text/plain": [
       "<AxesSubplot:xlabel='Age', ylabel='Salary'>"
      ]
     },
     "execution_count": 8,
     "metadata": {},
     "output_type": "execute_result"
    },
    {
     "data": {
      "image/png": "[encoded data removed]",
      "text/plain": [
       "<Figure size 432x288 with 1 Axes>"
      ]
     },
     "metadata": {
      "needs_background": "light"
     },
     "output_type": "display_data"
    }
   ],
   "source": [
    "sns.boxplot(x = 'Age', y = 'Salary', hue = 'Position', data = select)"
   ]
  },
  {
   "cell_type": "markdown",
   "id": "d0112913",
   "metadata": {},
   "source": [
    "- 30~31세 사이, 27세, 26세가 순서대로 연봉을 가장 많이 받는다.\n",
    "- C 포지션, PG 포지션, PF 포지션 순서대로 연봉을 많이 받는다.\n",
    "- 가장 낮게 받는 경우에는 27세, 22~23세가 순서대로 위치하고 있다.\n",
    "- 21 to 25세, 38세의 연봉 받는 값이 26 to 35세보다 확연히 적다.\n",
    "- 제일 긴 그래프를 갖는 나이는 30세이며, 포지션은 C이다. 해당 연봉은 0~2.5*1e7 사이이다."
   ]
  },
  {
   "cell_type": "code",
   "execution_count": 9,
   "id": "cdbe6e95",
   "metadata": {},
   "outputs": [
    {
     "data": {
      "text/plain": [
       "<seaborn.axisgrid.JointGrid at 0x1e762046d30>"
      ]
     },
     "execution_count": 9,
     "metadata": {},
     "output_type": "execute_result"
    },
    {
     "data": {
      "image/png": "[encoded data removed]",
      "text/plain": [
       "<Figure size 432x432 with 3 Axes>"
      ]
     },
     "metadata": {
      "needs_background": "light"
     },
     "output_type": "display_data"
    }
   ],
   "source": [
    "sns.jointplot(x = 'Age', y = 'Salary', kind = 'reg', data = select)"
   ]
  },
  {
   "cell_type": "markdown",
   "id": "302a9b60",
   "metadata": {},
   "source": [
    "- 이 팀은 20대 중반의 연봉이 높다.\n",
    "- 나이가 21 to 32세에 위치한 사람이 32 to 38세 위치한 사람보다 확연히 많다.\n",
    "- 0~0.5*1e7 연봉을 받는 사람이 제일 많이 분포되어 있다.\n",
    "- 파란 직선을 통해 나이가 많을수록 연봉이 높아진다는 상관관계를 확인할 수 있다.\n",
    "- 가장 높은 연봉을 받는 나이는 26세~30세에 위치해 있다."
   ]
  },
  {
   "cell_type": "code",
   "execution_count": 10,
   "id": "f0f846c8",
   "metadata": {},
   "outputs": [
    {
     "data": {
      "image/png": "[encoded data removed]",
      "text/plain": [
       "<Figure size 770.375x360 with 1 Axes>"
      ]
     },
     "metadata": {},
     "output_type": "display_data"
    }
   ],
   "source": [
    "with sns.axes_style('white'):\n",
    "    g = sns.catplot(x = 'Age', data = select, aspect = 2, kind = 'count',\n",
    "                   hue = 'Position')"
   ]
  },
  {
   "cell_type": "markdown",
   "id": "f625dd6b",
   "metadata": {},
   "source": [
    "- PG 포지션의 경우 27세, 31세에만 위치해 있으며 27세가 더 많다.\n",
    "- PF 포지션의 경우 21 to 25세, 30세에 위치해 있으며, 25가 가장 많다.\n",
    "- SG 포지션의 경우 23세, 26 to 30세, 35세, 38세에 위치해 있으며, 26 to 27세가 가장 많다.\n",
    "- C 포지션의 경우, 30 to 35세에 위치해 있으며, 30세가 가장 많다.\n",
    "- SF 포지션의 경우, 22세, 24세 ,27세, 30세에 위치해 있으며, 24 to 25세가 가장 많다.\n",
    "- PG 포지션, C 포지션의 경우 27 to 35세 분포에만 집중되어 있다."
   ]
  }
 ],
 "metadata": {
  "kernelspec": {
   "display_name": "Python 3 (ipykernel)",
   "language": "python",
   "name": "python3"
  },
  "language_info": {
   "codemirror_mode": {
    "name": "ipython",
    "version": 3
   },
   "file_extension": ".py",
   "mimetype": "text/x-python",
   "name": "python",
   "nbconvert_exporter": "python",
   "pygments_lexer": "ipython3",
   "version": "3.9.5"
  }
 },
 "nbformat": 4,
 "nbformat_minor": 5
}
