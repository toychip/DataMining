{
 "cells": [
  {
   "cell_type": "code",
   "execution_count": 81,
   "id": "9967035c",
   "metadata": {},
   "outputs": [],
   "source": [
    "#데이터마이닝및시각화 9주차 과제\n",
    "#정보통신공학과 60191933 오은빈\n",
    "import numpy as np\n",
    "import seaborn as sns\n",
    "import matplotlib.pyplot as plt\n",
    "import pandas as pd\n",
    "data = pd.read_csv('nba.csv')"
   ]
  },
  {
   "cell_type": "code",
   "execution_count": 82,
   "id": "1efd5e2a",
   "metadata": {},
   "outputs": [
    {
     "data": {
      "text/html": [
       "<div>\n",
       "<style scoped>\n",
       "    .dataframe tbody tr th:only-of-type {\n",
       "        vertical-align: middle;\n",
       "    }\n",
       "\n",
       "    .dataframe tbody tr th {\n",
       "        vertical-align: top;\n",
       "    }\n",
       "\n",
       "    .dataframe thead th {\n",
       "        text-align: right;\n",
       "    }\n",
       "</style>\n",
       "<table border=\"1\" class=\"dataframe\">\n",
       "  <thead>\n",
       "    <tr style=\"text-align: right;\">\n",
       "      <th></th>\n",
       "      <th>Age</th>\n",
       "      <th>Salary</th>\n",
       "      <th>Team</th>\n",
       "      <th>Position</th>\n",
       "    </tr>\n",
       "  </thead>\n",
       "  <tbody>\n",
       "    <tr>\n",
       "      <th>46</th>\n",
       "      <td>37.0</td>\n",
       "      <td>NaN</td>\n",
       "      <td>Philadelphia 76ers</td>\n",
       "      <td>PF</td>\n",
       "    </tr>\n",
       "    <tr>\n",
       "      <th>47</th>\n",
       "      <td>25.0</td>\n",
       "      <td>947276.0</td>\n",
       "      <td>Philadelphia 76ers</td>\n",
       "      <td>PG</td>\n",
       "    </tr>\n",
       "    <tr>\n",
       "      <th>48</th>\n",
       "      <td>25.0</td>\n",
       "      <td>1000000.0</td>\n",
       "      <td>Philadelphia 76ers</td>\n",
       "      <td>SF</td>\n",
       "    </tr>\n",
       "    <tr>\n",
       "      <th>49</th>\n",
       "      <td>22.0</td>\n",
       "      <td>4626960.0</td>\n",
       "      <td>Philadelphia 76ers</td>\n",
       "      <td>C</td>\n",
       "    </tr>\n",
       "    <tr>\n",
       "      <th>50</th>\n",
       "      <td>22.0</td>\n",
       "      <td>845059.0</td>\n",
       "      <td>Philadelphia 76ers</td>\n",
       "      <td>SF</td>\n",
       "    </tr>\n",
       "    <tr>\n",
       "      <th>51</th>\n",
       "      <td>22.0</td>\n",
       "      <td>1074169.0</td>\n",
       "      <td>Philadelphia 76ers</td>\n",
       "      <td>PF</td>\n",
       "    </tr>\n",
       "    <tr>\n",
       "      <th>52</th>\n",
       "      <td>32.0</td>\n",
       "      <td>6500000.0</td>\n",
       "      <td>Philadelphia 76ers</td>\n",
       "      <td>PF</td>\n",
       "    </tr>\n",
       "    <tr>\n",
       "      <th>53</th>\n",
       "      <td>24.0</td>\n",
       "      <td>2144772.0</td>\n",
       "      <td>Philadelphia 76ers</td>\n",
       "      <td>PG</td>\n",
       "    </tr>\n",
       "    <tr>\n",
       "      <th>54</th>\n",
       "      <td>24.0</td>\n",
       "      <td>525093.0</td>\n",
       "      <td>Philadelphia 76ers</td>\n",
       "      <td>PG</td>\n",
       "    </tr>\n",
       "    <tr>\n",
       "      <th>55</th>\n",
       "      <td>22.0</td>\n",
       "      <td>3457800.0</td>\n",
       "      <td>Philadelphia 76ers</td>\n",
       "      <td>PF</td>\n",
       "    </tr>\n",
       "    <tr>\n",
       "      <th>56</th>\n",
       "      <td>20.0</td>\n",
       "      <td>4582680.0</td>\n",
       "      <td>Philadelphia 76ers</td>\n",
       "      <td>C</td>\n",
       "    </tr>\n",
       "    <tr>\n",
       "      <th>57</th>\n",
       "      <td>27.0</td>\n",
       "      <td>947276.0</td>\n",
       "      <td>Philadelphia 76ers</td>\n",
       "      <td>PG</td>\n",
       "    </tr>\n",
       "    <tr>\n",
       "      <th>58</th>\n",
       "      <td>22.0</td>\n",
       "      <td>2869440.0</td>\n",
       "      <td>Philadelphia 76ers</td>\n",
       "      <td>SG</td>\n",
       "    </tr>\n",
       "    <tr>\n",
       "      <th>59</th>\n",
       "      <td>25.0</td>\n",
       "      <td>947276.0</td>\n",
       "      <td>Philadelphia 76ers</td>\n",
       "      <td>SG</td>\n",
       "    </tr>\n",
       "    <tr>\n",
       "      <th>60</th>\n",
       "      <td>20.0</td>\n",
       "      <td>525093.0</td>\n",
       "      <td>Philadelphia 76ers</td>\n",
       "      <td>PF</td>\n",
       "    </tr>\n",
       "    <tr>\n",
       "      <th>339</th>\n",
       "      <td>32.0</td>\n",
       "      <td>22192730.0</td>\n",
       "      <td>Miami Heat</td>\n",
       "      <td>PF</td>\n",
       "    </tr>\n",
       "    <tr>\n",
       "      <th>340</th>\n",
       "      <td>31.0</td>\n",
       "      <td>10151612.0</td>\n",
       "      <td>Miami Heat</td>\n",
       "      <td>SF</td>\n",
       "    </tr>\n",
       "    <tr>\n",
       "      <th>341</th>\n",
       "      <td>30.0</td>\n",
       "      <td>14783000.0</td>\n",
       "      <td>Miami Heat</td>\n",
       "      <td>PG</td>\n",
       "    </tr>\n",
       "    <tr>\n",
       "      <th>342</th>\n",
       "      <td>30.0</td>\n",
       "      <td>947276.0</td>\n",
       "      <td>Miami Heat</td>\n",
       "      <td>SF</td>\n",
       "    </tr>\n",
       "    <tr>\n",
       "      <th>343</th>\n",
       "      <td>36.0</td>\n",
       "      <td>2854940.0</td>\n",
       "      <td>Miami Heat</td>\n",
       "      <td>PF</td>\n",
       "    </tr>\n",
       "    <tr>\n",
       "      <th>344</th>\n",
       "      <td>34.0</td>\n",
       "      <td>261894.0</td>\n",
       "      <td>Miami Heat</td>\n",
       "      <td>SF</td>\n",
       "    </tr>\n",
       "    <tr>\n",
       "      <th>345</th>\n",
       "      <td>24.0</td>\n",
       "      <td>845059.0</td>\n",
       "      <td>Miami Heat</td>\n",
       "      <td>SG</td>\n",
       "    </tr>\n",
       "    <tr>\n",
       "      <th>346</th>\n",
       "      <td>29.0</td>\n",
       "      <td>5543725.0</td>\n",
       "      <td>Miami Heat</td>\n",
       "      <td>PF</td>\n",
       "    </tr>\n",
       "    <tr>\n",
       "      <th>347</th>\n",
       "      <td>22.0</td>\n",
       "      <td>525093.0</td>\n",
       "      <td>Miami Heat</td>\n",
       "      <td>SG</td>\n",
       "    </tr>\n",
       "    <tr>\n",
       "      <th>348</th>\n",
       "      <td>33.0</td>\n",
       "      <td>947276.0</td>\n",
       "      <td>Miami Heat</td>\n",
       "      <td>PF</td>\n",
       "    </tr>\n",
       "    <tr>\n",
       "      <th>349</th>\n",
       "      <td>34.0</td>\n",
       "      <td>20000000.0</td>\n",
       "      <td>Miami Heat</td>\n",
       "      <td>SG</td>\n",
       "    </tr>\n",
       "    <tr>\n",
       "      <th>350</th>\n",
       "      <td>23.0</td>\n",
       "      <td>NaN</td>\n",
       "      <td>Miami Heat</td>\n",
       "      <td>PG</td>\n",
       "    </tr>\n",
       "    <tr>\n",
       "      <th>351</th>\n",
       "      <td>26.0</td>\n",
       "      <td>981348.0</td>\n",
       "      <td>Miami Heat</td>\n",
       "      <td>C</td>\n",
       "    </tr>\n",
       "    <tr>\n",
       "      <th>352</th>\n",
       "      <td>20.0</td>\n",
       "      <td>2481720.0</td>\n",
       "      <td>Miami Heat</td>\n",
       "      <td>SF</td>\n",
       "    </tr>\n",
       "    <tr>\n",
       "      <th>353</th>\n",
       "      <td>30.0</td>\n",
       "      <td>NaN</td>\n",
       "      <td>Miami Heat</td>\n",
       "      <td>SF</td>\n",
       "    </tr>\n",
       "  </tbody>\n",
       "</table>\n",
       "</div>"
      ],
      "text/plain": [
       "      Age      Salary                Team Position\n",
       "46   37.0         NaN  Philadelphia 76ers       PF\n",
       "47   25.0    947276.0  Philadelphia 76ers       PG\n",
       "48   25.0   1000000.0  Philadelphia 76ers       SF\n",
       "49   22.0   4626960.0  Philadelphia 76ers        C\n",
       "50   22.0    845059.0  Philadelphia 76ers       SF\n",
       "51   22.0   1074169.0  Philadelphia 76ers       PF\n",
       "52   32.0   6500000.0  Philadelphia 76ers       PF\n",
       "53   24.0   2144772.0  Philadelphia 76ers       PG\n",
       "54   24.0    525093.0  Philadelphia 76ers       PG\n",
       "55   22.0   3457800.0  Philadelphia 76ers       PF\n",
       "56   20.0   4582680.0  Philadelphia 76ers        C\n",
       "57   27.0    947276.0  Philadelphia 76ers       PG\n",
       "58   22.0   2869440.0  Philadelphia 76ers       SG\n",
       "59   25.0    947276.0  Philadelphia 76ers       SG\n",
       "60   20.0    525093.0  Philadelphia 76ers       PF\n",
       "339  32.0  22192730.0          Miami Heat       PF\n",
       "340  31.0  10151612.0          Miami Heat       SF\n",
       "341  30.0  14783000.0          Miami Heat       PG\n",
       "342  30.0    947276.0          Miami Heat       SF\n",
       "343  36.0   2854940.0          Miami Heat       PF\n",
       "344  34.0    261894.0          Miami Heat       SF\n",
       "345  24.0    845059.0          Miami Heat       SG\n",
       "346  29.0   5543725.0          Miami Heat       PF\n",
       "347  22.0    525093.0          Miami Heat       SG\n",
       "348  33.0    947276.0          Miami Heat       PF\n",
       "349  34.0  20000000.0          Miami Heat       SG\n",
       "350  23.0         NaN          Miami Heat       PG\n",
       "351  26.0    981348.0          Miami Heat        C\n",
       "352  20.0   2481720.0          Miami Heat       SF\n",
       "353  30.0         NaN          Miami Heat       SF"
      ]
     },
     "execution_count": 82,
     "metadata": {},
     "output_type": "execute_result"
    }
   ],
   "source": [
    "cond = (data['Team'] == 'Philadelphia 76ers') | (data['Team'] == 'Miami Heat')\n",
    "select = data.loc[cond, ['Age', 'Salary', 'Team', 'Position']]\n",
    "select"
   ]
  },
  {
   "cell_type": "markdown",
   "id": "22e145c4",
   "metadata": {},
   "source": [
    "### 1. 팀을 선택하여 데이터 추출\n",
    "Philadelphia 76ers, Miami Heat 두 팀을 선택하여 데이터 분석을 진행"
   ]
  },
  {
   "cell_type": "code",
   "execution_count": 83,
   "id": "d978ccb0",
   "metadata": {},
   "outputs": [
    {
     "data": {
      "text/plain": [
       "<AxesSubplot:xlabel='Age', ylabel='Salary'>"
      ]
     },
     "execution_count": 83,
     "metadata": {},
     "output_type": "execute_result"
    },
    {
     "data": {
      "image/png": "[encoded data removed]",
      "text/plain": [
       "<Figure size 432x288 with 1 Axes>"
      ]
     },
     "metadata": {
      "needs_background": "light"
     },
     "output_type": "display_data"
    }
   ],
   "source": [
    "sns.boxplot(data = select, x = \"Age\", y = \"Salary\", hue = \"Position\")"
   ]
  },
  {
   "cell_type": "markdown",
   "id": "f11a05b2",
   "metadata": {},
   "source": [
    "### 2번. boxplot을 이용하여 나이와 연봉 그래프 그리기\n",
    "- 같은 포지션에서 연봉 차이가 가장 큰 나이는 32세이고, 포지션은 PF이다.\n",
    "- 나이와 포지션이 같은 선수가 많은 나이는 22세이다. (PF-PF, SG-SG)\n",
    "- 포지션과 나이가 같은 선수가 많은 포지션은 PF이다. (22세, 32세)\n",
    "- 같은 나이의 선수가 가장 많은 나이는 22세이다. (6개의 데이터 존재)\n",
    "- 같은 나이에서 포지션의 종류가 많은 나이는 22세이다. (4개의 포지션)\n",
    "- 연봉이 가장 높은 선수의 포지션은 PF이다.\n",
    "- 연봉이 가장 높은 선수의 나이는 32세이다."
   ]
  },
  {
   "cell_type": "code",
   "execution_count": 84,
   "id": "2f9835d8",
   "metadata": {},
   "outputs": [
    {
     "data": {
      "text/plain": [
       "<seaborn.axisgrid.JointGrid at 0x237ecc938b0>"
      ]
     },
     "execution_count": 84,
     "metadata": {},
     "output_type": "execute_result"
    },
    {
     "data": {
      "image/png": "[encoded data removed]",
      "text/plain": [
       "<Figure size 432x432 with 3 Axes>"
      ]
     },
     "metadata": {
      "needs_background": "light"
     },
     "output_type": "display_data"
    }
   ],
   "source": [
    "sns.jointplot(data = select, x = \"Age\", y = \"Salary\", kind = \"reg\")"
   ]
  },
  {
   "cell_type": "markdown",
   "id": "b33259a0",
   "metadata": {},
   "source": [
    "### 3번. jointplot을 이용하여 나이와 연봉 그래프 그리기(회귀분석)\n",
    "- 나이에 따른 연봉 인상이 크다. (그래프의 기울기가 가파름)\n",
    "- 20대 중반부터 나이가 많을수록 연봉 격차가 크다. (파란색 영역이 넓어짐)\n",
    "- 두 팀에는 20대 초중반의 선수가 많다. (x축 히스토그램상 20대 초중반 -> 30대 초중반 -> 나머지의 순서)\n",
    "- 두 팀에는 연봉이 눈에 띄게 높은 선수는 많지 않다. (y축 히스토그램상 기준점인 0에 대부분이 몰림)\n",
    "- 두 팀 중 연봉이 높은 선수는 30대 초중반에 많다. (x축 기준 32.5~35.0)\n",
    "- 연봉이 가장 높은 선수는 다른 선수들과 격차가 크다. (y값을 보면 과제 예시의 연봉보다 더 높은 연봉을 받음)"
   ]
  },
  {
   "cell_type": "code",
   "execution_count": 85,
   "id": "dbeb8181",
   "metadata": {
    "scrolled": true
   },
   "outputs": [
    {
     "data": {
      "image/png": "[encoded data removed]",
      "text/plain": [
       "<Figure size 1490.38x360 with 1 Axes>"
      ]
     },
     "metadata": {},
     "output_type": "display_data"
    }
   ],
   "source": [
    "with sns.axes_style('white'):\n",
    "    g = sns.catplot(data = select, x = \"Age\", kind = \"count\", hue = \"Position\", aspect = 4.0)"
   ]
  },
  {
   "cell_type": "markdown",
   "id": "f83ba75c",
   "metadata": {},
   "source": [
    "### 4번. catplot을 이용하여 나이와 포지션 분포 그래프 그리기\n",
    "- 가장 많은 종류의 포지션이 있는 나이는 22세이다. (4종류의 포지션)\n",
    "- 22세, 24세, 30세, 32세는 같은 포지션인 선수가 2명씩 있다.\n",
    "- 나이와 포지션이 같은 선수는 각각 2명이 최대이다.\n",
    "- 각 포지션당 선수의 수는 PF: 9, PG: 6, SF: 7, C: 3, SG: 5명이다."
   ]
  }
 ],
 "metadata": {
  "kernelspec": {
   "display_name": "Python 3 (ipykernel)",
   "language": "python",
   "name": "python3"
  },
  "language_info": {
   "codemirror_mode": {
    "name": "ipython",
    "version": 3
   },
   "file_extension": ".py",
   "mimetype": "text/x-python",
   "name": "python",
   "nbconvert_exporter": "python",
   "pygments_lexer": "ipython3",
   "version": "3.9.5"
  }
 },
 "nbformat": 4,
 "nbformat_minor": 5
}
