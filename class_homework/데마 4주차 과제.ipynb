{
 "cells": [
  {
   "cell_type": "markdown",
   "id": "372a4cd1",
   "metadata": {},
   "source": [
    "## 학생들 점수 랜덤 값 생성\n",
    "### 학생들 점수"
   ]
  },
  {
   "cell_type": "code",
   "execution_count": 149,
   "id": "2757db41",
   "metadata": {
    "scrolled": true
   },
   "outputs": [
    {
     "data": {
      "text/html": [
       "<div>\n",
       "<style scoped>\n",
       "    .dataframe tbody tr th:only-of-type {\n",
       "        vertical-align: middle;\n",
       "    }\n",
       "\n",
       "    .dataframe tbody tr th {\n",
       "        vertical-align: top;\n",
       "    }\n",
       "\n",
       "    .dataframe thead th {\n",
       "        text-align: right;\n",
       "    }\n",
       "</style>\n",
       "<table border=\"1\" class=\"dataframe\">\n",
       "  <thead>\n",
       "    <tr style=\"text-align: right;\">\n",
       "      <th></th>\n",
       "      <th>Korean</th>\n",
       "      <th>English</th>\n",
       "      <th>Math</th>\n",
       "      <th>Science</th>\n",
       "    </tr>\n",
       "    <tr>\n",
       "      <th>No</th>\n",
       "      <th></th>\n",
       "      <th></th>\n",
       "      <th></th>\n",
       "      <th></th>\n",
       "    </tr>\n",
       "  </thead>\n",
       "  <tbody>\n",
       "    <tr>\n",
       "      <th>No.1</th>\n",
       "      <td>34</td>\n",
       "      <td>55</td>\n",
       "      <td>64</td>\n",
       "      <td>80</td>\n",
       "    </tr>\n",
       "    <tr>\n",
       "      <th>No.2</th>\n",
       "      <td>79</td>\n",
       "      <td>67</td>\n",
       "      <td>92</td>\n",
       "      <td>22</td>\n",
       "    </tr>\n",
       "    <tr>\n",
       "      <th>No.3</th>\n",
       "      <td>72</td>\n",
       "      <td>61</td>\n",
       "      <td>63</td>\n",
       "      <td>69</td>\n",
       "    </tr>\n",
       "    <tr>\n",
       "      <th>No.4</th>\n",
       "      <td>74</td>\n",
       "      <td>83</td>\n",
       "      <td>56</td>\n",
       "      <td>79</td>\n",
       "    </tr>\n",
       "    <tr>\n",
       "      <th>No.5</th>\n",
       "      <td>43</td>\n",
       "      <td>97</td>\n",
       "      <td>52</td>\n",
       "      <td>51</td>\n",
       "    </tr>\n",
       "    <tr>\n",
       "      <th>No.6</th>\n",
       "      <td>68</td>\n",
       "      <td>60</td>\n",
       "      <td>25</td>\n",
       "      <td>81</td>\n",
       "    </tr>\n",
       "    <tr>\n",
       "      <th>No.7</th>\n",
       "      <td>96</td>\n",
       "      <td>91</td>\n",
       "      <td>0</td>\n",
       "      <td>79</td>\n",
       "    </tr>\n",
       "    <tr>\n",
       "      <th>No.8</th>\n",
       "      <td>76</td>\n",
       "      <td>93</td>\n",
       "      <td>44</td>\n",
       "      <td>72</td>\n",
       "    </tr>\n",
       "    <tr>\n",
       "      <th>No.9</th>\n",
       "      <td>46</td>\n",
       "      <td>39</td>\n",
       "      <td>79</td>\n",
       "      <td>17</td>\n",
       "    </tr>\n",
       "    <tr>\n",
       "      <th>No.10</th>\n",
       "      <td>2</td>\n",
       "      <td>34</td>\n",
       "      <td>73</td>\n",
       "      <td>56</td>\n",
       "    </tr>\n",
       "  </tbody>\n",
       "</table>\n",
       "</div>"
      ],
      "text/plain": [
       "       Korean  English  Math  Science\n",
       "No                                   \n",
       "No.1       34       55    64       80\n",
       "No.2       79       67    92       22\n",
       "No.3       72       61    63       69\n",
       "No.4       74       83    56       79\n",
       "No.5       43       97    52       51\n",
       "No.6       68       60    25       81\n",
       "No.7       96       91     0       79\n",
       "No.8       76       93    44       72\n",
       "No.9       46       39    79       17\n",
       "No.10       2       34    73       56"
      ]
     },
     "execution_count": 149,
     "metadata": {},
     "output_type": "execute_result"
    }
   ],
   "source": [
    "import matplotlib.pyplot as plt\n",
    "import matplotlib\n",
    "import numpy as np\n",
    "import pandas as pd                 # 임포트\n",
    "Score = np.random.randint(100, size=(10, 4)) # 4행 10열의 데이터 생성\n",
    "sc = pd.DataFrame(Score, index = ['No.1', 'No.2', 'No.3', 'No.4', 'No.5', 'No.6', 'No.7', 'No.8', 'No.9', 'No.10'])\n",
    "sc.columns = ['Korean', 'English', 'Math', 'Science']\n",
    "sc.index.name = 'No'                                     # 가시성을 위한가로 세로 정렬"
   ]
  },
  {
   "cell_type": "code",
   "execution_count": 155,
   "id": "2c069f63",
   "metadata": {},
   "outputs": [],
   "source": [
    "def get_point():\n",
    "    import matplotlib.pyplot as plt\n",
    "    import matplotlib\n",
    "    import numpy as np\n",
    "    import pandas as pd                 # 임포트\n",
    "    Score = np.random.randint(100, size=(10, 4)) # 4행 10열의 데이터 생성\n",
    "    sc = pd.DataFrame(Score, index = ['No.1', 'No.2', 'No.3', 'No.4', 'No.5', 'No.6', 'No.7', 'No.8', 'No.9', 'No.10'])\n",
    "    sc.columns = ['Korean', 'English', 'Math', 'Science']\n",
    "    sc.index.name = 'No'                                     # 가시성을 위한가로 세로 정렬\n",
    "    return(sc)"
   ]
  },
  {
   "cell_type": "markdown",
   "id": "7b6503fe",
   "metadata": {},
   "source": [
    "### 1번 문제"
   ]
  },
  {
   "cell_type": "code",
   "execution_count": 156,
   "id": "8c9c3e17",
   "metadata": {},
   "outputs": [
    {
     "data": {
      "image/png": "[encoded data removed]",
      "text/plain": [
       "<Figure size 400x300 with 1 Axes>"
      ]
     },
     "metadata": {},
     "output_type": "display_data"
    }
   ],
   "source": [
    "def num1():    \n",
    "    get_point()\n",
    "    plt.scatter(sc['English'], sc['Korean'])\n",
    "    plt.xlabel('English')\n",
    "    plt.ylabel('Korean')\n",
    "num1()"
   ]
  },
  {
   "cell_type": "markdown",
   "id": "22f00d54",
   "metadata": {},
   "source": [
    "## 2번 문제"
   ]
  },
  {
   "cell_type": "code",
   "execution_count": 157,
   "id": "7ab43103",
   "metadata": {},
   "outputs": [],
   "source": [
    "def num2():\n",
    "    get_point()\n",
    "    \n",
    "    fig, axs = plt.subplots(2, 2, figsize=(20, 10))\n",
    "\n",
    "    axs[0, 0].bar(sc['Korean'], sc['Korean'], label = 'Korean')\n",
    "    axs[0, 0].legend()\n",
    "\n",
    "    axs[0, 1].bar(sc['English'], sc['English'], label = 'English')\n",
    "    axs[0, 1].legend()\n",
    "\n",
    "    axs[1, 0].bar(sc['Math'], sc['Math'], label = 'Math')\n",
    "    axs[1, 0].legend()\n",
    "\n",
    "    axs[1, 1].bar(sc['Science'], sc['Science'], label = 'Science')\n",
    "    axs[1, 1].legend()"
   ]
  },
  {
   "cell_type": "markdown",
   "id": "2fe9179e",
   "metadata": {},
   "source": [
    "## 3번 문제"
   ]
  },
  {
   "cell_type": "code",
   "execution_count": 152,
   "id": "dad136e8",
   "metadata": {},
   "outputs": [
    {
     "name": "stdout",
     "output_type": "stream",
     "text": [
      "[1, 0, 4, 5]\n"
     ]
    },
    {
     "data": {
      "image/png": "[encoded data removed]",
      "text/plain": [
       "<Figure size 400x300 with 1 Axes>"
      ]
     },
     "metadata": {},
     "output_type": "display_data"
    }
   ],
   "source": [
    "def num3():\n",
    "    get_point()\n",
    "    \n",
    "    forcir = Score[:, 0:1] # 국어 점수만 빼냄\n",
    "    import itertools\n",
    "    forcir2 = list(itertools.chain(*forcir)) #2차원 배열을 1차원 배열로 배치\n",
    "    A = 0\n",
    "    B = 0\n",
    "    C = 0\n",
    "    D = 0\n",
    "    for i in range(10):\n",
    "        if forcir2[i] >= 90:\n",
    "            A = A+1\n",
    "        elif 80 <= forcir2[i] < 90:\n",
    "            B = B+1\n",
    "        elif 70 <= forcir2[i] < 80:\n",
    "            C = C+1\n",
    "        elif forcir2[i] < 70:\n",
    "            D = D+1\n",
    "    values = [A, B, C, D]\n",
    "    # print(values)\n",
    "    labels = ['A','B','C','D']\n",
    "    plt.pie(values, labels=labels)\n",
    "    plt.legend(loc=(1.2, 0.3))\n",
    "    plt.show()"
   ]
  },
  {
   "cell_type": "markdown",
   "id": "809fc635",
   "metadata": {},
   "source": [
    "## 4번 문제"
   ]
  },
  {
   "cell_type": "code",
   "execution_count": 153,
   "id": "c3c6930e",
   "metadata": {},
   "outputs": [
    {
     "data": {
      "image/png": "[encoded data removed]",
      "text/plain": [
       "<Figure size 800x400 with 1 Axes>"
      ]
     },
     "metadata": {},
     "output_type": "display_data"
    }
   ],
   "source": [
    "def num4():\n",
    "    get_point()\n",
    "\n",
    "    Koxnm = [sc['Korean'].min(), sc['Korean'].median(), sc['Korean'].max()]\n",
    "    Engnm = [sc['English'].min(), sc['English'].median(), sc['English'].max()]\n",
    "    Matnm = [sc['Math'].min(), sc['Math'].median(), sc['Math'].max()]\n",
    "    Sicnm = [sc['Science'].min(), sc['Science'].median(), sc['Science'].max()]\n",
    "    arrlist=([Koxnm, Engnm, Matnm, Sicnm])\n",
    "    # plt.boxplot(arrlist)\n",
    "\n",
    "    fig1, ax = plt.subplots(nrows=1,ncols=1, figsize=(8, 4))\n",
    "    ax.boxplot(arrlist)\n",
    "    ax.set_xticklabels(['Korean', 'English', 'Math', 'Science'])\n",
    "    plt.show()"
   ]
  },
  {
   "cell_type": "code",
   "execution_count": null,
   "id": "74645fe7",
   "metadata": {},
   "outputs": [],
   "source": []
  },
  {
   "cell_type": "code",
   "execution_count": null,
   "id": "36b6404f",
   "metadata": {},
   "outputs": [],
   "source": []
  }
 ],
 "metadata": {
  "kernelspec": {
   "display_name": "Python 3 (ipykernel)",
   "language": "python",
   "name": "python3"
  },
  "language_info": {
   "codemirror_mode": {
    "name": "ipython",
    "version": 3
   },
   "file_extension": ".py",
   "mimetype": "text/x-python",
   "name": "python",
   "nbconvert_exporter": "python",
   "pygments_lexer": "ipython3",
   "version": "3.10.7"
  }
 },
 "nbformat": 4,
 "nbformat_minor": 5
}
