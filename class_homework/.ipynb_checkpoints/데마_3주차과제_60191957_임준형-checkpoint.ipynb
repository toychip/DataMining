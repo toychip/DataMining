{
 "cells": [
  {
   "cell_type": "code",
   "execution_count": 1,
   "id": "ba0079c6",
   "metadata": {},
   "outputs": [
    {
     "name": "stdout",
     "output_type": "stream",
     "text": [
      "[[83 75 34 17]\n",
      " [75 59 85 79]\n",
      " [26 11 68 97]\n",
      " [39 74 99 77]\n",
      " [97  2 26 39]\n",
      " [30 55 55 21]\n",
      " [73 81 81 71]\n",
      " [12 38 77 19]\n",
      " [86 67 70 44]\n",
      " [59 81 19 81]]\n"
     ]
    },
    {
     "data": {
      "text/plain": [
       "array([[83, 75, 34, 17],\n",
       "       [26, 11, 68, 97],\n",
       "       [97,  2, 26, 39],\n",
       "       [73, 81, 81, 71],\n",
       "       [86, 67, 70, 44]])"
      ]
     },
     "execution_count": 1,
     "metadata": {},
     "output_type": "execute_result"
    }
   ],
   "source": [
    "import numpy as np\n",
    "Score = np.random.randint(100, size=(10, 4))\n",
    "print(Score)\n",
    "Score[::2]"
   ]
  },
  {
   "cell_type": "code",
   "execution_count": 2,
   "id": "a044717c",
   "metadata": {},
   "outputs": [],
   "source": [
    "def num1():\n",
    "    print()\n",
    "    print(\"1번 문제\")\n",
    "    print()                     # 행은 0~9까지 모두 출력해야하므로 행은 0:1 에 수학 점수는\n",
    "    for i in range(10):         # 인덱스에서 2열에 있기에 2:3을 사용한다, 반복문을 이용하여 수학 점수만 출력\n",
    "        print(\"{0}번째 학생의 수학 점수: {1}점\".format(i+1, int(Score[i:i+1, 2:3])))"
   ]
  },
  {
   "cell_type": "code",
   "execution_count": 3,
   "id": "80da2615",
   "metadata": {},
   "outputs": [],
   "source": [
    "def num2():\n",
    "    print()\n",
    "    print(\"2번 문제\")\n",
    "    print()\n",
    "    sum_Score = np.sum(Score, axis=1)          # 넘파이 sum함수를 이용하여 각 학생의 점수를 합해야하므로\n",
    "    for k in range(10):               # 행들의 값을 더하는 axis를 이용한다.\n",
    "        print(\"{0}번째 학생의 점수 합계: {1}점\".format(k+1, sum_Score[k]))\n",
    "                            # 반복문을 이용하여 번째는 반복 i+1, 합한 리스트를 새로 만들어서 출력한다."
   ]
  },
  {
   "cell_type": "code",
   "execution_count": 4,
   "id": "0fee4e36",
   "metadata": {},
   "outputs": [],
   "source": [
    "def num3():\n",
    "    print()\n",
    "    print(\"3번 문제\")\n",
    "    print()\n",
    "    \n",
    "\n",
    "    first_score = Score[0:1, :]\n",
    "    second_score = Score[2:3, :]            # 인덱스에 주어진 값으로 불린 인덱스를 구하는 5번같은 문제는 풀 수 있는데..\n",
    "    third_score = Score[4:5, :]             # 2차원 배열에서 불린 인덱스만을 이용하여 홀수행만 갖고 오는 방법을 몰라서 이렇게 풀었습니다..\n",
    "    fourth_score = Score[6:7, :]            # 최선을 다해서 계속 생각해봤지만 이 방법 말곤 도저히 모르겠어서 이렇게 제출합니다 ㅠㅠ\n",
    "    fifth_score = Score[8:9, :]\n",
    "    # concatenate 함수를 이용하여 합친다. axis=0 이므로 한 행 후 바로 다음 행이 이어지게 하는 구조다.\n",
    "    odd_score = np.concatenate([first_score, second_score, third_score, fourth_score, fifth_score, ], axis=0)\n",
    "    for i in range(5):\n",
    "        print(\"{0}번째 학생의 과학 점수: {1}, 수학 점수:{2}, 국어 점수:{3}, 영어 점수:{4}\" \\\n",
    "              .format(i + 1, odd_score[i][3], odd_score[i][2], odd_score[i][0], odd_score[i][1]))"
   ]
  },
  {
   "cell_type": "code",
   "execution_count": 5,
   "id": "adbd30e5",
   "metadata": {},
   "outputs": [],
   "source": [
    "def num4():\n",
    "    print()\n",
    "    print(\"4번 문제\")\n",
    "    print()                                     # 과목을 출력할 subject리스트를 만든다.\n",
    "    subject = [\"국어\", \"영어\", \"수학\", \"과학\"]\n",
    "    # 최대값을 구하는 max함수를 사용하고, 과목 중에 최대값을 구해야하므로 axis=0으로 열의 최대값을 구한다.\n",
    "    max_Score = np.max(Score, axis=0)           # 최대값을 저장할 max_Score리스트를 만든다.\n",
    "    for j in range(4):                          # 과목 이름과 점수를 함께 출력한다.\n",
    "        print(\"{0}의 최대 점수: {1}\".format(subject[j], max_Score[j]))"
   ]
  },
  {
   "cell_type": "code",
   "execution_count": 6,
   "id": "23e70ee3",
   "metadata": {},
   "outputs": [],
   "source": [
    "def num5():\n",
    "    print()\n",
    "    print(\"5번 문제\")\n",
    "    print()\n",
    "    Eng_Score = Score[:, 1:2]       # 영어 점수를 모아놓은 리스트 생성\n",
    "    Eng_under90_Score = Eng_Score < 90  # 영어 점수가 90점 미만인지 아닌지 boolean값으로 삽입\n",
    "    # boolean값으로 True인 학생들의 (90점 미만인 학생들의) 점수만을 가져옴\n",
    "    print(\"90점 미만의 학생들의 점수: {0}\".format(Eng_Score[Eng_under90_Score]))"
   ]
  },
  {
   "cell_type": "code",
   "execution_count": 7,
   "id": "a79d91f8",
   "metadata": {},
   "outputs": [],
   "source": [
    "def main():\n",
    "    print(\"60191957 임준형 데이터 마이닝 3주차 과제\")\n",
    "    print()\n",
    "    print(\"학생들의 전체 점수표\")\n",
    "    print(Score)\n",
    "    num1()\n",
    "    num2()\n",
    "    num3() \n",
    "    num4()\n",
    "    num5()"
   ]
  },
  {
   "cell_type": "code",
   "execution_count": 7,
   "id": "a112392d",
   "metadata": {},
   "outputs": [
    {
     "name": "stdout",
     "output_type": "stream",
     "text": [
      "60191957 임준형 데이터 마이닝 3주차 과제\n",
      "\n",
      "학생들의 전체 점수표\n",
      "[[ 5  5 69 13]\n",
      " [68  2 97 58]\n",
      " [89 91 68 87]\n",
      " [27 24  5 67]\n",
      " [30 82 30 21]\n",
      " [72  7  1 47]\n",
      " [38 42 22 99]\n",
      " [13 26 60 98]\n",
      " [92 97 52 52]\n",
      " [48 69 22 69]]\n",
      "\n",
      "1번 문제\n",
      "\n",
      "1번째 학생의 수학 점수: 69점\n",
      "2번째 학생의 수학 점수: 97점\n",
      "3번째 학생의 수학 점수: 68점\n",
      "4번째 학생의 수학 점수: 5점\n",
      "5번째 학생의 수학 점수: 30점\n",
      "6번째 학생의 수학 점수: 1점\n",
      "7번째 학생의 수학 점수: 22점\n",
      "8번째 학생의 수학 점수: 60점\n",
      "9번째 학생의 수학 점수: 52점\n",
      "10번째 학생의 수학 점수: 22점\n",
      "\n",
      "2번 문제\n",
      "\n",
      "1번째 학생의 점수 합계: 92점\n",
      "2번째 학생의 점수 합계: 225점\n",
      "3번째 학생의 점수 합계: 335점\n",
      "4번째 학생의 점수 합계: 123점\n",
      "5번째 학생의 점수 합계: 163점\n",
      "6번째 학생의 점수 합계: 127점\n",
      "7번째 학생의 점수 합계: 201점\n",
      "8번째 학생의 점수 합계: 197점\n",
      "9번째 학생의 점수 합계: 293점\n",
      "10번째 학생의 점수 합계: 208점\n",
      "\n",
      "3번 문제\n",
      "\n",
      "1번째 학생의 과학 점수: 13, 수학 점수:69, 국어 점수:5, 영어 점수:5\n",
      "2번째 학생의 과학 점수: 87, 수학 점수:68, 국어 점수:89, 영어 점수:91\n",
      "3번째 학생의 과학 점수: 21, 수학 점수:30, 국어 점수:30, 영어 점수:82\n",
      "4번째 학생의 과학 점수: 99, 수학 점수:22, 국어 점수:38, 영어 점수:42\n",
      "5번째 학생의 과학 점수: 52, 수학 점수:52, 국어 점수:92, 영어 점수:97\n",
      "\n",
      "4번 문제\n",
      "\n",
      "국어의 최대 점수: 92\n",
      "영어의 최대 점수: 97\n",
      "수학의 최대 점수: 97\n",
      "과학의 최대 점수: 99\n",
      "\n",
      "5번 문제\n",
      "\n",
      "90점 미만의 학생들의 점수: [ 5  2 24 82  7 42 26 69]\n"
     ]
    }
   ],
   "source": [
    "main()"
   ]
  },
  {
   "cell_type": "code",
   "execution_count": null,
   "id": "994e8ba8",
   "metadata": {},
   "outputs": [],
   "source": []
  }
 ],
 "metadata": {
  "kernelspec": {
   "display_name": "Python 3 (ipykernel)",
   "language": "python",
   "name": "python3"
  },
  "language_info": {
   "codemirror_mode": {
    "name": "ipython",
    "version": 3
   },
   "file_extension": ".py",
   "mimetype": "text/x-python",
   "name": "python",
   "nbconvert_exporter": "python",
   "pygments_lexer": "ipython3",
   "version": "3.9.6"
  }
 },
 "nbformat": 4,
 "nbformat_minor": 5
}
